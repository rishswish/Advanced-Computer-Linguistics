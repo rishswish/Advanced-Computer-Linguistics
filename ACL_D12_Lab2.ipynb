{
  "nbformat": 4,
  "nbformat_minor": 0,
  "metadata": {
    "colab": {
      "provenance": [],
      "gpuType": "T4"
    },
    "kernelspec": {
      "name": "python3",
      "display_name": "Python 3"
    },
    "language_info": {
      "name": "python"
    },
    "accelerator": "GPU"
  },
  "cells": [
    {
      "cell_type": "markdown",
      "source": [
        "* NAME: Rishabh Patil\n",
        "* SAP: 60009200056\n",
        "* BATCH: D12"
      ],
      "metadata": {
        "id": "ZqRAPtO6Za-1"
      }
    },
    {
      "cell_type": "markdown",
      "source": [
        "#**Lab 2: Implement a Sentiment Analysis on Linguistic Data**"
      ],
      "metadata": {
        "id": "XD09DsU0Zcs1"
      }
    },
    {
      "cell_type": "code",
      "execution_count": null,
      "metadata": {
        "id": "rIAwBYQNZXZa"
      },
      "outputs": [],
      "source": [
        "import re\n",
        "import os\n",
        "import nltk\n",
        "import math\n",
        "import heapq\n",
        "import gensim\n",
        "import nltk.corpus\n",
        "import numpy as np\n",
        "import string as st\n",
        "import pandas as pd\n",
        "from sklearn import metrics\n",
        "import matplotlib.pyplot as plt\n",
        "from nltk.corpus import stopwords\n",
        "from nltk.tokenize import word_tokenize\n",
        "from nltk.tokenize import sent_tokenize\n",
        "from nltk.tokenize import RegexpTokenizer\n",
        "from nltk import PorterStemmer, WordNetLemmatizer\n",
        "from sklearn.linear_model import LogisticRegression\n",
        "from sklearn.model_selection import train_test_split\n",
        "from sklearn.feature_extraction.text import CountVectorizer\n",
        "from sklearn.feature_extraction.text import TfidfVectorizer\n",
        "from sklearn.metrics import accuracy_score, classification_report, confusion_matrix"
      ]
    },
    {
      "cell_type": "code",
      "source": [
        "nltk.download('all')"
      ],
      "metadata": {
        "id": "o2l35itwe6Ps"
      },
      "execution_count": null,
      "outputs": []
    },
    {
      "cell_type": "markdown",
      "source": [
        "**Loading the data**"
      ],
      "metadata": {
        "id": "O30vzwbzfYDj"
      }
    },
    {
      "cell_type": "code",
      "source": [
        "df = pd.read_csv(\"/content/IMDB Dataset.csv\", engine='python',nrows=2000)\n",
        "df.head()"
      ],
      "metadata": {
        "id": "56tLXNVuZgdC",
        "colab": {
          "base_uri": "https://localhost:8080/",
          "height": 206
        },
        "outputId": "65359900-b7c6-4bec-e66e-d081bab5a77f"
      },
      "execution_count": null,
      "outputs": [
        {
          "output_type": "execute_result",
          "data": {
            "text/plain": [
              "                                              review sentiment\n",
              "0  One of the other reviewers has mentioned that ...  positive\n",
              "1  A wonderful little production. <br /><br />The...  positive\n",
              "2  I thought this was a wonderful way to spend ti...  positive\n",
              "3  Basically there's a family where a little boy ...  negative\n",
              "4  Petter Mattei's \"Love in the Time of Money\" is...  positive"
            ],
            "text/html": [
              "\n",
              "  <div id=\"df-64cdacef-b005-4d0c-90a2-c7b4a089469c\" class=\"colab-df-container\">\n",
              "    <div>\n",
              "<style scoped>\n",
              "    .dataframe tbody tr th:only-of-type {\n",
              "        vertical-align: middle;\n",
              "    }\n",
              "\n",
              "    .dataframe tbody tr th {\n",
              "        vertical-align: top;\n",
              "    }\n",
              "\n",
              "    .dataframe thead th {\n",
              "        text-align: right;\n",
              "    }\n",
              "</style>\n",
              "<table border=\"1\" class=\"dataframe\">\n",
              "  <thead>\n",
              "    <tr style=\"text-align: right;\">\n",
              "      <th></th>\n",
              "      <th>review</th>\n",
              "      <th>sentiment</th>\n",
              "    </tr>\n",
              "  </thead>\n",
              "  <tbody>\n",
              "    <tr>\n",
              "      <th>0</th>\n",
              "      <td>One of the other reviewers has mentioned that ...</td>\n",
              "      <td>positive</td>\n",
              "    </tr>\n",
              "    <tr>\n",
              "      <th>1</th>\n",
              "      <td>A wonderful little production. &lt;br /&gt;&lt;br /&gt;The...</td>\n",
              "      <td>positive</td>\n",
              "    </tr>\n",
              "    <tr>\n",
              "      <th>2</th>\n",
              "      <td>I thought this was a wonderful way to spend ti...</td>\n",
              "      <td>positive</td>\n",
              "    </tr>\n",
              "    <tr>\n",
              "      <th>3</th>\n",
              "      <td>Basically there's a family where a little boy ...</td>\n",
              "      <td>negative</td>\n",
              "    </tr>\n",
              "    <tr>\n",
              "      <th>4</th>\n",
              "      <td>Petter Mattei's \"Love in the Time of Money\" is...</td>\n",
              "      <td>positive</td>\n",
              "    </tr>\n",
              "  </tbody>\n",
              "</table>\n",
              "</div>\n",
              "    <div class=\"colab-df-buttons\">\n",
              "\n",
              "  <div class=\"colab-df-container\">\n",
              "    <button class=\"colab-df-convert\" onclick=\"convertToInteractive('df-64cdacef-b005-4d0c-90a2-c7b4a089469c')\"\n",
              "            title=\"Convert this dataframe to an interactive table.\"\n",
              "            style=\"display:none;\">\n",
              "\n",
              "  <svg xmlns=\"http://www.w3.org/2000/svg\" height=\"24px\" viewBox=\"0 -960 960 960\">\n",
              "    <path d=\"M120-120v-720h720v720H120Zm60-500h600v-160H180v160Zm220 220h160v-160H400v160Zm0 220h160v-160H400v160ZM180-400h160v-160H180v160Zm440 0h160v-160H620v160ZM180-180h160v-160H180v160Zm440 0h160v-160H620v160Z\"/>\n",
              "  </svg>\n",
              "    </button>\n",
              "\n",
              "  <style>\n",
              "    .colab-df-container {\n",
              "      display:flex;\n",
              "      gap: 12px;\n",
              "    }\n",
              "\n",
              "    .colab-df-convert {\n",
              "      background-color: #E8F0FE;\n",
              "      border: none;\n",
              "      border-radius: 50%;\n",
              "      cursor: pointer;\n",
              "      display: none;\n",
              "      fill: #1967D2;\n",
              "      height: 32px;\n",
              "      padding: 0 0 0 0;\n",
              "      width: 32px;\n",
              "    }\n",
              "\n",
              "    .colab-df-convert:hover {\n",
              "      background-color: #E2EBFA;\n",
              "      box-shadow: 0px 1px 2px rgba(60, 64, 67, 0.3), 0px 1px 3px 1px rgba(60, 64, 67, 0.15);\n",
              "      fill: #174EA6;\n",
              "    }\n",
              "\n",
              "    .colab-df-buttons div {\n",
              "      margin-bottom: 4px;\n",
              "    }\n",
              "\n",
              "    [theme=dark] .colab-df-convert {\n",
              "      background-color: #3B4455;\n",
              "      fill: #D2E3FC;\n",
              "    }\n",
              "\n",
              "    [theme=dark] .colab-df-convert:hover {\n",
              "      background-color: #434B5C;\n",
              "      box-shadow: 0px 1px 3px 1px rgba(0, 0, 0, 0.15);\n",
              "      filter: drop-shadow(0px 1px 2px rgba(0, 0, 0, 0.3));\n",
              "      fill: #FFFFFF;\n",
              "    }\n",
              "  </style>\n",
              "\n",
              "    <script>\n",
              "      const buttonEl =\n",
              "        document.querySelector('#df-64cdacef-b005-4d0c-90a2-c7b4a089469c button.colab-df-convert');\n",
              "      buttonEl.style.display =\n",
              "        google.colab.kernel.accessAllowed ? 'block' : 'none';\n",
              "\n",
              "      async function convertToInteractive(key) {\n",
              "        const element = document.querySelector('#df-64cdacef-b005-4d0c-90a2-c7b4a089469c');\n",
              "        const dataTable =\n",
              "          await google.colab.kernel.invokeFunction('convertToInteractive',\n",
              "                                                    [key], {});\n",
              "        if (!dataTable) return;\n",
              "\n",
              "        const docLinkHtml = 'Like what you see? Visit the ' +\n",
              "          '<a target=\"_blank\" href=https://colab.research.google.com/notebooks/data_table.ipynb>data table notebook</a>'\n",
              "          + ' to learn more about interactive tables.';\n",
              "        element.innerHTML = '';\n",
              "        dataTable['output_type'] = 'display_data';\n",
              "        await google.colab.output.renderOutput(dataTable, element);\n",
              "        const docLink = document.createElement('div');\n",
              "        docLink.innerHTML = docLinkHtml;\n",
              "        element.appendChild(docLink);\n",
              "      }\n",
              "    </script>\n",
              "  </div>\n",
              "\n",
              "\n",
              "<div id=\"df-0cba9a21-8ba2-460e-9c12-0a6cb4608d9b\">\n",
              "  <button class=\"colab-df-quickchart\" onclick=\"quickchart('df-0cba9a21-8ba2-460e-9c12-0a6cb4608d9b')\"\n",
              "            title=\"Suggest charts.\"\n",
              "            style=\"display:none;\">\n",
              "\n",
              "<svg xmlns=\"http://www.w3.org/2000/svg\" height=\"24px\"viewBox=\"0 0 24 24\"\n",
              "     width=\"24px\">\n",
              "    <g>\n",
              "        <path d=\"M19 3H5c-1.1 0-2 .9-2 2v14c0 1.1.9 2 2 2h14c1.1 0 2-.9 2-2V5c0-1.1-.9-2-2-2zM9 17H7v-7h2v7zm4 0h-2V7h2v10zm4 0h-2v-4h2v4z\"/>\n",
              "    </g>\n",
              "</svg>\n",
              "  </button>\n",
              "\n",
              "<style>\n",
              "  .colab-df-quickchart {\n",
              "      --bg-color: #E8F0FE;\n",
              "      --fill-color: #1967D2;\n",
              "      --hover-bg-color: #E2EBFA;\n",
              "      --hover-fill-color: #174EA6;\n",
              "      --disabled-fill-color: #AAA;\n",
              "      --disabled-bg-color: #DDD;\n",
              "  }\n",
              "\n",
              "  [theme=dark] .colab-df-quickchart {\n",
              "      --bg-color: #3B4455;\n",
              "      --fill-color: #D2E3FC;\n",
              "      --hover-bg-color: #434B5C;\n",
              "      --hover-fill-color: #FFFFFF;\n",
              "      --disabled-bg-color: #3B4455;\n",
              "      --disabled-fill-color: #666;\n",
              "  }\n",
              "\n",
              "  .colab-df-quickchart {\n",
              "    background-color: var(--bg-color);\n",
              "    border: none;\n",
              "    border-radius: 50%;\n",
              "    cursor: pointer;\n",
              "    display: none;\n",
              "    fill: var(--fill-color);\n",
              "    height: 32px;\n",
              "    padding: 0;\n",
              "    width: 32px;\n",
              "  }\n",
              "\n",
              "  .colab-df-quickchart:hover {\n",
              "    background-color: var(--hover-bg-color);\n",
              "    box-shadow: 0 1px 2px rgba(60, 64, 67, 0.3), 0 1px 3px 1px rgba(60, 64, 67, 0.15);\n",
              "    fill: var(--button-hover-fill-color);\n",
              "  }\n",
              "\n",
              "  .colab-df-quickchart-complete:disabled,\n",
              "  .colab-df-quickchart-complete:disabled:hover {\n",
              "    background-color: var(--disabled-bg-color);\n",
              "    fill: var(--disabled-fill-color);\n",
              "    box-shadow: none;\n",
              "  }\n",
              "\n",
              "  .colab-df-spinner {\n",
              "    border: 2px solid var(--fill-color);\n",
              "    border-color: transparent;\n",
              "    border-bottom-color: var(--fill-color);\n",
              "    animation:\n",
              "      spin 1s steps(1) infinite;\n",
              "  }\n",
              "\n",
              "  @keyframes spin {\n",
              "    0% {\n",
              "      border-color: transparent;\n",
              "      border-bottom-color: var(--fill-color);\n",
              "      border-left-color: var(--fill-color);\n",
              "    }\n",
              "    20% {\n",
              "      border-color: transparent;\n",
              "      border-left-color: var(--fill-color);\n",
              "      border-top-color: var(--fill-color);\n",
              "    }\n",
              "    30% {\n",
              "      border-color: transparent;\n",
              "      border-left-color: var(--fill-color);\n",
              "      border-top-color: var(--fill-color);\n",
              "      border-right-color: var(--fill-color);\n",
              "    }\n",
              "    40% {\n",
              "      border-color: transparent;\n",
              "      border-right-color: var(--fill-color);\n",
              "      border-top-color: var(--fill-color);\n",
              "    }\n",
              "    60% {\n",
              "      border-color: transparent;\n",
              "      border-right-color: var(--fill-color);\n",
              "    }\n",
              "    80% {\n",
              "      border-color: transparent;\n",
              "      border-right-color: var(--fill-color);\n",
              "      border-bottom-color: var(--fill-color);\n",
              "    }\n",
              "    90% {\n",
              "      border-color: transparent;\n",
              "      border-bottom-color: var(--fill-color);\n",
              "    }\n",
              "  }\n",
              "</style>\n",
              "\n",
              "  <script>\n",
              "    async function quickchart(key) {\n",
              "      const quickchartButtonEl =\n",
              "        document.querySelector('#' + key + ' button');\n",
              "      quickchartButtonEl.disabled = true;  // To prevent multiple clicks.\n",
              "      quickchartButtonEl.classList.add('colab-df-spinner');\n",
              "      try {\n",
              "        const charts = await google.colab.kernel.invokeFunction(\n",
              "            'suggestCharts', [key], {});\n",
              "      } catch (error) {\n",
              "        console.error('Error during call to suggestCharts:', error);\n",
              "      }\n",
              "      quickchartButtonEl.classList.remove('colab-df-spinner');\n",
              "      quickchartButtonEl.classList.add('colab-df-quickchart-complete');\n",
              "    }\n",
              "    (() => {\n",
              "      let quickchartButtonEl =\n",
              "        document.querySelector('#df-0cba9a21-8ba2-460e-9c12-0a6cb4608d9b button');\n",
              "      quickchartButtonEl.style.display =\n",
              "        google.colab.kernel.accessAllowed ? 'block' : 'none';\n",
              "    })();\n",
              "  </script>\n",
              "</div>\n",
              "    </div>\n",
              "  </div>\n"
            ]
          },
          "metadata": {},
          "execution_count": 6
        }
      ]
    },
    {
      "cell_type": "code",
      "source": [
        "df.shape"
      ],
      "metadata": {
        "id": "MHt5_7-hhTl2",
        "colab": {
          "base_uri": "https://localhost:8080/"
        },
        "outputId": "aa9e4f9b-2621-4ea7-8b53-7b33cd9eda15"
      },
      "execution_count": null,
      "outputs": [
        {
          "output_type": "execute_result",
          "data": {
            "text/plain": [
              "(2000, 2)"
            ]
          },
          "metadata": {},
          "execution_count": 7
        }
      ]
    },
    {
      "cell_type": "markdown",
      "source": [
        "**Preprocessing the data**"
      ],
      "metadata": {
        "id": "QAe4KO87fVQM"
      }
    },
    {
      "cell_type": "code",
      "source": [
        "lemmatizer = WordNetLemmatizer()\n",
        "stemmer = PorterStemmer()"
      ],
      "metadata": {
        "id": "my9l23S9EVCW"
      },
      "execution_count": null,
      "outputs": []
    },
    {
      "cell_type": "code",
      "source": [
        "def preprocess(sentence):\n",
        "    sentence=str(sentence)\n",
        "    sentence = sentence.lower()\n",
        "    sentence=sentence.replace('{html}',\"\")\n",
        "    cleanr = re.compile('<.*?>')\n",
        "    cleantext = re.sub(cleanr, '', sentence)\n",
        "    rem_url=re.sub(r'http\\S+', '',cleantext)\n",
        "    rem_num = re.sub('[0-9]+', '', rem_url)\n",
        "    tokenizer = RegexpTokenizer(r'\\w+')\n",
        "    tokens = tokenizer.tokenize(rem_num)\n",
        "    filtered_words = [w for w in tokens if len(w) > 2 if not w in stopwords.words('english')]\n",
        "    stem_words=[stemmer.stem(w) for w in filtered_words]\n",
        "    lemma_words=[lemmatizer.lemmatize(w) for w in stem_words]\n",
        "    return lemma_words\n",
        "\n",
        "def preprocess_join(li):\n",
        "    return \" \".join(li)\n",
        "\n",
        "df['preproc_rev']=df['review'].map(lambda s:preprocess(s))\n",
        "df['preproc_rev_sentence']=df['preproc_rev'].map(lambda s:preprocess_join(s))"
      ],
      "metadata": {
        "id": "WdWflkW9whc4"
      },
      "execution_count": null,
      "outputs": []
    },
    {
      "cell_type": "code",
      "source": [
        "df.head()"
      ],
      "metadata": {
        "id": "A7nMkLtEw6KR",
        "colab": {
          "base_uri": "https://localhost:8080/",
          "height": 241
        },
        "outputId": "89670800-a594-4614-c35a-1a010c5214cd"
      },
      "execution_count": null,
      "outputs": [
        {
          "output_type": "execute_result",
          "data": {
            "text/plain": [
              "                                              review sentiment  \\\n",
              "0  One of the other reviewers has mentioned that ...  positive   \n",
              "1  A wonderful little production. <br /><br />The...  positive   \n",
              "2  I thought this was a wonderful way to spend ti...  positive   \n",
              "3  Basically there's a family where a little boy ...  negative   \n",
              "4  Petter Mattei's \"Love in the Time of Money\" is...  positive   \n",
              "\n",
              "                                         preproc_rev  \\\n",
              "0  [one, review, mention, watch, episod, hook, ri...   \n",
              "1  [wonder, littl, product, film, techniqu, unass...   \n",
              "2  [thought, wonder, way, spend, time, hot, summe...   \n",
              "3  [basic, famili, littl, boy, jake, think, zombi...   \n",
              "4  [petter, mattei, love, time, money, visual, st...   \n",
              "\n",
              "                                preproc_rev_sentence  \n",
              "0  one review mention watch episod hook right exa...  \n",
              "1  wonder littl product film techniqu unassum old...  \n",
              "2  thought wonder way spend time hot summer weeke...  \n",
              "3  basic famili littl boy jake think zombi closet...  \n",
              "4  petter mattei love time money visual stun film...  "
            ],
            "text/html": [
              "\n",
              "  <div id=\"df-e6c938e2-7e03-4cbf-a2bc-fe7f0cea42b1\" class=\"colab-df-container\">\n",
              "    <div>\n",
              "<style scoped>\n",
              "    .dataframe tbody tr th:only-of-type {\n",
              "        vertical-align: middle;\n",
              "    }\n",
              "\n",
              "    .dataframe tbody tr th {\n",
              "        vertical-align: top;\n",
              "    }\n",
              "\n",
              "    .dataframe thead th {\n",
              "        text-align: right;\n",
              "    }\n",
              "</style>\n",
              "<table border=\"1\" class=\"dataframe\">\n",
              "  <thead>\n",
              "    <tr style=\"text-align: right;\">\n",
              "      <th></th>\n",
              "      <th>review</th>\n",
              "      <th>sentiment</th>\n",
              "      <th>preproc_rev</th>\n",
              "      <th>preproc_rev_sentence</th>\n",
              "    </tr>\n",
              "  </thead>\n",
              "  <tbody>\n",
              "    <tr>\n",
              "      <th>0</th>\n",
              "      <td>One of the other reviewers has mentioned that ...</td>\n",
              "      <td>positive</td>\n",
              "      <td>[one, review, mention, watch, episod, hook, ri...</td>\n",
              "      <td>one review mention watch episod hook right exa...</td>\n",
              "    </tr>\n",
              "    <tr>\n",
              "      <th>1</th>\n",
              "      <td>A wonderful little production. &lt;br /&gt;&lt;br /&gt;The...</td>\n",
              "      <td>positive</td>\n",
              "      <td>[wonder, littl, product, film, techniqu, unass...</td>\n",
              "      <td>wonder littl product film techniqu unassum old...</td>\n",
              "    </tr>\n",
              "    <tr>\n",
              "      <th>2</th>\n",
              "      <td>I thought this was a wonderful way to spend ti...</td>\n",
              "      <td>positive</td>\n",
              "      <td>[thought, wonder, way, spend, time, hot, summe...</td>\n",
              "      <td>thought wonder way spend time hot summer weeke...</td>\n",
              "    </tr>\n",
              "    <tr>\n",
              "      <th>3</th>\n",
              "      <td>Basically there's a family where a little boy ...</td>\n",
              "      <td>negative</td>\n",
              "      <td>[basic, famili, littl, boy, jake, think, zombi...</td>\n",
              "      <td>basic famili littl boy jake think zombi closet...</td>\n",
              "    </tr>\n",
              "    <tr>\n",
              "      <th>4</th>\n",
              "      <td>Petter Mattei's \"Love in the Time of Money\" is...</td>\n",
              "      <td>positive</td>\n",
              "      <td>[petter, mattei, love, time, money, visual, st...</td>\n",
              "      <td>petter mattei love time money visual stun film...</td>\n",
              "    </tr>\n",
              "  </tbody>\n",
              "</table>\n",
              "</div>\n",
              "    <div class=\"colab-df-buttons\">\n",
              "\n",
              "  <div class=\"colab-df-container\">\n",
              "    <button class=\"colab-df-convert\" onclick=\"convertToInteractive('df-e6c938e2-7e03-4cbf-a2bc-fe7f0cea42b1')\"\n",
              "            title=\"Convert this dataframe to an interactive table.\"\n",
              "            style=\"display:none;\">\n",
              "\n",
              "  <svg xmlns=\"http://www.w3.org/2000/svg\" height=\"24px\" viewBox=\"0 -960 960 960\">\n",
              "    <path d=\"M120-120v-720h720v720H120Zm60-500h600v-160H180v160Zm220 220h160v-160H400v160Zm0 220h160v-160H400v160ZM180-400h160v-160H180v160Zm440 0h160v-160H620v160ZM180-180h160v-160H180v160Zm440 0h160v-160H620v160Z\"/>\n",
              "  </svg>\n",
              "    </button>\n",
              "\n",
              "  <style>\n",
              "    .colab-df-container {\n",
              "      display:flex;\n",
              "      gap: 12px;\n",
              "    }\n",
              "\n",
              "    .colab-df-convert {\n",
              "      background-color: #E8F0FE;\n",
              "      border: none;\n",
              "      border-radius: 50%;\n",
              "      cursor: pointer;\n",
              "      display: none;\n",
              "      fill: #1967D2;\n",
              "      height: 32px;\n",
              "      padding: 0 0 0 0;\n",
              "      width: 32px;\n",
              "    }\n",
              "\n",
              "    .colab-df-convert:hover {\n",
              "      background-color: #E2EBFA;\n",
              "      box-shadow: 0px 1px 2px rgba(60, 64, 67, 0.3), 0px 1px 3px 1px rgba(60, 64, 67, 0.15);\n",
              "      fill: #174EA6;\n",
              "    }\n",
              "\n",
              "    .colab-df-buttons div {\n",
              "      margin-bottom: 4px;\n",
              "    }\n",
              "\n",
              "    [theme=dark] .colab-df-convert {\n",
              "      background-color: #3B4455;\n",
              "      fill: #D2E3FC;\n",
              "    }\n",
              "\n",
              "    [theme=dark] .colab-df-convert:hover {\n",
              "      background-color: #434B5C;\n",
              "      box-shadow: 0px 1px 3px 1px rgba(0, 0, 0, 0.15);\n",
              "      filter: drop-shadow(0px 1px 2px rgba(0, 0, 0, 0.3));\n",
              "      fill: #FFFFFF;\n",
              "    }\n",
              "  </style>\n",
              "\n",
              "    <script>\n",
              "      const buttonEl =\n",
              "        document.querySelector('#df-e6c938e2-7e03-4cbf-a2bc-fe7f0cea42b1 button.colab-df-convert');\n",
              "      buttonEl.style.display =\n",
              "        google.colab.kernel.accessAllowed ? 'block' : 'none';\n",
              "\n",
              "      async function convertToInteractive(key) {\n",
              "        const element = document.querySelector('#df-e6c938e2-7e03-4cbf-a2bc-fe7f0cea42b1');\n",
              "        const dataTable =\n",
              "          await google.colab.kernel.invokeFunction('convertToInteractive',\n",
              "                                                    [key], {});\n",
              "        if (!dataTable) return;\n",
              "\n",
              "        const docLinkHtml = 'Like what you see? Visit the ' +\n",
              "          '<a target=\"_blank\" href=https://colab.research.google.com/notebooks/data_table.ipynb>data table notebook</a>'\n",
              "          + ' to learn more about interactive tables.';\n",
              "        element.innerHTML = '';\n",
              "        dataTable['output_type'] = 'display_data';\n",
              "        await google.colab.output.renderOutput(dataTable, element);\n",
              "        const docLink = document.createElement('div');\n",
              "        docLink.innerHTML = docLinkHtml;\n",
              "        element.appendChild(docLink);\n",
              "      }\n",
              "    </script>\n",
              "  </div>\n",
              "\n",
              "\n",
              "<div id=\"df-d584133e-8229-421b-b973-096fa9782997\">\n",
              "  <button class=\"colab-df-quickchart\" onclick=\"quickchart('df-d584133e-8229-421b-b973-096fa9782997')\"\n",
              "            title=\"Suggest charts.\"\n",
              "            style=\"display:none;\">\n",
              "\n",
              "<svg xmlns=\"http://www.w3.org/2000/svg\" height=\"24px\"viewBox=\"0 0 24 24\"\n",
              "     width=\"24px\">\n",
              "    <g>\n",
              "        <path d=\"M19 3H5c-1.1 0-2 .9-2 2v14c0 1.1.9 2 2 2h14c1.1 0 2-.9 2-2V5c0-1.1-.9-2-2-2zM9 17H7v-7h2v7zm4 0h-2V7h2v10zm4 0h-2v-4h2v4z\"/>\n",
              "    </g>\n",
              "</svg>\n",
              "  </button>\n",
              "\n",
              "<style>\n",
              "  .colab-df-quickchart {\n",
              "      --bg-color: #E8F0FE;\n",
              "      --fill-color: #1967D2;\n",
              "      --hover-bg-color: #E2EBFA;\n",
              "      --hover-fill-color: #174EA6;\n",
              "      --disabled-fill-color: #AAA;\n",
              "      --disabled-bg-color: #DDD;\n",
              "  }\n",
              "\n",
              "  [theme=dark] .colab-df-quickchart {\n",
              "      --bg-color: #3B4455;\n",
              "      --fill-color: #D2E3FC;\n",
              "      --hover-bg-color: #434B5C;\n",
              "      --hover-fill-color: #FFFFFF;\n",
              "      --disabled-bg-color: #3B4455;\n",
              "      --disabled-fill-color: #666;\n",
              "  }\n",
              "\n",
              "  .colab-df-quickchart {\n",
              "    background-color: var(--bg-color);\n",
              "    border: none;\n",
              "    border-radius: 50%;\n",
              "    cursor: pointer;\n",
              "    display: none;\n",
              "    fill: var(--fill-color);\n",
              "    height: 32px;\n",
              "    padding: 0;\n",
              "    width: 32px;\n",
              "  }\n",
              "\n",
              "  .colab-df-quickchart:hover {\n",
              "    background-color: var(--hover-bg-color);\n",
              "    box-shadow: 0 1px 2px rgba(60, 64, 67, 0.3), 0 1px 3px 1px rgba(60, 64, 67, 0.15);\n",
              "    fill: var(--button-hover-fill-color);\n",
              "  }\n",
              "\n",
              "  .colab-df-quickchart-complete:disabled,\n",
              "  .colab-df-quickchart-complete:disabled:hover {\n",
              "    background-color: var(--disabled-bg-color);\n",
              "    fill: var(--disabled-fill-color);\n",
              "    box-shadow: none;\n",
              "  }\n",
              "\n",
              "  .colab-df-spinner {\n",
              "    border: 2px solid var(--fill-color);\n",
              "    border-color: transparent;\n",
              "    border-bottom-color: var(--fill-color);\n",
              "    animation:\n",
              "      spin 1s steps(1) infinite;\n",
              "  }\n",
              "\n",
              "  @keyframes spin {\n",
              "    0% {\n",
              "      border-color: transparent;\n",
              "      border-bottom-color: var(--fill-color);\n",
              "      border-left-color: var(--fill-color);\n",
              "    }\n",
              "    20% {\n",
              "      border-color: transparent;\n",
              "      border-left-color: var(--fill-color);\n",
              "      border-top-color: var(--fill-color);\n",
              "    }\n",
              "    30% {\n",
              "      border-color: transparent;\n",
              "      border-left-color: var(--fill-color);\n",
              "      border-top-color: var(--fill-color);\n",
              "      border-right-color: var(--fill-color);\n",
              "    }\n",
              "    40% {\n",
              "      border-color: transparent;\n",
              "      border-right-color: var(--fill-color);\n",
              "      border-top-color: var(--fill-color);\n",
              "    }\n",
              "    60% {\n",
              "      border-color: transparent;\n",
              "      border-right-color: var(--fill-color);\n",
              "    }\n",
              "    80% {\n",
              "      border-color: transparent;\n",
              "      border-right-color: var(--fill-color);\n",
              "      border-bottom-color: var(--fill-color);\n",
              "    }\n",
              "    90% {\n",
              "      border-color: transparent;\n",
              "      border-bottom-color: var(--fill-color);\n",
              "    }\n",
              "  }\n",
              "</style>\n",
              "\n",
              "  <script>\n",
              "    async function quickchart(key) {\n",
              "      const quickchartButtonEl =\n",
              "        document.querySelector('#' + key + ' button');\n",
              "      quickchartButtonEl.disabled = true;  // To prevent multiple clicks.\n",
              "      quickchartButtonEl.classList.add('colab-df-spinner');\n",
              "      try {\n",
              "        const charts = await google.colab.kernel.invokeFunction(\n",
              "            'suggestCharts', [key], {});\n",
              "      } catch (error) {\n",
              "        console.error('Error during call to suggestCharts:', error);\n",
              "      }\n",
              "      quickchartButtonEl.classList.remove('colab-df-spinner');\n",
              "      quickchartButtonEl.classList.add('colab-df-quickchart-complete');\n",
              "    }\n",
              "    (() => {\n",
              "      let quickchartButtonEl =\n",
              "        document.querySelector('#df-d584133e-8229-421b-b973-096fa9782997 button');\n",
              "      quickchartButtonEl.style.display =\n",
              "        google.colab.kernel.accessAllowed ? 'block' : 'none';\n",
              "    })();\n",
              "  </script>\n",
              "</div>\n",
              "    </div>\n",
              "  </div>\n"
            ]
          },
          "metadata": {},
          "execution_count": 10
        }
      ]
    },
    {
      "cell_type": "markdown",
      "source": [
        "#**Feature Extraction**"
      ],
      "metadata": {
        "id": "_nO_0tBRnl_f"
      }
    },
    {
      "cell_type": "markdown",
      "source": [
        "#**1. Bag of Words**"
      ],
      "metadata": {
        "id": "p-zoh2m2nwJQ"
      }
    },
    {
      "cell_type": "code",
      "source": [
        "word2count = {}\n",
        "for data in df['preproc_rev']:\n",
        "    for word in data:\n",
        "        if word not in word2count.keys():\n",
        "            word2count[word] = 1\n",
        "        else:\n",
        "            word2count[word] += 1\n",
        "\n",
        "freq_words = heapq.nlargest(100, word2count, key=word2count.get)\n",
        "X = []\n",
        "for data in df['preproc_rev']:\n",
        "    vector = []\n",
        "    for word in freq_words:\n",
        "        if word in data:\n",
        "            vector.append(1)\n",
        "        else:\n",
        "            vector.append(0)\n",
        "    X.append(vector)\n",
        "X_bow = np.asarray(X)"
      ],
      "metadata": {
        "id": "kI1QCOruE4sZ"
      },
      "execution_count": null,
      "outputs": []
    },
    {
      "cell_type": "code",
      "source": [
        "df['bag_of_words'] = list(X_bow)\n",
        "df.head()"
      ],
      "metadata": {
        "id": "KdZhhWXnFxJc",
        "colab": {
          "base_uri": "https://localhost:8080/",
          "height": 293
        },
        "outputId": "30462e47-4a5e-40cf-b195-f884859ada64"
      },
      "execution_count": null,
      "outputs": [
        {
          "output_type": "execute_result",
          "data": {
            "text/plain": [
              "                                              review sentiment  \\\n",
              "0  One of the other reviewers has mentioned that ...  positive   \n",
              "1  A wonderful little production. <br /><br />The...  positive   \n",
              "2  I thought this was a wonderful way to spend ti...  positive   \n",
              "3  Basically there's a family where a little boy ...  negative   \n",
              "4  Petter Mattei's \"Love in the Time of Money\" is...  positive   \n",
              "\n",
              "                                         preproc_rev  \\\n",
              "0  [one, review, mention, watch, episod, hook, ri...   \n",
              "1  [wonder, littl, product, film, techniqu, unass...   \n",
              "2  [thought, wonder, way, spend, time, hot, summe...   \n",
              "3  [basic, famili, littl, boy, jake, think, zombi...   \n",
              "4  [petter, mattei, love, time, money, visual, st...   \n",
              "\n",
              "                                preproc_rev_sentence  \\\n",
              "0  one review mention watch episod hook right exa...   \n",
              "1  wonder littl product film techniqu unassum old...   \n",
              "2  thought wonder way spend time hot summer weeke...   \n",
              "3  basic famili littl boy jake think zombi closet...   \n",
              "4  petter mattei love time money visual stun film...   \n",
              "\n",
              "                                        bag_of_words  \n",
              "0  [0, 0, 1, 0, 0, 0, 1, 0, 0, 1, 0, 0, 1, 0, 0, ...  \n",
              "1  [0, 1, 1, 0, 0, 1, 0, 1, 0, 1, 0, 0, 0, 0, 1, ...  \n",
              "2  [0, 0, 1, 0, 0, 1, 0, 1, 0, 1, 1, 1, 0, 0, 0, ...  \n",
              "3  [1, 1, 0, 1, 1, 1, 0, 1, 0, 1, 0, 0, 0, 0, 0, ...  \n",
              "4  [1, 1, 1, 0, 1, 1, 1, 1, 1, 1, 1, 0, 0, 0, 0, ...  "
            ],
            "text/html": [
              "\n",
              "  <div id=\"df-159da4de-44aa-476f-9eed-a5049d4416d3\" class=\"colab-df-container\">\n",
              "    <div>\n",
              "<style scoped>\n",
              "    .dataframe tbody tr th:only-of-type {\n",
              "        vertical-align: middle;\n",
              "    }\n",
              "\n",
              "    .dataframe tbody tr th {\n",
              "        vertical-align: top;\n",
              "    }\n",
              "\n",
              "    .dataframe thead th {\n",
              "        text-align: right;\n",
              "    }\n",
              "</style>\n",
              "<table border=\"1\" class=\"dataframe\">\n",
              "  <thead>\n",
              "    <tr style=\"text-align: right;\">\n",
              "      <th></th>\n",
              "      <th>review</th>\n",
              "      <th>sentiment</th>\n",
              "      <th>preproc_rev</th>\n",
              "      <th>preproc_rev_sentence</th>\n",
              "      <th>bag_of_words</th>\n",
              "    </tr>\n",
              "  </thead>\n",
              "  <tbody>\n",
              "    <tr>\n",
              "      <th>0</th>\n",
              "      <td>One of the other reviewers has mentioned that ...</td>\n",
              "      <td>positive</td>\n",
              "      <td>[one, review, mention, watch, episod, hook, ri...</td>\n",
              "      <td>one review mention watch episod hook right exa...</td>\n",
              "      <td>[0, 0, 1, 0, 0, 0, 1, 0, 0, 1, 0, 0, 1, 0, 0, ...</td>\n",
              "    </tr>\n",
              "    <tr>\n",
              "      <th>1</th>\n",
              "      <td>A wonderful little production. &lt;br /&gt;&lt;br /&gt;The...</td>\n",
              "      <td>positive</td>\n",
              "      <td>[wonder, littl, product, film, techniqu, unass...</td>\n",
              "      <td>wonder littl product film techniqu unassum old...</td>\n",
              "      <td>[0, 1, 1, 0, 0, 1, 0, 1, 0, 1, 0, 0, 0, 0, 1, ...</td>\n",
              "    </tr>\n",
              "    <tr>\n",
              "      <th>2</th>\n",
              "      <td>I thought this was a wonderful way to spend ti...</td>\n",
              "      <td>positive</td>\n",
              "      <td>[thought, wonder, way, spend, time, hot, summe...</td>\n",
              "      <td>thought wonder way spend time hot summer weeke...</td>\n",
              "      <td>[0, 0, 1, 0, 0, 1, 0, 1, 0, 1, 1, 1, 0, 0, 0, ...</td>\n",
              "    </tr>\n",
              "    <tr>\n",
              "      <th>3</th>\n",
              "      <td>Basically there's a family where a little boy ...</td>\n",
              "      <td>negative</td>\n",
              "      <td>[basic, famili, littl, boy, jake, think, zombi...</td>\n",
              "      <td>basic famili littl boy jake think zombi closet...</td>\n",
              "      <td>[1, 1, 0, 1, 1, 1, 0, 1, 0, 1, 0, 0, 0, 0, 0, ...</td>\n",
              "    </tr>\n",
              "    <tr>\n",
              "      <th>4</th>\n",
              "      <td>Petter Mattei's \"Love in the Time of Money\" is...</td>\n",
              "      <td>positive</td>\n",
              "      <td>[petter, mattei, love, time, money, visual, st...</td>\n",
              "      <td>petter mattei love time money visual stun film...</td>\n",
              "      <td>[1, 1, 1, 0, 1, 1, 1, 1, 1, 1, 1, 0, 0, 0, 0, ...</td>\n",
              "    </tr>\n",
              "  </tbody>\n",
              "</table>\n",
              "</div>\n",
              "    <div class=\"colab-df-buttons\">\n",
              "\n",
              "  <div class=\"colab-df-container\">\n",
              "    <button class=\"colab-df-convert\" onclick=\"convertToInteractive('df-159da4de-44aa-476f-9eed-a5049d4416d3')\"\n",
              "            title=\"Convert this dataframe to an interactive table.\"\n",
              "            style=\"display:none;\">\n",
              "\n",
              "  <svg xmlns=\"http://www.w3.org/2000/svg\" height=\"24px\" viewBox=\"0 -960 960 960\">\n",
              "    <path d=\"M120-120v-720h720v720H120Zm60-500h600v-160H180v160Zm220 220h160v-160H400v160Zm0 220h160v-160H400v160ZM180-400h160v-160H180v160Zm440 0h160v-160H620v160ZM180-180h160v-160H180v160Zm440 0h160v-160H620v160Z\"/>\n",
              "  </svg>\n",
              "    </button>\n",
              "\n",
              "  <style>\n",
              "    .colab-df-container {\n",
              "      display:flex;\n",
              "      gap: 12px;\n",
              "    }\n",
              "\n",
              "    .colab-df-convert {\n",
              "      background-color: #E8F0FE;\n",
              "      border: none;\n",
              "      border-radius: 50%;\n",
              "      cursor: pointer;\n",
              "      display: none;\n",
              "      fill: #1967D2;\n",
              "      height: 32px;\n",
              "      padding: 0 0 0 0;\n",
              "      width: 32px;\n",
              "    }\n",
              "\n",
              "    .colab-df-convert:hover {\n",
              "      background-color: #E2EBFA;\n",
              "      box-shadow: 0px 1px 2px rgba(60, 64, 67, 0.3), 0px 1px 3px 1px rgba(60, 64, 67, 0.15);\n",
              "      fill: #174EA6;\n",
              "    }\n",
              "\n",
              "    .colab-df-buttons div {\n",
              "      margin-bottom: 4px;\n",
              "    }\n",
              "\n",
              "    [theme=dark] .colab-df-convert {\n",
              "      background-color: #3B4455;\n",
              "      fill: #D2E3FC;\n",
              "    }\n",
              "\n",
              "    [theme=dark] .colab-df-convert:hover {\n",
              "      background-color: #434B5C;\n",
              "      box-shadow: 0px 1px 3px 1px rgba(0, 0, 0, 0.15);\n",
              "      filter: drop-shadow(0px 1px 2px rgba(0, 0, 0, 0.3));\n",
              "      fill: #FFFFFF;\n",
              "    }\n",
              "  </style>\n",
              "\n",
              "    <script>\n",
              "      const buttonEl =\n",
              "        document.querySelector('#df-159da4de-44aa-476f-9eed-a5049d4416d3 button.colab-df-convert');\n",
              "      buttonEl.style.display =\n",
              "        google.colab.kernel.accessAllowed ? 'block' : 'none';\n",
              "\n",
              "      async function convertToInteractive(key) {\n",
              "        const element = document.querySelector('#df-159da4de-44aa-476f-9eed-a5049d4416d3');\n",
              "        const dataTable =\n",
              "          await google.colab.kernel.invokeFunction('convertToInteractive',\n",
              "                                                    [key], {});\n",
              "        if (!dataTable) return;\n",
              "\n",
              "        const docLinkHtml = 'Like what you see? Visit the ' +\n",
              "          '<a target=\"_blank\" href=https://colab.research.google.com/notebooks/data_table.ipynb>data table notebook</a>'\n",
              "          + ' to learn more about interactive tables.';\n",
              "        element.innerHTML = '';\n",
              "        dataTable['output_type'] = 'display_data';\n",
              "        await google.colab.output.renderOutput(dataTable, element);\n",
              "        const docLink = document.createElement('div');\n",
              "        docLink.innerHTML = docLinkHtml;\n",
              "        element.appendChild(docLink);\n",
              "      }\n",
              "    </script>\n",
              "  </div>\n",
              "\n",
              "\n",
              "<div id=\"df-2da6ed03-b2f6-48e2-9274-452f2f331b95\">\n",
              "  <button class=\"colab-df-quickchart\" onclick=\"quickchart('df-2da6ed03-b2f6-48e2-9274-452f2f331b95')\"\n",
              "            title=\"Suggest charts.\"\n",
              "            style=\"display:none;\">\n",
              "\n",
              "<svg xmlns=\"http://www.w3.org/2000/svg\" height=\"24px\"viewBox=\"0 0 24 24\"\n",
              "     width=\"24px\">\n",
              "    <g>\n",
              "        <path d=\"M19 3H5c-1.1 0-2 .9-2 2v14c0 1.1.9 2 2 2h14c1.1 0 2-.9 2-2V5c0-1.1-.9-2-2-2zM9 17H7v-7h2v7zm4 0h-2V7h2v10zm4 0h-2v-4h2v4z\"/>\n",
              "    </g>\n",
              "</svg>\n",
              "  </button>\n",
              "\n",
              "<style>\n",
              "  .colab-df-quickchart {\n",
              "      --bg-color: #E8F0FE;\n",
              "      --fill-color: #1967D2;\n",
              "      --hover-bg-color: #E2EBFA;\n",
              "      --hover-fill-color: #174EA6;\n",
              "      --disabled-fill-color: #AAA;\n",
              "      --disabled-bg-color: #DDD;\n",
              "  }\n",
              "\n",
              "  [theme=dark] .colab-df-quickchart {\n",
              "      --bg-color: #3B4455;\n",
              "      --fill-color: #D2E3FC;\n",
              "      --hover-bg-color: #434B5C;\n",
              "      --hover-fill-color: #FFFFFF;\n",
              "      --disabled-bg-color: #3B4455;\n",
              "      --disabled-fill-color: #666;\n",
              "  }\n",
              "\n",
              "  .colab-df-quickchart {\n",
              "    background-color: var(--bg-color);\n",
              "    border: none;\n",
              "    border-radius: 50%;\n",
              "    cursor: pointer;\n",
              "    display: none;\n",
              "    fill: var(--fill-color);\n",
              "    height: 32px;\n",
              "    padding: 0;\n",
              "    width: 32px;\n",
              "  }\n",
              "\n",
              "  .colab-df-quickchart:hover {\n",
              "    background-color: var(--hover-bg-color);\n",
              "    box-shadow: 0 1px 2px rgba(60, 64, 67, 0.3), 0 1px 3px 1px rgba(60, 64, 67, 0.15);\n",
              "    fill: var(--button-hover-fill-color);\n",
              "  }\n",
              "\n",
              "  .colab-df-quickchart-complete:disabled,\n",
              "  .colab-df-quickchart-complete:disabled:hover {\n",
              "    background-color: var(--disabled-bg-color);\n",
              "    fill: var(--disabled-fill-color);\n",
              "    box-shadow: none;\n",
              "  }\n",
              "\n",
              "  .colab-df-spinner {\n",
              "    border: 2px solid var(--fill-color);\n",
              "    border-color: transparent;\n",
              "    border-bottom-color: var(--fill-color);\n",
              "    animation:\n",
              "      spin 1s steps(1) infinite;\n",
              "  }\n",
              "\n",
              "  @keyframes spin {\n",
              "    0% {\n",
              "      border-color: transparent;\n",
              "      border-bottom-color: var(--fill-color);\n",
              "      border-left-color: var(--fill-color);\n",
              "    }\n",
              "    20% {\n",
              "      border-color: transparent;\n",
              "      border-left-color: var(--fill-color);\n",
              "      border-top-color: var(--fill-color);\n",
              "    }\n",
              "    30% {\n",
              "      border-color: transparent;\n",
              "      border-left-color: var(--fill-color);\n",
              "      border-top-color: var(--fill-color);\n",
              "      border-right-color: var(--fill-color);\n",
              "    }\n",
              "    40% {\n",
              "      border-color: transparent;\n",
              "      border-right-color: var(--fill-color);\n",
              "      border-top-color: var(--fill-color);\n",
              "    }\n",
              "    60% {\n",
              "      border-color: transparent;\n",
              "      border-right-color: var(--fill-color);\n",
              "    }\n",
              "    80% {\n",
              "      border-color: transparent;\n",
              "      border-right-color: var(--fill-color);\n",
              "      border-bottom-color: var(--fill-color);\n",
              "    }\n",
              "    90% {\n",
              "      border-color: transparent;\n",
              "      border-bottom-color: var(--fill-color);\n",
              "    }\n",
              "  }\n",
              "</style>\n",
              "\n",
              "  <script>\n",
              "    async function quickchart(key) {\n",
              "      const quickchartButtonEl =\n",
              "        document.querySelector('#' + key + ' button');\n",
              "      quickchartButtonEl.disabled = true;  // To prevent multiple clicks.\n",
              "      quickchartButtonEl.classList.add('colab-df-spinner');\n",
              "      try {\n",
              "        const charts = await google.colab.kernel.invokeFunction(\n",
              "            'suggestCharts', [key], {});\n",
              "      } catch (error) {\n",
              "        console.error('Error during call to suggestCharts:', error);\n",
              "      }\n",
              "      quickchartButtonEl.classList.remove('colab-df-spinner');\n",
              "      quickchartButtonEl.classList.add('colab-df-quickchart-complete');\n",
              "    }\n",
              "    (() => {\n",
              "      let quickchartButtonEl =\n",
              "        document.querySelector('#df-2da6ed03-b2f6-48e2-9274-452f2f331b95 button');\n",
              "      quickchartButtonEl.style.display =\n",
              "        google.colab.kernel.accessAllowed ? 'block' : 'none';\n",
              "    })();\n",
              "  </script>\n",
              "</div>\n",
              "    </div>\n",
              "  </div>\n"
            ]
          },
          "metadata": {},
          "execution_count": 21
        }
      ]
    },
    {
      "cell_type": "markdown",
      "source": [
        "**Test-Train Split**"
      ],
      "metadata": {
        "id": "3aw6rqKSGl1J"
      }
    },
    {
      "cell_type": "code",
      "source": [
        "X_train, X_test, Y_train, Y_test = train_test_split(list(X_bow), list(df['sentiment']), test_size = 0.2, random_state = 41)"
      ],
      "metadata": {
        "id": "Ig8-aEI1Fyq4"
      },
      "execution_count": null,
      "outputs": []
    },
    {
      "cell_type": "markdown",
      "source": [
        "**Logistic Regression**"
      ],
      "metadata": {
        "id": "dQA7ZnwXGom6"
      }
    },
    {
      "cell_type": "code",
      "source": [
        "lr = LogisticRegression()\n",
        "lr.fit(X_train, Y_train)\n",
        "y_pred = lr.predict(X_test)"
      ],
      "metadata": {
        "id": "IxuU1uzEGGbv"
      },
      "execution_count": null,
      "outputs": []
    },
    {
      "cell_type": "code",
      "source": [
        "print(classification_report(Y_test, y_pred))"
      ],
      "metadata": {
        "id": "KknbhgKcGNut",
        "colab": {
          "base_uri": "https://localhost:8080/"
        },
        "outputId": "0de6adda-4453-4a2d-94f6-ab8e33ac02c7"
      },
      "execution_count": null,
      "outputs": [
        {
          "output_type": "stream",
          "name": "stdout",
          "text": [
            "              precision    recall  f1-score   support\n",
            "\n",
            "    negative       0.72      0.69      0.70       196\n",
            "    positive       0.71      0.74      0.72       204\n",
            "\n",
            "    accuracy                           0.71       400\n",
            "   macro avg       0.72      0.71      0.71       400\n",
            "weighted avg       0.72      0.71      0.71       400\n",
            "\n"
          ]
        }
      ]
    },
    {
      "cell_type": "code",
      "source": [
        "confusion_matrix(Y_test, y_pred)"
      ],
      "metadata": {
        "id": "pARRAj3cGTCn",
        "colab": {
          "base_uri": "https://localhost:8080/"
        },
        "outputId": "b03f10a6-7bf3-4c13-8034-305ea1d5079e"
      },
      "execution_count": null,
      "outputs": [
        {
          "output_type": "execute_result",
          "data": {
            "text/plain": [
              "array([[136,  60],\n",
              "       [ 54, 150]])"
            ]
          },
          "metadata": {},
          "execution_count": 25
        }
      ]
    },
    {
      "cell_type": "code",
      "source": [
        "accuracy = accuracy_score(Y_test, y_pred)\n",
        "print(f\"Accuracy of Logistic Regression using Bag of Words: {100*accuracy:.2f} %\")"
      ],
      "metadata": {
        "id": "FD90OOsbJ822",
        "colab": {
          "base_uri": "https://localhost:8080/"
        },
        "outputId": "30eb2f8d-a590-4fbb-e4d6-0dad4a2980dc"
      },
      "execution_count": null,
      "outputs": [
        {
          "output_type": "stream",
          "name": "stdout",
          "text": [
            "Accuracy of Logistic Regression using Bag of Words: 71.50 %\n"
          ]
        }
      ]
    },
    {
      "cell_type": "markdown",
      "source": [
        "#**2. TF-IDF**"
      ],
      "metadata": {
        "id": "BUgQUIi4kp70"
      }
    },
    {
      "cell_type": "code",
      "source": [
        "df['sentiment'].value_counts()"
      ],
      "metadata": {
        "id": "OIimJNEikBSH",
        "colab": {
          "base_uri": "https://localhost:8080/"
        },
        "outputId": "9450d2d6-eb81-4820-9376-23793b84b68f"
      },
      "execution_count": null,
      "outputs": [
        {
          "output_type": "execute_result",
          "data": {
            "text/plain": [
              "positive    1005\n",
              "negative     995\n",
              "Name: sentiment, dtype: int64"
            ]
          },
          "metadata": {},
          "execution_count": 27
        }
      ]
    },
    {
      "cell_type": "code",
      "source": [
        "X = df['preproc_rev_sentence']\n",
        "Y = df['sentiment']"
      ],
      "metadata": {
        "id": "UaknZhavkWTu"
      },
      "execution_count": null,
      "outputs": []
    },
    {
      "cell_type": "code",
      "source": [
        "tfidf = TfidfVectorizer()\n",
        "X = tfidf.fit_transform(X)"
      ],
      "metadata": {
        "id": "LR_DHnn4kbb4"
      },
      "execution_count": null,
      "outputs": []
    },
    {
      "cell_type": "code",
      "source": [
        "X.shape"
      ],
      "metadata": {
        "id": "zC5HZ4pukiv9",
        "colab": {
          "base_uri": "https://localhost:8080/"
        },
        "outputId": "b66ae9c4-f16b-4bd8-d7b3-71d11e0926b6"
      },
      "execution_count": null,
      "outputs": [
        {
          "output_type": "execute_result",
          "data": {
            "text/plain": [
              "(2000, 17039)"
            ]
          },
          "metadata": {},
          "execution_count": 30
        }
      ]
    },
    {
      "cell_type": "code",
      "source": [
        "X"
      ],
      "metadata": {
        "id": "RXDEJaskkkud",
        "colab": {
          "base_uri": "https://localhost:8080/"
        },
        "outputId": "7c52ebd3-e1b4-452b-a0ff-5453cb472613"
      },
      "execution_count": null,
      "outputs": [
        {
          "output_type": "execute_result",
          "data": {
            "text/plain": [
              "<2000x17039 sparse matrix of type '<class 'numpy.float64'>'\n",
              "\twith 181216 stored elements in Compressed Sparse Row format>"
            ]
          },
          "metadata": {},
          "execution_count": 31
        }
      ]
    },
    {
      "cell_type": "markdown",
      "source": [
        "**Test-Train Split**"
      ],
      "metadata": {
        "id": "fh-KaqJskstD"
      }
    },
    {
      "cell_type": "code",
      "source": [
        "X_train, X_test, Y_train, Y_test = train_test_split(X, Y, test_size = 0.2, random_state = 4, stratify = Y)"
      ],
      "metadata": {
        "id": "M5k-iN4IkmTN"
      },
      "execution_count": null,
      "outputs": []
    },
    {
      "cell_type": "code",
      "source": [
        "X_train.shape, X_test.shape"
      ],
      "metadata": {
        "id": "zPD3mVeplCtV",
        "colab": {
          "base_uri": "https://localhost:8080/"
        },
        "outputId": "13a30504-0886-4230-f091-2721147021fd"
      },
      "execution_count": null,
      "outputs": [
        {
          "output_type": "execute_result",
          "data": {
            "text/plain": [
              "((1600, 17039), (400, 17039))"
            ]
          },
          "metadata": {},
          "execution_count": 33
        }
      ]
    },
    {
      "cell_type": "markdown",
      "source": [
        "**Logistic Regression**"
      ],
      "metadata": {
        "id": "ckLn9wHplMxj"
      }
    },
    {
      "cell_type": "code",
      "source": [
        "lr = LogisticRegression()"
      ],
      "metadata": {
        "id": "UwbsNob_lKRD"
      },
      "execution_count": null,
      "outputs": []
    },
    {
      "cell_type": "code",
      "source": [
        "print(X_train)"
      ],
      "metadata": {
        "id": "uMkMBqZqlZe3",
        "colab": {
          "base_uri": "https://localhost:8080/"
        },
        "outputId": "6eab57be-2199-45a5-c677-c7ecc67ff46b"
      },
      "execution_count": null,
      "outputs": [
        {
          "output_type": "stream",
          "name": "stdout",
          "text": [
            "  (0, 11329)\t0.15549766442584273\n",
            "  (0, 1915)\t0.12203338110759833\n",
            "  (0, 15471)\t0.0804278215557911\n",
            "  (0, 1391)\t0.08220586224786493\n",
            "  (0, 13977)\t0.08463013566856516\n",
            "  (0, 10922)\t0.24088943274797786\n",
            "  (0, 3498)\t0.15120033930850418\n",
            "  (0, 14394)\t0.24088943274797786\n",
            "  (0, 7273)\t0.12297070132003193\n",
            "  (0, 8837)\t0.11668558970792138\n",
            "  (0, 4966)\t0.1504091129174525\n",
            "  (0, 11680)\t0.11104605799997921\n",
            "  (0, 1956)\t0.1149301779223111\n",
            "  (0, 8866)\t0.12112404482305597\n",
            "  (0, 7906)\t0.12393778265194805\n",
            "  (0, 11706)\t0.16926535880955157\n",
            "  (0, 11840)\t0.1986622086931271\n",
            "  (0, 118)\t0.08481091069985004\n",
            "  (0, 4979)\t0.10154143358321649\n",
            "  (0, 10485)\t0.4466573109994257\n",
            "  (0, 1173)\t0.11213794921755664\n",
            "  (0, 7150)\t0.1605024180729452\n",
            "  (0, 11941)\t0.17570194016872576\n",
            "  (0, 342)\t0.14743499598653062\n",
            "  (0, 11207)\t0.20272964212779598\n",
            "  :\t:\n",
            "  (1599, 15160)\t0.14922065911275817\n",
            "  (1599, 6131)\t0.050402894514751474\n",
            "  (1599, 1182)\t0.06682559326971982\n",
            "  (1599, 7576)\t0.04917140013388934\n",
            "  (1599, 16754)\t0.05302890741490997\n",
            "  (1599, 16943)\t0.05639480537274573\n",
            "  (1599, 14514)\t0.06781439233075348\n",
            "  (1599, 14355)\t0.0473495708680412\n",
            "  (1599, 15147)\t0.10385855712890558\n",
            "  (1599, 4270)\t0.054511910176270904\n",
            "  (1599, 12082)\t0.05802950410202328\n",
            "  (1599, 12123)\t0.03721214916519334\n",
            "  (1599, 6306)\t0.08141553816450517\n",
            "  (1599, 5358)\t0.23069184982767518\n",
            "  (1599, 9296)\t0.10996663557902787\n",
            "  (1599, 14904)\t0.08379309641239407\n",
            "  (1599, 4443)\t0.07203067793979197\n",
            "  (1599, 649)\t0.07957681080335557\n",
            "  (1599, 16817)\t0.035791607673483126\n",
            "  (1599, 9115)\t0.043911971834895376\n",
            "  (1599, 6066)\t0.06259650525886755\n",
            "  (1599, 2131)\t0.05656885390156371\n",
            "  (1599, 16449)\t0.03369034314210136\n",
            "  (1599, 12478)\t0.18113216697936854\n",
            "  (1599, 10557)\t0.05357413526288896\n"
          ]
        }
      ]
    },
    {
      "cell_type": "code",
      "source": [
        "lr.fit(X_train, Y_train)\n",
        "y_pred = lr.predict(X_test)"
      ],
      "metadata": {
        "id": "PSbZlOhDlvEE"
      },
      "execution_count": null,
      "outputs": []
    },
    {
      "cell_type": "code",
      "source": [
        "print(classification_report(Y_test, y_pred))"
      ],
      "metadata": {
        "id": "KMgNi_Ykl7NL",
        "colab": {
          "base_uri": "https://localhost:8080/"
        },
        "outputId": "f4b0930e-14a9-4029-e32a-71e0f6b2e00b"
      },
      "execution_count": null,
      "outputs": [
        {
          "output_type": "stream",
          "name": "stdout",
          "text": [
            "              precision    recall  f1-score   support\n",
            "\n",
            "    negative       0.82      0.81      0.82       199\n",
            "    positive       0.81      0.83      0.82       201\n",
            "\n",
            "    accuracy                           0.82       400\n",
            "   macro avg       0.82      0.82      0.82       400\n",
            "weighted avg       0.82      0.82      0.82       400\n",
            "\n"
          ]
        }
      ]
    },
    {
      "cell_type": "code",
      "source": [
        "confusion_matrix(Y_test, y_pred)"
      ],
      "metadata": {
        "id": "4nnaox7XmCj7",
        "colab": {
          "base_uri": "https://localhost:8080/"
        },
        "outputId": "4aa66da8-2bc5-475a-c672-afa6da3c15d6"
      },
      "execution_count": null,
      "outputs": [
        {
          "output_type": "execute_result",
          "data": {
            "text/plain": [
              "array([[161,  38],\n",
              "       [ 35, 166]])"
            ]
          },
          "metadata": {},
          "execution_count": 38
        }
      ]
    },
    {
      "cell_type": "code",
      "source": [
        "accuracy = accuracy_score(Y_test, y_pred)\n",
        "print(f\"Accuracy of Logistic Regression using TF-IDF: {100*accuracy:.2f} %\")"
      ],
      "metadata": {
        "id": "MXj__aw-KpHm",
        "colab": {
          "base_uri": "https://localhost:8080/"
        },
        "outputId": "c83d9402-b60d-4c17-a7cd-d04c3fc47ab8"
      },
      "execution_count": null,
      "outputs": [
        {
          "output_type": "stream",
          "name": "stdout",
          "text": [
            "Accuracy of Logistic Regression using TF-IDF: 81.75 %\n"
          ]
        }
      ]
    },
    {
      "cell_type": "markdown",
      "source": [
        "**Predicting on Custom Data**"
      ],
      "metadata": {
        "id": "JFmFiWxRmei7"
      }
    },
    {
      "cell_type": "code",
      "source": [
        "lr.predict(tfidf.transform([\"AR Rahman Sir deserved an Oscar for 'Roja' back in 1992; not for 'Jai Ho'.\"]))"
      ],
      "metadata": {
        "id": "8nvvbOH-mMyb",
        "colab": {
          "base_uri": "https://localhost:8080/"
        },
        "outputId": "fad85bd4-054d-40da-cebf-467faf926afd"
      },
      "execution_count": null,
      "outputs": [
        {
          "output_type": "execute_result",
          "data": {
            "text/plain": [
              "array(['positive'], dtype=object)"
            ]
          },
          "metadata": {},
          "execution_count": 40
        }
      ]
    },
    {
      "cell_type": "code",
      "source": [
        "lr.predict(tfidf.transform([\"Oppenheimer was HELL of an experience in there (pun intended)! Blew my mind with its cinematography!\"]))"
      ],
      "metadata": {
        "id": "vQD91j-umliU",
        "colab": {
          "base_uri": "https://localhost:8080/"
        },
        "outputId": "226e5c64-cad3-4c64-a248-b9f320534034"
      },
      "execution_count": null,
      "outputs": [
        {
          "output_type": "execute_result",
          "data": {
            "text/plain": [
              "array(['positive'], dtype=object)"
            ]
          },
          "metadata": {},
          "execution_count": 41
        }
      ]
    },
    {
      "cell_type": "markdown",
      "source": [
        "#**Word2Vec**"
      ],
      "metadata": {
        "id": "fAL9lXXEGvC_"
      }
    },
    {
      "cell_type": "code",
      "source": [
        "w2v = gensim.models.Word2Vec(df['preproc_rev'], window=10, min_count=2)"
      ],
      "metadata": {
        "id": "6ah_ce1nGyLq"
      },
      "execution_count": null,
      "outputs": []
    },
    {
      "cell_type": "code",
      "source": [
        "print(w2v.wv.index_to_key)"
      ],
      "metadata": {
        "id": "rp_oG8UbG8ho",
        "colab": {
          "base_uri": "https://localhost:8080/"
        },
        "outputId": "d93efd75-f7e7-497f-9430-0cec44278ceb"
      },
      "execution_count": null,
      "outputs": [
        {
          "output_type": "stream",
          "name": "stdout",
          "text": [
            "['movi', 'film', 'one', 'like', 'make', 'time', 'get', 'see', 'good', 'watch', 'charact', 'even', 'would', 'stori', 'realli', 'well', 'scene', 'much', 'look', 'show', 'bad', 'way', 'also', 'think', 'play', 'great', 'love', 'peopl', 'first', 'act', 'end', 'thing', 'made', 'know', 'plot', 'want', 'say', 'come', 'work', 'could', 'mani', 'actor', 'never', 'seem', 'littl', 'year', 'seen', 'take', 'two', 'best', 'tri', 'life', 'man', 'ever', 'give', 'better', 'perform', 'use', 'feel', 'actual', 'find', 'someth', 'still', 'part', 'back', 'real', 'director', 'lot', 'funni', 'interest', 'old', 'woman', 'guy', 'enjoy', 'go', 'star', 'new', 'though', 'anoth', 'world', 'day', 'cast', 'origin', 'role', 'set', 'everi', 'quit', 'girl', 'noth', 'turn', 'believ', 'big', 'comedi', 'point', 'live', 'howev', 'around', 'direct', 'effect', 'line', 'fan', 'thought', 'long', 'minut', 'pretti', 'start', 'must', 'got', 'music', 'least', 'script', 'fact', 'laugh', 'wonder', 'right', 'kill', 'done', 'alway', 'complet', 'young', 'horror', 'almost', 'need', 'happen', 'whole', 'without', 'may', 'beauti', 'enough', 'person', 'friend', 'action', 'famili', 'last', 'tell', 'probabl', 'saw', 'becom', 'final', 'name', 'reason', 'shot', 'differ', 'book', 'anyth', 'expect', 'let', 'help', 'read', 'kid', 'sinc', 'bit', 'seri', 'hard', 'idea', 'screen', 'might', 'begin', 'put', 'sure', 'anyon', 'worst', 'audienc', 'mean', 'yet', 'war', 'far', 'call', 'everyth', 'place', 'entertain', 'kind', 'child', 'away', 'rather', 'anim', 'moment', 'everyon', 'although', 'sen', 'nice', 'murder', 'miss', 'three', 'mind', 'keep', 'found', 'hope', 'american', 'fun', 'review', 'lead', 'human', 'bore', 'special', 'short', 'dvd', 'money', 'recommend', 'true', 'appear', 'cours', 'worth', 'mayb', 'excel', 'run', 'goe', 'game', 'episod', 'second', 'piec', 'view', 'total', 'john', 'main', 'hous', 'die', 'especi', 'black', 'night', 'simpli', 'face', 'surpris', 'men', 'involv', 'word', 'product', 'chang', 'hand', 'rememb', 'wast', 'follow', 'left', 'stupid', 'hour', 'problem', 'open', 'boy', 'el', 'classic', 'leav', 'home', 'eye', 'hollywood', 'possibl', 'father', 'disappoint', 'absolut', 'move', 'write', 'top', 'high', 'togeth', 'featur', 'job', 'rate', 'understand', 'attempt', 'half', 'decid', 'talent', 'instead', 'someon', 'portray', 'care', 'base', 'budget', 'humor', 'camera', 'talk', 'usual', 'titl', 'given', 'poor', 'version', 'aw', 'lack', 'terribl', 'definit', 'case', 'fall', 'sound', 'dead', 'viewer', 'rest', 'video', 'along', 'later', 'age', 'mention', 'meet', 'mother', 'either', 'pictur', 'death', 'song', 'suppos', 'coupl', 'small', 'perfect', 'except', 'power', 'entir', 'head', 'wife', 'includ', 'sex', 'school', 'stop', 'god', 'truli', 'experi', 'save', 'sever', 'said', 'next', 'matter', 'close', 'lost', 'heart', 'other', 'extrem', 'mysteri', 'releas', 'le', 'produc', 'hit', 'develop', 'bring', 'drama', 'car', 'number', 'town', 'favorit', 'dialogu', 'wrong', 'full', 'ridicul', 'fight', 'wait', 'gener', 'danc', 'came', 'art', 'consid', 'brother', 'actress', 'emot', 'sort', 'light', 'basic', 'white', 'flick', 'written', 'qualiti', 'sequenc', 'wors', 'amaz', 'joke', 'fail', 'comment', 'learn', 'impress', 'type', 'often', 'ask', 'low', 'writer', 'killer', 'creat', 'style', 'overal', 'unfortun', 'histori', 'despit', 'evil', 'robert', 'dark', 'rent', 'event', 'side', 'horribl', 'bodi', 'today', 'perhap', 'alreadi', 'throughout', 'exampl', 'soon', 'guess', 'manag', 'genr', 'imagin', 'earli', 'present', 'support', 'slow', 'behind', 'cinema', 'stand', 'rock', 'thank', 'relationship', 'certainli', 'felt', 'polic', 'ye', 'natur', 'credit', 'deal', 'son', 'twist', 'success', 'appar', 'late', 'hero', 'voic', 'sit', 'chanc', 'annoy', 'alien', 'abl', 'major', 'situat', 'drug', 'huge', 'hate', 'david', 'walk', 'fine', 'figur', 'violenc', 'theme', 'gave', 'forc', 'touch', 'happi', 'group', 'plea', 'hilari', 'obvious', 'realiz', 'citi', 'deliv', 'novel', 'parent', 'confus', 'gore', 'buy', 'michael', 'went', 'stuff', 'continu', 'brilliant', 'pace', 'question', 'cut', 'ago', 'hold', 'past', 'import', 'score', 'zombi', 'critic', 'daughter', 'middl', 'stay', 'decent', 'level', 'messag', 'told', 'anyway', 'predict', 'suspens', 'cannot', 'deserv', 'explain', 'shoot', 'team', 'seriou', 'edit', 'blood', 'countri', 'known', 'wish', 'offer', 'ladi', 'respect', 'caus', 'subject', 'note', 'pick', 'etc', 'form', 'dream', 'drive', 'cool', 'carri', 'particularli', 'pain', 'due', 'add', 'self', 'ten', 'king', 'upon', 'english', 'sometim', 'jame', 'realiti', 'space', 'order', 'serious', 'televis', 'thriller', 'local', 'marri', 'sequel', 'husband', 'doubt', 'documentari', 'beyond', 'william', 'toward', 'across', 'took', 'adult', 'sad', 'class', 'career', 'sing', 'offic', 'shock', 'return', 'element', 'clear', 'incred', 'detail', 'captur', 'hell', 'visual', 'island', 'spoiler', 'allow', 'heard', 'highli', 'recent', 'shown', 'crime', 'theater', 'particular', 'opinion', 'valu', 'effort', 'easi', 'romanc', 'exactli', 'strong', 'check', 'copi', 'none', 'typic', 'victim', 'cop', 'modern', 'comic', 'disney', 'sister', 'speak', 'cliché', 'notic', 'silli', 'remind', 'romant', 'result', 'femal', 'truth', 'pull', 'avoid', 'polit', 'room', 'dialog', 'member', 'compar', 'soundtrack', 'cheap', 'monster', 'fill', 'gun', 'hear', 'premis', 'forget', 'crap', 'fantast', 'busi', 'prove', 'dull', 'cover', 'charm', 'whose', 'similar', 'train', 'list', 'hot', 'pay', 'screenplay', 'win', 'break', 'apart', 'mostli', 'race', 'suck', 'liter', 'stereotyp', 'simpl', 'lie', 'oscar', 'escap', 'crazi', 'state', 'bunch', 'realist', 'box', 'unlik', 'describ', 'build', 'street', 'cinematographi', 'battl', 'among', 'fit', 'provid', 'exist', 'strang', 'wit', 'british', 'attent', 'plan', 'discov', 'french', 'air', 'mark', 'weak', 'cri', 'bill', 'taken', 'within', 'alon', 'issu', 'western', 'compani', 'excit', 'non', 'doctor', 'storylin', 'obviou', 'singl', 'brain', 'sci', 'jack', 'appreci', 'five', 'convinc', 'georg', 'larg', 'earth', 'tom', 'rare', 'fire', 'accent', 'remain', 'stage', 'futur', 'match', 'four', 'season', 'accept', 'fear', 'secret', 'pure', 'whether', 'forward', 'fast', 'reveal', 'aspect', 'greatest', 'dog', 'suggest', 'struggl', 'intellig', 'intent', 'lose', 'connect', 'law', 'spend', 'sexual', 'attract', 'project', 'scari', 'crew', 'date', 'gone', 'materi', 'atmospher', 'shame', 'ad', 'attack', 'adventur', 'standard', 'hole', 'filmmak', 'sorri', 'knew', 'warn', 'bother', 'depict', 'ghost', 'straight', 'nearli', 'finish', 'studio', 'relat', 'plain', 'clearli', 'plu', 'execut', 'somewhat', 'admit', 'memor', 'front', 'america', 'posit', 'throw', 'mix', 'brought', 'soldier', 'locat', 'arriv', 'near', 'creatur', 'pas', 'tire', 'treat', 'jim', 'richard', 'color', 'refer', 'listen', 'chase', 'ignor', 'suspect', 'averag', 'tale', 'peter', 'adapt', 'easili', 'troubl', 'inspir', 'masterpiec', 'week', 'immedi', 'italian', 'normal', 'agre', 'famou', 'appeal', 'awesom', 'caught', 'lame', 'student', 'cheesi', 'imdb', 'travel', 'poorli', 'inde', 'weird', 'cat', 'dramat', 'park', 'limit', 'kept', 'languag', 'rich', 'intrigu', 'roll', 'era', 'door', 'prison', 'water', 'reach', 'regard', 'mad', 'quickli', 'villain', 'eat', 'unless', 'mere', 'japanes', 'contain', 'certain', 'variou', 'step', 'cultur', 'motion', 'male', 'slightli', 'drink', 'becam', 'paul', 'somehow', 'centuri', 'deep', 'mess', 'express', 'band', 'previou', 'creepi', 'comput', 'investig', 'land', 'hardli', 'odd', 'term', 'cute', 'ann', 'edg', 'vampir', 'delight', 'fashion', 'extra', 'hair', 'costum', 'equal', 'remak', 'parti', 'potenti', 'grow', 'blue', 'concept', 'difficult', 'suffer', 'approach', 'public', 'artist', 'okay', 'period', 'track', 'fake', 'surprisingli', 'surviv', 'skill', 'flaw', 'societi', 'indian', 'german', 'popular', 'neither', 'manner', 'terrif', 'dumb', 'otherwis', 'amount', 'amus', 'fli', 'free', 'practic', 'insid', 'concern', 'imposs', 'channel', 'footag', 'older', 'jump', 'rip', 'depth', 'abil', 'teenag', 'clever', 'search', 'perfectli', 'award', 'journey', 'planet', 'univers', 'dress', 'fantasi', 'stick', 'solid', 'idiot', 'eventu', 'passion', 'fairli', 'memori', 'social', 'whatev', 'steal', 'count', 'wear', 'handl', 'gay', 'babi', 'meant', 'beat', 'third', 'former', 'toni', 'jimmi', 'tortur', 'armi', 'burn', 'control', 'fiction', 'ryan', 'york', 'folk', 'girlfriend', 'bare', 'detect', 'juli', 'aliv', 'mari', 'tear', 'judg', 'tough', 'ben', 'combin', 'tension', 'imag', 'store', 'send', 'club', 'phone', 'wise', 'grade', 'mediocr', 'nation', 'master', 'sleep', 'gag', 'ultim', 'trip', 'ruin', 'answer', 'utterli', 'catch', 'pathet', 'yeah', 'badli', 'lesson', 'loo', 'minor', 'moral', 'uniqu', 'earlier', 'scream', 'spent', 'glad', 'commit', 'ship', 'lover', 'suddenli', 'station', 'ident', 'familiar', 'gem', 'scare', 'disturb', 'nomin', 'creativ', 'engag', 'red', 'soul', 'background', 'introduc', 'wild', 'sexi', 'hill', 'photographi', 'road', 'claim', 'geniu', 'sweet', 'super', 'narr', 'profession', 'discus', 'tragic', 'histor', 'violent', 'million', 'ray', 'enter', 'danger', 'henri', 'vote', 'bizarr', 'purpos', 'display', 'superb', 'serv', 'pilot', 'suit', 'cold', 'climax', 'slasher', 'commun', 'wood', 'magic', 'remark', 'sea', 'draw', 'chri', 'hunt', 'paint', 'bought', 'batman', 'mouth', 'religion', 'choic', 'sick', 'steve', 'tape', 'drag', 'tast', 'report', 'loud', 'drop', 'cult', 'depress', 'fulci', 'rel', 'unbeliev', 'villag', 'physic', 'requir', 'target', 'rape', 'bond', 'marriag', 'maker', 'cross', 'plenti', 'admir', 'suicid', 'laughabl', 'thu', 'mental', 'program', 'ride', 'intend', 'shadow', 'hurt', 'sadli', 'spirit', 'crimin', 'colleg', 'respons', 'serial', 'heavi', 'innoc', 'nowher', 'sub', 'kick', 'mainli', 'longer', 'smart', 'wrote', 'garbag', 'share', 'assum', 'ice', 'trash', 'blow', 'teacher', 'area', 'bomb', 'rob', 'rule', 'teen', 'bug', 'smith', 'initi', 'sceneri', 'held', 'collect', 'design', 'excus', 'destroy', 'kevin', 'record', 'crash', 'worthi', 'consist', 'current', 'singer', 'content', 'ball', 'machin', 'davi', 'honest', 'bottom', 'nasti', 'dragon', 'chemistri', 'harri', 'hospit', 'thoroughli', 'repeat', 'month', 'protagonist', 'sight', 'haunt', 'receiv', 'born', 'complex', 'cabl', 'mountain', 'outsid', 'interview', 'essenti', 'focu', 'narrat', 'center', 'desert', 'scienc', 'fresh', 'author', 'ill', 'genuin', 'werewolf', 'fascin', 'fox', 'desir', 'disappear', 'thrown', 'occur', 'tone', 'cloth', 'sean', 'surround', 'promis', 'decad', 'militari', 'clue', 'evid', 'hide', 'readi', 'occasion', 'dread', 'honestli', 'sell', 'arm', 'favourit', 'somewher', 'besid', 'prepar', 'exploit', 'cartoon', 'robin', 'silent', 'dare', 'scott', 'outstand', 'affect', 'guard', 'stunt', 'hitchcock', 'hey', 'latter', 'slowli', 'flat', 'model', 'translat', 'assist', 'stretch', 'wind', 'smile', 'thousand', 'choos', 'technic', 'redeem', 'motiv', 'ugli', 'graphic', 'challeng', 'opportun', 'camp', 'replac', 'tradit', 'govern', 'steven', 'stone', 'demon', 'childhood', 'thrill', 'mile', 'jone', 'industri', 'lee', 'compel', 'avail', 'fulli', 'sent', 'pack', 'van', 'likabl', 'remot', 'rais', 'six', 'bar', 'cameo', 'seven', 'sam', 'techniqu', 'pair', 'asid', 'nuditi', 'pointless', 'inform', 'conclus', 'neg', 'anywher', 'numer', 'allen', 'join', 'board', 'bruce', 'focus', 'trap', 'green', 'will', 'spot', 'constantli', 'terror', 'humour', 'unknown', 'boyfriend', 'captain', 'presenc', 'foot', 'nonsens', 'brown', 'grant', 'scientist', 'ring', 'addit', 'root', 'mistak', 'wow', 'explor', 'tie', 'repres', 'common', 'whatsoev', 'charl', 'doubl', 'system', 'south', 'fool', 'independ', 'seek', 'round', 'sentiment', 'awar', 'core', 'encount', 'frustrat', 'forev', 'push', 'spoil', 'plane', 'festiv', 'ground', 'andrew', 'winner', 'dad', 'everybodi', 'psycholog', 'disgust', 'process', 'zero', 'chan', 'research', 'legend', 'achiev', 'individu', 'interpret', 'length', 'simon', 'mom', 'younger', 'skip', 'brutal', 'fell', 'homeless', 'led', 'condit', 'desper', 'jane', 'anti', 'mood', 'porn', 'weapon', 'hors', 'stun', 'heaven', 'bloodi', 'ahead', 'comed', 'reveng', 'agent', 'christma', 'civil', 'morn', 'seat', 'wall', 'beach', 'grace', 'drawn', 'nobodi', 'dub', 'hook', 'improv', 'skeleton', 'russian', 'iron', 'affair', 'teach', 'radio', 'pop', 'commerci', 'nake', 'commentari', 'cage', 'formula', 'jean', 'rose', 'gari', 'martin', 'embarrass', 'opera', 'resembl', 'mine', 'chaplin', 'giant', 'intens', 'hang', 'educ', 'accid', 'test', 'corp', 'host', 'ob', 'summer', 'frank', 'up', 'santa', 'hire', 'spanish', 'academi', 'cgi', 'wander', 'energi', 'sport', 'thin', 'mike', 'logic', 'began', 'onto', 'fat', 'flashback', 'bed', 'account', 'angri', 'frame', 'bos', 'fair', 'visit', 'subtl', 'hundr', 'sat', 'craft', 'faith', 'willi', 'heroin', 'compet', 'paid', 'unit', 'sum', 'hotel', 'damn', 'wound', 'player', 'opposit', 'therefor', 'photograph', 'mission', 'cant', 'fortun', 'biggest', 'absurd', 'massacr', 'knowledg', 'edward', 'punch', 'adam', 'dollar', 'bank', 'separ', 'priest', 'rescu', 'signific', 'west', 'uncl', 'cinemat', 'influenc', 'london', 'brief', 'mid', 'chine', 'angel', 'trust', 'reflect', 'appropri', 'cooper', 'angl', 'string', 'wide', 'post', 'guest', 'gang', 'clark', 'trailer', 'charli', 'gorgeou', 'matur', 'stephen', 'necessari', 'forgotten', 'kidnap', 'brian', 'notabl', 'metal', 'drunk', 'north', 'rachel', 'convers', 'tragedi', 'surreal', 'insan', 'queen', 'cell', 'unusu', 'peac', 'blame', 'youth', 'refus', 'key', 'prefer', 'justic', 'leg', 'disast', 'rubbish', 'pari', 'cash', 'quick', 'sign', 'addict', 'reli', 'fred', 'truck', 'leader', 'realis', 'sharp', 'contrast', 'abus', 'scenario', 'jacki', 'satir', 'accur', 'professor', 'highlight', 'crowd', 'christian', 'statu', 'amateur', 'blockbust', 'jesu', 'billi', 'medium', 'friendship', 'central', 'driver', 'hint', 'corni', 'insult', 'thoma', 'subtitl', 'supposedli', 'tend', 'cost', 'favor', 'gangster', 'boat', 'as', 'piti', 'factor', 'tune', 'somebodi', 'stuck', 'komodo', 'revolv', 'news', 'chick', 'terrorist', 'stock', 'gold', 'met', 'page', 'recogn', 'chose', 'observ', 'domin', 'moor', 'size', 'interact', 'european', 'rush', 'unintent', 'recal', 'jackson', 'charg', 'safe', 'twenti', 'proper', 'intern', 'monkey', 'albert', 'ford', 'lift', 'excess', 'lesbian', 'brilliantli', 'vincent', 'whilst', 'kong', 'hat', 'command', 'explan', 'debut', 'twice', 'attitud', 'studi', 'vh', 'stumbl', 'shape', 'amanda', 'convey', 'lock', 'risk', 'object', 'load', 'meanwhil', 'method', 'larri', 'carol', 'bob', 'that', 'constant', 'quot', 'strike', 'england', 'buddi', 'theatric', 'reaction', 'superior', 'window', 'random', 'tediou', 'cannib', 'comparison', 'dirti', 'credibl', 'welcom', 'solv', 'capabl', 'parodi', 'belief', 'kane', 'mario', 'knock', 'golden', 'slapstick', 'epic', 'hidden', 'noir', 'associ', 'joe', 'heist', 'dean', 'rise', 'hall', 'fellow', 'guid', 'blind', 'danni', 'dozen', 'routin', 'watchabl', 'unfold', 'succeed', 'tim', 'devic', 'complic', 'accident', 'sir', 'witti', 'render', 'satan', 'rang', 'mr', 'afraid', 'comfort', 'religi', 'skin', 'river', 'crack', 'east', 'unexpect', 'contriv', 'progress', 'funniest', 'mirror', 'psycho', 'behavior', 'trial', 'quiet', 'whenev', 'oper', 'friday', 'user', 'site', 'irrit', 'southern', 'julia', 'broken', 'texa', 'bu', 'aim', 'witch', 'instanc', 'burt', 'cousin', 'mask', 'magnific', 'anybodi', 'protect', 'floor', 'anymor', 'nine', 'regret', 'joseph', 'conflict', 'speech', 'clichéd', 'awkward', 'semi', 'maintain', 'warm', 'blond', 'rank', 'purchas', 'freddi', 'denni', 'justifi', 'contemporari', 'eddi', 'flight', 'decis', 'satisfi', 'keith', 'ancient', 'posse', 'trek', 'shallow', 'partner', 'lone', 'foreign', 'walter', 'movement', 'lucki', 'gori', 'forgiv', 'bound', 'strength', 'refresh', 'empti', 'franc', 'rain', 'wake', 'shine', 'hudson', 'determin', 'bibl', 'varieti', 'sincer', 'burton', 'lane', 'grave', 'regular', 'gruesom', 'fault', 'spectacular', 'symbol', 'shakespear', 'finest', 'nevertheless', 'speed', 'gut', 'field', 'vision', 'unnecessari', 'pleasur', 'strongli', 'catherin', 'hardi', 'shout', 'frankli', 'tabl', 'carpent', 'subplot', 'nightmar', 'sky', 'rat', 'spoof', 'realism', 'poster', 'joy', 'wayn', 'experienc', 'segment', 'swear', 'african', 'mickey', 'attend', 'kiss', 'fish', 'select', 'wooden', 'relief', 'retir', 'laurel', 'complaint', 'nativ', 'warrior', 'diamond', 'vacat', 'establish', 'ant', 'bat', 'mass', 'print', 'pre', 'resid', 'keaton', 'jungl', 'topic', 'cinderella', 'pan', 'bridg', 'sheer', 'strip', 'deadli', 'overlook', 'failur', 'alan', 'explos', 'specif', 'deliber', 'construct', 'market', 'celebr', 'sword', 'argument', 'border', 'europ', 'outfit', 'spoken', 'statement', 'roger', 'afterward', 'luke', 'owen', 'switch', 'accord', 'flash', 'daniel', 'assassin', 'complain', 'anna', 'discoveri', 'buck', 'engin', 'concentr', 'superman', 'sake', 'jason', 'bland', 'insight', 'convict', 'pretend', 'invit', 'dancer', 'dougla', 'soap', 'employ', 'grip', 'summari', 'gain', 'moon', 'overli', 'princ', 'quinn', 'wash', 'brave', 'grew', 'reminisc', 'distribut', 'lord', 'turkey', 'shut', 'stare', 'graham', 'advic', 'confess', 'instal', 'sudden', 'advis', 'be', 'trick', 'blast', 'devil', 'forgett', 'soft', 'castl', 'predat', 'worker', 'tree', 'bulli', 'saturday', 'announc', 'chees', 'marin', 'expo', 'goofi', 'loser', 'cheat', 'bright', 'nonetheless', 'frequent', 'accompani', 'price', 'ali', 'toy', 'donald', 'liner', 'china', 'invent', 'bet', 'loss', 'demand', 'pitch', 'dan', 'legendari', 'tight', 'structur', 'roosevelt', 'promot', 'basebal', 'nazi', 'gift', 'oliv', 'hunter', 'church', 'theori', 'cur', 'hyster', 'surfac', 'luck', 'torn', 'grudg', 'borrow', 'enemi', 'fourth', 'bigger', 'offend', 'ticket', 'bullet', 'jewish', 'fatal', 'sidney', 'corner', 'tea', 'australian', 'depend', 'repetit', 'birth', 'mexican', 'sensit', 'christi', 'flesh', 'gordon', 'threaten', 'incid', 'secur', 'identifi', 'wealthi', 'karen', 'ador', 'crappi', 'sold', 'categori', 'clean', 'india', 'gotten', 'bite', 'accomplish', 'unrealist', 'usa', 'tongu', 'andi', 'amateurish', 'expens', 'canadian', 'miser', 'dorothi', 'fame', 'oddli', 'context', 'alcohol', 'abandon', 'melodrama', 'assign', 'privat', 'boot', 'authent', 'bear', 'belong', 'hong', 'prevent', 'guarante', 'ocean', 'consider', 'kinda', 'smoke', 'kelli', 'prais', 'extend', 'nurs', 'vehicl', 'robot', 'dislik', 'jennif', 'network', 'citizen', 'contest', 'theatr', 'woodi', 'confid', 'perspect', 'ear', 'lewi', 'michel', 'shi', 'nois', 'mexico', 'frighten', 'morgan', 'revolut', 'pal', 'cher', 'asleep', 'coher', 'degre', 'dana', 'christoph', 'reward', 'honor', 'inept', 'johnni', 'carrey', 'appal', 'chipmunk', 'link', 'shake', 'flynn', 'jail', 'prime', 'character', 'glass', 'finger', 'neighborhood', 'armor', 'doom', 'scratch', 'brook', 'shirley', 'conrad', 'seemingli', 'screw', 'wilson', 'crush', 'chill', 'glori', 'wherea', 'owner', 'gratuit', 'freak', 'letter', 'pile', 'notch', 'brillianc', 'wrap', 'lion', 'explod', 'fifti', 'examin', 'contact', 'mill', 'anger', 'snow', 'shift', 'itali', 'shop', 'sympathet', 'clumsi', 'sleazi', 'food', 'spi', 'whale', 'victor', 'randi', 'creator', 'slap', 'propaganda', 'navi', 'deepli', 'path', 'popul', 'reynold', 'patriot', 'altern', 'virgin', 'roy', 'divorc', 'recreat', 'supernatur', 'clip', 'christ', 'trilog', 'kibbutz', 'encourag', 'ran', 'cring', 'wave', 'steel', 'kurt', 'technolog', 'cruel', 'breath', 'nail', 'fund', 'format', 'gene', 'partli', 'visconti', 'traci', 'garden', 'succe', 'dimension', 'entri', 'sarah', 'heck', 'woo', 'servic', 'ruthless', 'deni', 'laughter', 'australia', 'address', 'empir', 'chop', 'proof', 'raw', 'helen', 'screenwrit', 'clich', 'quirki', 'makeup', 'blend', 'transform', 'templ', 'treatment', 'pound', 'cartwright', 'unforgett', 'anthoni', 'necessarili', 'peak', 'hugh', 'fate', 'carlo', 'par', 'prior', 'taylor', 'rage', 'paper', 'benefit', 'loui', 'cobra', 'cassavet', 'godfath', 'wreck', 'glimps', 'fond', 'declar', 'zoey', 'worthwhil', 'ordinari', 'jerk', 'sutherland', 'elizabeth', 'worri', 'previous', 'convent', 'stolen', 'mainstream', 'mgm', 'expert', 'medic', 'subsequ', 'tommi', 'hype', 'circumst', 'viru', 'corrupt', 'jami', 'erot', 'barbara', 'depart', 'che', 'utter', 'uninterest', 'correct', 'dealt', 'thirti', 'dinosaur', 'atroci', 'rice', 'hammer', 'inconsist', 'downright', 'intellectu', 'sophist', 'aid', 'butler', 'irish', 'till', 'essenc', 'stewart', 'scriptwrit', 'adequ', 'consequ', 'jackass', 'courag', 'closer', 'vagu', 'endur', 'advanc', 'austen', 'prostitut', 'sun', 'survivor', 'jaw', 'diseas', 'nut', 'amazingli', 'sullivan', 'bitter', 'wwii', 'fonda', 'stink', 'holli', 'pet', 'san', 'pat', 'prey', 'exercis', 'iwerk', 'holiday', 'provok', 'contribut', 'wing', 'compos', 'lawyer', 'exagger', 'doll', 'enhanc', 'weekend', 'comedian', 'kudo', 'lay', 'diver', 'ban', 'murray', 'disc', 'latest', 'polish', 'nude', 'preview', 'hip', 'japan', 'franco', 'crystal', 'height', 'oppos', 'scarlett', 'carmen', 'gross', 'coburn', 'driven', 'martian', 'mitchum', 'spin', 'reput', 'via', 'arab', 'seagal', 'outrag', 'creation', 'distract', 'remov', 'luci', 'freeman', 'homag', 'split', 'pretenti', 'ivan', 'wanna', 'veteran', 'rourk', 'grown', 'arrog', 'pregnant', 'widow', 'chicago', 'endless', 'tini', 'angela', 'wed', 'cheer', 'beer', 'stab', 'warner', 'marvel', 'transit', 'illeg', 'plastic', 'innov', 'overdon', 'layer', 'loyal', 'organ', 'substanc', 'boll', 'knott', 'handsom', 'hood', 'imit', 'hamlet', 'fbi', 'crude', 'weight', 'rome', 'patient', 'min', 'task', 'health', 'buff', 'insist', 'mild', 'occas', 'ned', 'emphasi', 'trade', 'heat', 'lake', 'vulgar', 'rough', 'gonna', 'dunn', 'helicopt', 'bbc', 'trace', 'stoog', 'jess', 'russel', 'presid', 'sourc', 'landscap', 'ingrid', 'poke', 'angi', 'resort', 'custer', 'footbal', 'jerri', 'countless', 'storytel', 'howard', 'scheme', 'gear', 'jay', 'bath', 'reject', 'prize', 'bike', 'struck', 'sheriff', 'indulg', 'alvin', 'chuckl', 'dude', 'halloween', 'beg', 'slight', 'korean', 'norman', 'cruis', 'advantag', 'flow', 'flop', 'chuck', 'devoid', 'cheek', 'audio', 'knight', 'notori', 'virtual', 'assur', 'lifetim', 'eight', 'kennedi', 'franchis', 'gentleman', 'balanc', 'induc', 'blair', 'trail', 'lovabl', 'spiritu', 'ventur', 'grand', 'unabl', 'bam', 'slightest', 'blake', 'rebel', 'inevit', 'storm', 'indi', 'per', 'shall', 'safeti', 'lupino', 'bone', 'concert', 'mini', 'alic', 'mastermind', 'rope', 'chair', 'rival', 'minimum', 'distinct', 'librari', 'cain', 'guilti', 'stole', 'instantli', 'unfunni', 'con', 'nose', 'absorb', 'racism', 'versu', 'freedom', 'impact', 'internet', 'sinatra', 'fest', 'stomach', 'showcas', 'candi', 'satisfact', 'exact', 'metaphor', 'fals', 'ala', 'puppet', 'bottl', 'unconvinc', 'asian', 'orang', 'deeper', 'stiff', 'poignant', 'matt', 'moron', 'spell', 'duti', 'regardless', 'integr', 'nicol', 'charismat', 'persona', 'silver', 'california', 'perri', 'forth', 'joan', 'sympathi', 'olivia', 'seventi', 'press', 'fetch', 'coincid', 'mstk', 'baffl', 'digit', 'edgar', 'julian', 'conveni', 'shark', 'skeptic', 'facial', 'topless', 'label', 'almighti', 'multipl', 'clown', 'invis', 'griffith', 'eaten', 'lisa', 'enterpris', 'princess', 'jonathan', 'halfway', 'rental', 'confront', 'threw', 'finney', 'introduct', 'arrang', 'stranger', 'hideou', 'giallo', 'offici', 'portrait', 'lloyd', 'ham', 'clone', 'primari', 'dear', 'resourc', 'emili', 'bori', 'wynorski', 'devast', 'charisma', 'tunnel', 'culmin', 'captiv', 'cameron', 'silenc', 'destin', 'mous', 'recycl', 'liber', 'dinner', 'chao', 'beneath', 'relev', 'merit', 'rabbit', 'primarili', 'antic', 'obnoxi', 'attach', 'happili', 'amongst', 'bobbi', 'matthau', 'enchant', 'whip', 'spare', 'policeman', 'holocaust', 'scotland', 'caricatur', 'deriv', 'hack', 'inherit', 'dri', 'sitcom', 'gather', 'stood', 'fare', 'broke', 'giggl', 'dig', 'sentenc', 'destruct', 'colour', 'jazz', 'laura', 'farm', 'forest', 'surf', 'nanci', 'neo', 'winter', 'palma', 'fulfil', 'pacino', 'milk', 'immens', 'stack', 'aunt', 'thumb', 'adopt', 'competit', 'higher', 'measur', 'conneri', 'stalk', 'pro', 'function', 'defin', 'momma', 'coaster', 'devito', 'etern', 'trite', 'directli', 'eleg', 'pulp', 'hbo', 'azumi', 'craze', 'bride', 'unimagin', 'sibl', 'eighti', 'greatli', 'inhabit', 'whoever', 'alley', 'hoffman', 'dedic', 'recruit', 'disbelief', 'code', 'proud', 'reserv', 'bumbl', 'widescreen', 'raider', 'resist', 'cure', 'campi', 'huston', 'circl', 'leagu', 'politician', 'drain', 'melodramat', 'marion', 'ensu', 'ralph', 'vice', 'prop', 'berlin', 'tech', 'strictli', 'olivi', 'breast', 'fuller', 'parallel', 'pun', 'mormon', 'rehears', 'alright', 'arrest', 'hippi', 'menac', 'spectat', 'shoe', 'twelv', 'nobl', 'mukhsin', 'dian', 'equip', 'golf', 'restrict', 'stir', 'oil', 'cream', 'cardboard', 'crocodil', 'imageri', 'uninspir', 'meyer', 'infam', 'explicit', 'march', 'fade', 'manipul', 'tour', 'poetic', 'everywher', 'jar', 'extent', 'bleak', 'gradual', 'ludicr', 'daili', 'defeat', 'sole', 'porno', 'plagu', 'tackl', 'overact', 'backdrop', 'duke', 'flawless', 'mindless', 'properli', 'humili', 'linda', 'outer', 'shower', 'max', 'partial', 'beast', 'nowaday', 'extraordinari', 'resolv', 'greater', 'mafia', 'carter', 'brand', 'unpleas', 'elvira', 'alik', 'tip', 'combat', 'treasur', 'lousi', 'earn', 'broadway', 'preciou', 'clock', 'minim', 'dick', 'throat', 'manson', 'zone', 'bag', 'isol', 'harm', 'importantli', 'jessica', 'scale', 'musician', 'gloria', 'cynic', 'underr', 'rendit', 'bradi', 'nearbi', 'indic', 'raymond', 'aka', 'fairi', 'brush', 'miller', 'packag', 'transport', 'mechan', 'unhappi', 'lynch', 'jolin', 'sensibl', 'trait', 'phillip', 'martial', 'rid', 'ceremoni', 'altogeth', 'revel', 'fanci', 'dictat', 'hynkel', 'outing', 'astonish', 'icon', 'activ', 'album', 'tourist', 'teeth', 'mildli', 'lab', 'mel', 'characterist', 'upset', 'particip', 'camper', 'emerg', 'tribut', 'pool', 'global', 'sinist', 'cruelti', 'taxi', 'deliveri', 'endear', 'stan', 'lyric', 'transcend', 'lean', 'coast', 'massiv', 'conceiv', 'anticip', 'rupert', 'hay', 'roman', 'greedi', 'rivet', 'underground', 'germani', 'card', 'abysm', 'phase', 'neglect', 'newman', 'bend', 'bush', 'emma', 'plant', 'custom', 'nuanc', 'block', 'item', 'sin', 'bravo', 'tower', 'hesit', 'birthday', 'shirt', 'cube', 'scientif', 'prom', 'roller', 'subtleti', 'pierc', 'horrif', 'meaning', 'understood', 'distant', 'pose', 'gadget', 'literatur', 'uniform', 'exchang', 'muddl', 'hop', 'slaughter', 'alfr', 'dawn', 'kim', 'sacrific', 'hopeless', 'inspector', 'ideal', 'retard', 'psychic', 'websit', 'dynam', 'walt', 'tremend', 'clueless', 'irrelev', 'wheeler', 'instrument', 'proceed', 'franci', 'compliment', 'canada', 'stylish', 'nostalg', 'turd', 'inan', 'distanc', 'defi', 'neighbor', 'traumat', 'liar', 'boredom', 'soccer', 'cowboy', 'atroc', 'preposter', 'guilt', 'bucket', 'ambigu', 'awak', 'lust', 'daddi', 'bathroom', 'redempt', 'armstrong', 'clara', 'com', 'ward', 'mighti', 'elev', 'appli', 'boil', 'tank', 'exhaust', 'miyazaki', 'skit', 'hoot', 'romp', 'horrid', 'britain', 'victoria', 'reel', 'hatr', 'tramp', 'pleasant', 'unwatch', 'illustr', 'featurett', 'bate', 'journalist', 'hardcor', 'drown', 'betray', 'betti', 'grey', 'curiou', 'incoher', 'puzzl', 'portion', 'lazi', 'dressler', 'factori', 'incomprehens', 'fabul', 'barrel', 'demonstr', 'ironi', 'nuclear', 'squar', 'outcom', 'behav', 'environ', 'motorcycl', 'belov', 'float', 'earl', 'enthusiast', 'pale', 'spark', 'uplift', 'leonard', 'ian', 'suspend', 'submarin', 'ingredi', 'bin', 'shortli', 'racist', 'psychot', 'scottish', 'row', 'eastwood', 'ego', 'greek', 'astronaut', 'chief', 'regularli', 'nelson', 'undead', 'joker', 'liberti', 'admittedli', 'carl', 'cook', 'blunt', 'predecessor', 'eric', 'bang', 'parker', 'salli', 'friendli', 'sara', 'eve', 'haruhi', 'superflu', 'watson', 'tap', 'respond', 'goer', 'suspici', 'seller', 'lesli', 'section', 'dose', 'restaur', 'maximum', 'elimin', 'hawk', 'bonanza', 'ton', 'map', 'drove', 'overcom', 'distinguish', 'toss', 'trio', 'lestat', 'stark', 'faulkner', 'interrupt', 'ernest', 'shatner', 'johnson', 'quest', 'daffi', 'controversi', 'psychopath', 'swim', 'toler', 'wwe', 'savag', 'evolv', 'fundament', 'spock', 'reader', 'reev', 'chain', 'laid', 'celluloid', 'contradict', 'paranoia', 'document', 'reliabl', 'awaken', 'rees', 'cheerlead', 'difficulti', 'flip', 'grasp', 'darn', 'spooki', 'brenda', 'robinson', 'lennon', 'jew', 'passeng', 'nick', 'elliott', 'detract', 'retain', 'purpl', 'jule', 'lip', 'harsh', 'paradis', 'skull', 'maria', 'nostalgia', 'suspicion', 'barney', 'neil', 'headach', 'afternoon', 'span', 'mutil', 'divin', 'feast', 'drift', 'crisi', 'bell', 'harriet', 'forgot', 'zoom', 'surgeri', 'mistaken', 'yesterday', 'gothic', 'worthless', 'estat', 'chosen', 'washington', 'profess', 'royal', 'grim', 'sink', 'vomit', 'mob', 'chainsaw', 'threat', 'slip', 'manti', 'unbear', 'sixti', 'minu', 'curio', 'disguis', 'file', 'implaus', 'verhoeven', 'arthur', 'samurai', 'bonu', 'closet', 'miracl', 'suyin', 'bollywood', 'toilet', 'fist', 'aspir', 'sue', 'spread', 'loneli', 'unorigin', 'await', 'pursuit', 'offens', 'milo', 'descript', 'scope', 'nicholson', 'employe', 'feed', 'wick', 'kung', 'christin', 'susan', 'yellow', 'illog', 'sustain', 'instant', 'button', 'coward', 'union', 'holm', 'mate', 'demis', 'uncomfort', 'warren', 'phantasm', 'ought', 'court', 'asylum', 'jeff', 'wrestler', 'vega', 'nathan', 'pad', 'built', 'smooth', 'spit', 'downhil', 'solut', 'legitim', 'crook', 'pink', 'gritti', 'overwhelm', 'globe', 'unravel', 'ordeal', 'furthermor', 'sneak', 'grab', 'howl', 'craven', 'champion', 'philosophi', 'sixth', 'disagre', 'henc', 'brittani', 'louie', 'rotj', 'stormtroop', 'bull', 'climb', 'wont', 'highway', 'lower', 'tool', 'fanat', 'profound', 'riot', 'meatbal', 'miscast', 'matrix', 'heroic', 'kate', 'himesh', 'unleash', 'debat', 'fritton', 'fix', 'stanwyck', 'dave', 'fiancé', 'nerd', 'urban', 'benni', 'pressur', 'swing', 'mobster', 'cake', 'punish', 'sacrif', 'restor', 'unexpectedli', 'wheel', 'junk', 'profit', 'fighter', 'craig', 'brit', 'kingdom', 'guru', 'gamer', 'walker', 'undeni', 'showdown', 'nolan', 'huh', 'blown', 'gate', 'heavili', 'wildli', 'trigger', 'pepper', 'creep', 'invas', 'nearest', 'conduct', 'dwell', 'stinker', 'iraq', 'bargain', 'shelf', 'recip', 'grotesqu', 'cinematograph', 'qualifi', 'carson', 'vivid', 'counter', 'claudiu', 'recognit', 'rout', 'rant', 'foul', 'farc', 'jordan', 'volum', 'capit', 'access', 'incident', 'exot', 'dash', 'atlanti', 'naiv', 'soprano', 'region', 'fallen', 'ace', 'automat', 'elect', 'forti', 'mtv', 'dmytryk', 'lesser', 'mixtur', 'glanc', 'flag', 'bedroom', 'worn', 'promin', 'bird', 'abund', 'stress', 'realm', 'murphi', 'garcia', 'kitchen', 'dysfunct', 'amir', 'diminish', 'rehash', 'ambit', 'rod', 'cole', 'secretli', 'util', 'colleagu', 'resurrect', 'wannab', 'sirk', 'basi', 'lauren', 'ensur', 'impli', 'absent', 'ponder', 'horrifi', 'harrison', 'entireti', 'bock', 'yell', 'dukaki', 'thief', 'polici', 'boom', 'vulner', 'russia', 'confin', 'rocki', 'choppi', 'genet', 'applaud', 'butcher', 'bash', 'drivel', 'auteur', 'gotta', 'boyc', 'justin', 'monk', 'peasant', 'barber', 'diaz', 'roommat', 'superbl', 'splendid', 'fog', 'what', 'awe', 'babe', 'blink', 'egg', 'warrant', 'basement', 'rotten', 'salman', 'bow', 'revolt', 'pete', 'amitabh', 'tomorrow', 'burst', 'counterpart', 'albeit', 'popcorn', 'terrifi', 'emmi', 'equival', 'slice', 'fifteen', 'poker', 'graini', 'dupe', 'garbo', 'trivia', 'scorpion', 'hitch', 'juri', 'femm', 'electr', 'humbl', 'bela', 'beard', 'theodor', 'error', 'june', 'lang', 'bud', 'pie', 'settl', 'oblig', 'clau', 'spike', 'isra', 'duckl', 'tag', 'recov', 'substitut', 'institut', 'eccentr', 'suitabl', 'choreograph', 'delici', 'playboy', 'financ', 'wive', 'sennett', 'sore', 'grinch', 'easier', 'swedish', 'digniti', 'logan', 'taint', 'hound', 'looney', 'angst', 'pseudo', 'patricia', 'pride', 'khan', 'subtli', 'companion', 'presum', 'shaki', 'ghetto', 'jeep', 'corey', 'spite', 'selfish', 'dust', 'vengeanc', 'mislead', 'orient', 'flair', 'mack', 'spencer', 'atlanta', 'upper', 'artemisia', 'highest', 'stale', 'phoni', 'ski', 'sarandon', 'funnier', 'buster', 'expand', 'waco', 'ark', 'updat', 'own', 'dodg', 'lo', 'helpless', 'scifi', 'nephew', 'aesthet', 'ira', 'distress', 'thread', 'hopelessli', 'dimens', 'heel', 'dicken', 'baker', 'holi', 'seal', 'token', 'asset', 'brazil', 'jade', 'slim', 'contend', 'everyday', 'wizard', 'spear', 'proce', 'multi', 'sigh', 'dive', 'needle', 'relax', 'monologu', 'horrend', 'mediev', 'uneven', 'assembl', 'exhibit', 'infect', 'cow', 'flame', 'unsatisfi', 'tender', 'inventor', 'medicin', 'wax', 'smallest', 'upsid', 'exit', 'hongshen', 'luckili', 'ridden', 'ebert', 'danton', 'exterior', 'racial', 'rave', 'laurenc', 'slumber', 'beaten', 'dont', 'eager', 'pleasantli', 'underli', 'gestur', 'biker', 'communist', 'yawn', 'lethal', 'choru', 'reload', 'aboard', 'myer', 'gap', 'biographi', 'favour', 'comb', 'afghanistan', 'decenc', 'moreov', 'consum', 'diner', 'adolesc', 'chunk', 'grate', 'redford', 'salesman', 'enthusiasm', 'reed', 'underst', 'prejudic', 'engross', 'hick', 'viciou', 'toe', 'increasingli', 'gere', 'patti', 'furiou', 'boob', 'centr', 'wealth', 'licens', 'blank', 'instinct', 'destini', 'heath', 'shortcom', 'ramsey', 'phenomenon', 'damag', 'sadist', 'connor', 'buri', 'alex', 'advertis', 'immigr', 'marshal', 'estrang', 'distort', 'billion', 'iii', 'clair', 'sock', 'cave', 'lili', 'romantic', 'saint', 'dispos', 'invest', 'exclus', 'compil', 'session', 'filler', 'nightclub', 'annakin', 'museum', 'midnight', 'walken', 'unsettl', 'rural', 'pitt', 'airport', 'stiller', 'streep', 'signal', 'bowl', 'conclud', 'cush', 'spout', 'hamilton', 'climact', 'pit', 'chin', 'chapter', 'crucial', 'confirm', 'samuel', 'dungeon', 'bikini', 'archetyp', 'robber', 'gabriel', 'smarmi', 'northern', 'inher', 'crossfir', 'doc', 'insert', 'plausibl', 'insur', 'paxton', 'directori', 'robespierr', 'jeremi', 'brick', 'egyptian', 'passag', 'pig', 'inadvert', 'extract', 'fleet', 'dutch', 'donna', 'ingeni', 'exposur', 'vastli', 'reg', 'bay', 'knife', 'miniseri', 'milland', 'rick', 'joel', 'raisuli', 'chipett', 'stronger', 'deanna', 'mesmer', 'interior', 'athlet', 'slam', 'ensembl', 'sketch', 'inner', 'secondari', 'sappi', 'commend', 'gaelic', 'mcqueen', 'blah', 'propos', 'intro', 'pirat', 'unfaith', 'slash', 'garner', 'hopper', 'spring', 'sophi', 'ralston', 'salt', 'stargat', 'rickman', 'carax', 'booth', 'itv', 'vincenzo', 'goldi', 'taught', 'spiral', 'inclin', 'keen', 'slave', 'sharki', 'shooter', 'sailor', 'banal', 'dealer', 'simpson', 'trooper', 'doug', 'verbal', 'lincoln', 'joli', 'spade', 'evok', 'conserv', 'miseri', 'shade', 'repli', 'clint', 'wong', 'amor', 'accus', 'gentl', 'chávez', 'obscur', 'compass', 'sand', 'gilbert', 'distributor', 'manhattan', 'hal', 'compens', 'transfer', 'von', 'sublim', 'text', 'neighbour', 'meaningless', 'stroke', 'enorm', 'over', 'cabin', 'rambo', 'dreyfus', 'kamal', 'decor', 'coloni', 'tarantino', 'facil', 'stray', 'bett', 'wrench', 'rosenlski', 'alter', 'beethoven', 'bump', 'til', 'hitler', 'darkwolf', 'carver', 'profan', 'crisp', 'startl', 'ted', 'meat', 'visitor', 'nightbre', 'den', 'zani', 'habit', 'improvis', 'olymp', 'dodgi', 'emi', 'sunset', 'malon', 'glamor', 'neck', 'dismiss', 'muslim', 'mute', 'broadcast', 'rex', 'experiment', 'ponyo', 'merci', 'wrestl', 'boo', 'pen', 'flush', 'larger', 'amidst', 'tho', 'raj', 'imperson', 'dummi', 'saddl', 'rocker', 'archiv', 'steer', 'coppola', 'rous', 'detest', 'referenc', 'moan', 'eleanor', 'ami', 'web', 'dentist', 'railroad', 'arnold', 'casbah', 'englund', 'disregard', 'noel', 'convincingli', 'philip', 'sunday', 'flower', 'hawn', 'percept', 'bacon', 'snake', 'junki', 'chew', 'domest', 'helmet', 'rampag', 'fed', 'spree', 'spaghetti', 'replay', 'brosnan', 'coach', 'react', 'airplan', 'dee', 'dresser', 'gypsi', 'annan', 'firm', 'enthral', 'barri', 'revers', 'financi', 'paranoid', 'stapl', 'thalluri', 'civilian', 'agoni', 'messi', 'redneck', 'inferior', 'segreg', 'therapi', 'array', 'caper', 'honesti', 'heartwarm', 'endlessli', 'steam', 'vital', 'egypt', 'braveheart', 'ken', 'elderli', 'slept', 'speci', 'lush', 'disjoint', 'pretens', 'asham', 'lurk', 'beverli', 'meeker', 'mansion', 'lugosi', 'pattern', 'earnest', 'sassi', 'reno', 'convolut', 'absenc', 'belt', 'paus', 'mayor', 'campbel', 'guardian', 'costner', 'repuls', 'kutcher', 'diana', 'boast', 'percent', 'aftermath', 'wore', 'blew', 'isaac', 'bearabl', 'faux', 'unexplain', 'publish', 'impos', 'flee', 'tent', 'blatant', 'futurist', 'implic', 'shoulder', 'shorter', 'perman', 'spectacl', 'baddi', 'calcul', 'piano', 'servant', 'secondli', 'chicken', 'chow', 'firstli', 'tall', 'hare', 'müller', 'hello', 'spider', 'brazilian', 'woke', 'outdat', 'vijay', 'winchest', 'crowhurst', 'stereo', 'feisti', 'similarli', 'reb', 'critiqu', 'abduct', 'cliff', 'spill', 'smaller', 'ork', 'blaze', 'divid', 'stitch', 'bold', 'vast', 'dillon', 'cusack', 'unsympathet', 'blatantli', 'africa', 'ada', 'gardenia', 'evan', 'dawson', 'discern', 'luxuri', 'avakum', 'patrick', 'vile', 'argu', 'kramer', 'ledger', 'johanson', 'sheen', 'tito', 'bloom', 'chart', 'injustic', 'belli', 'lace', 'latino', 'aiello', 'befriend', 'stilt', 'declin', 'notion', 'sorrow', 'clooney', 'powel', 'victorian', 'descend', 'sidekick', 'squad', 'tonight', 'reduc', 'bolt', 'mutat', 'grandpa', 'hail', 'accuraci', 'leigh', 'despis', 'resolut', 'punchlin', 'swept', 'reluct', 'crow', 'launch', 'mitchel', 'monoton', 'panti', 'closest', 'underwear', 'audrey', 'juliet', 'timothi', 'aris', 'krueger', 'sofia', 'wardrob', 'secretari', 'insomnia', 'strain', 'provoc', 'attribut', 'ginger', 'titta', 'eleven', 'twilight', 'wagner', 'ritual', 'navajo', 'bogard', 'busey', 'elabor', 'intim', 'edmund', 'mode', 'gig', 'oppon', 'breed', 'wig', 'inflict', 'madam', 'graviti', 'chip', 'trashi', 'ga', 'pegg', 'telegraph', 'oblivion', 'aircraft', 'miracul', 'homosexu', 'grandfath', 'baron', 'scamp', 'witherspoon', 'kubrick', 'devot', 'vanish', 'capt', 'tack', 'hum', 'tactic', 'virginia', 'staff', 'higgin', 'cope', 'rubi', 'rhett', 'drastic', 'weaver', 'disabl', 'pee', 'airlin', 'protest', 'profil', 'radu', 'cigarett', 'cemeteri', 'templar', 'awhil', 'rariti', 'bryan', 'bro', 'smash', 'underworld', 'compromis', 'morri', 'senior', 'seduct', 'anand', 'newspap', 'cyborg', 'semit', 'dracula', 'spielberg', 'pimp', 'flood', 'shred', 'lifestyl', 'worship', 'graduat', 'rocket', 'travesti', 'tiresom', 'overus', 'feat', 'acquir', 'superfici', 'spacey', 'immatur', 'eastern', 'photo', 'pb', 'apolog', 'grandmoth', 'nauseat', 'sexploit', 'barn', 'graci', 'lit', 'nanni', 'vaudevil', 'chocol', 'bakshi', 'lawrenc', 'scarecrow', 'temper', 'raid', 'austin', 'radar', 'lengthi', 'sanctimoni', 'incorpor', 'eyr', 'darl', 'inexplic', 'outbreak', 'costello', 'abbott', 'insipid', 'penn', 'einstein', 'connelli', 'kathryn', 'sparkl', 'regim', 'hometown', 'reliv', 'spoke', 'biopic', 'spain', 'legaci', 'outlin', 'aveng', 'unsuspect', 'wilkinson', 'nineti', 'molli', 'bout', 'csi', 'request', 'steadi', 'candid', 'softwar', 'tripe', 'pot', 'interestingli', 'cerebr', 'catchi', 'crippl', 'wilder', 'heston', 'versatil', 'propel', 'beatti', 'barrier', 'overlong', 'han', 'scoobi', 'cuba', 'sucker', 'eeri', 'renegad', 'conan', 'proclaim', 'conspiraci', 'avid', 'proport', 'casual', 'analyz', 'pickford', 'rita', 'acclaim', 'governor', 'mon', 'pursu', 'emran', 'defend', 'elder', 'repress', 'hypocrisi', 'dutcher', 'anatomi', 'hee', 'persuad', 'weakest', 'oxford', 'altman', 'donner', 'slide', 'delv', 'surgeon', 'restrain', 'quintessenti', 'wipe', 'crawl', 'juda', 'waitress', 'plod', 'venic', 'insignific', 'calm', 'overbear', 'sheffer', 'rooki', 'sylvia', 'neutral', 'emphas', 'sharon', 'stefan', 'tit', 'owe', 'ram', 'millionair', 'pin', 'repris', 'lorna', 'succubu', 'unreal', 'mattei', 'recognis', 'sang', 'enigmat', 'pour', 'groan', 'romeo', 'whisper', 'enabl', 'madonna', 'slug', 'unpredict', 'hain', 'ration', 'freaki', 'oversea', 'python', 'antagonist', 'joint', 'harder', 'hannah', 'rhythm', 'wheelchair', 'monti', 'novelist', 'redund', 'prayer', 'bitch', 'merciless', 'relentlessli', 'pang', 'darker', 'undoubtedli', 'timon', 'bunni', 'accustom', 'bruno', 'panic', 'approxim', 'foxx', 'palestinian', 'youngest', 'chest', 'isabel', 'bia', 'crypt', 'circu', 'adjust', 'farley', 'tomato', 'heartbreak', 'compound', 'concoct', 'ufo', 'nest', 'whine', 'hara', 'talentless', 'urg', 'preston', 'openli', 'weav', 'archaeologist', 'meld', 'abraham', 'shed', 'reviv', 'speaker', 'buzz', 'brink', 'flock', 'perceiv', 'ambiti', 'gibson', 'broad', 'reform', 'unseen', 'psychiatrist', 'tarzan', 'whiskey', 'misplac', 'susi', 'net', 'clarenc', 'ferox', 'plumb', 'lend', 'alexand', 'raptor', 'peach', 'legal', 'vein', 'nonexist', 'jake', 'lawson', 'meantim', 'slower', 'muscl', 'businessman', 'throne', 'bradburi', 'akhenaton', 'goldeney', 'disgrac', 'parad', 'bacal', 'bullock', 'kyon', 'cater', 'hapless', 'godzilla', 'harvey', 'digger', 'testament', 'lynn', 'sale', 'kathi', 'cliffhang', 'unforgiv', 'enforc', 'auer', 'infiltr', 'anwar', 'schneider', 'bog', 'submit', 'bleed', 'landmark', 'blade', 'dizzi', 'dimwit', 'coat', 'payn', 'simmon', 'ozzi', 'levi', 'pizza', 'durbin', 'kent', 'rori', 'intoler', 'triangl', 'phil', 'nicola', 'reek', 'hartley', 'composit', 'warfar', 'neurot', 'twin', 'spous', 'btw', 'wahlberg', 'growth', 'claw', 'stimul', 'punk', 'loyalti', 'hutton', 'dement', 'ritter', 'nel', 'trinian', 'behold', 'fascist', 'greet', 'bart', 'wayan', 'technicolor', 'tiger', 'nervou', 'juvenil', 'graveyard', 'hypnot', 'prizzi', 'vader', 'stockler', 'client', 'gimmick', 'huppert', 'wan', 'penni', 'stratten', 'loy', 'heartili', 'represent', 'lagoon', 'rude', 'drool', 'weatherbi', 'begun', 'primit', 'glenn', 'bigot', 'counti', 'oberon', 'lunat', 'cup', 'precis', 'coffin', 'silva', 'breathtak', 'bounc', 'werewolv', 'stellar', 'bunuel', 'gossip', 'lelia', 'contempl', 'philosoph', 'coen', 'variat', 'agren', 'rpg', 'briefli', 'rider', 'anchor', 'decept', 'butt', 'salva', 'assault', 'hank', 'smell', 'obstacl', 'stake', 'senseless', 'seymour', 'preachi', 'pollack', 'grammar', 'lieuten', 'enlist', 'elton', 'roof', 'foundat', 'drum', 'kidman', 'flirt', 'assert', 'drill', 'tenaci', 'columbo', 'energet', 'versa', 'psychedel', 'imperium', 'quantum', 'falk', 'feather', 'arc', 'rumbl', 'yard', 'saif', 'pamela', 'cathol', 'cycl', 'dismal', 'gender', 'lurid', 'chess', 'empathi', 'fought', 'sniper', 'schedul', 'kitten', 'strangl', 'dump', 'artsi', 'midget', 'hungri', 'kryptonit', 'drench', 'rodeo', 'soup', 'assort', 'classi', 'penelop', 'daylight', 'instructor', 'stalwart', 'bitchi', 'fabric', 'chupacabra', 'simul', 'strongest', 'rko', 'sander', 'rightli', 'margaret', 'elit', 'fierc', 'microchip', 'collaps', 'rhi', 'shootout', 'fathom', 'dalla', 'troma', 'mason', 'sophomor', 'ransom', 'electron', 'lansburi', 'entitl', 'flimsi', 'biolog', 'troup', 'cia', 'mart', 'coma', 'woven', 'theft', 'patienc', 'ewok', 'francisco', 'splatter', 'substanti', 'caruso', 'swallow', 'candl', 'antarctica', 'romero', 'fishburn', 'poverti', 'chronicl', 'lest', 'sandra', 'shrill', 'gu', 'log', 'allianc', 'horn', 'sooner', 'thrust', 'fido', 'woolsey', 'yasmin', 'mock', 'alongsid', 'collabor', 'epitom', 'choreographi', 'warmth', 'quixot', 'voyag', 'calib', 'wet', 'contract', 'derek', 'transplant', 'compris', 'quaid', 'fay', 'splash', 'exclud', 'counselor', 'moder', 'pole', 'axe', 'nerv', 'vault', 'randomli', 'defens', 'unearth', 'blush', 'daytim', 'bastard', 'subtext', 'countrysid', 'wine', 'raunchi', 'carpet', 'anthem', 'surpass', 'lite', 'boundari', 'poison', 'newli', 'monke', 'outlaw', 'revolutionari', 'errol', 'distinctli', 'swashbuckl', 'deaf', 'immers', 'hooker', 'bergman', 'collin', 'relentless', 'anderson', 'shahrukh', 'nutti', 'degrad', 'cram', 'effici', 'sheep', 'ugh', 'madden', 'repair', 'brooklyn', 'jealousi', 'denzel', 'weep', 'strung', 'lifeless', 'straightforward', 'warp', 'sosk', 'brawl', 'robbin', 'stomp', 'diesel', 'clive', 'shelli', 'eva', 'pixar', 'ditch', 'pacif', 'abstract', 'diaper', 'aggress', 'reign', 'marjori', 'ustinov', 'blackmail', 'patho', 'sympath', 'thick', 'loretta', 'bernic', 'bullshit', 'dali', 'purs', 'starski', 'angelina', 'preming', 'anastasia', 'stepsist', 'casino', 'erm', 'taft', 'griffin', 'extravaganza', 'aristocrat', 'wallac', 'scar', 'happier', 'fiend', 'cristi', 'appl', 'quentin', 'whim', 'idol', 'kerman', 'oppress', 'meryl', 'rene', 'midler', 'peculiar', 'comeback', 'rigid', 'jenni', 'conscienc', 'margaux', 'vonnegut', 'princip', 'tide', 'duchess', 'hulk', 'aussi', 'cuti', 'renart', 'growl', 'quietli', 'stupidli', 'honour', 'shoddi', 'girolamo', 'recit', 'tube', 'misfit', 'oneself', 'tashan', 'dna', 'abruptli', 'pronounc', 'freez', 'righteou', 'rogu', 'injuri', 'curti', 'slick', 'joyou', 'edgi', 'olympia', 'recogniz', 'kansa', 'farmer', 'blur', 'soviet', 'paragraph', 'succumb', 'discard', 'sack', 'alert', 'mahoney', 'glu', 'kiefer', 'sleaz', 'toyoji', 'godmoth', 'beatl', 'hark', 'smarter', 'erickson', 'palac', 'wherein', 'viewpoint', 'cent', 'cue', 'mumbai', 'retrospect', 'dassin', 'aidan', 'poetri', 'duck', 'prospect', 'gellar', 'marx', 'regist', 'shave', 'iran', 'sleepi', 'burr', 'gregori', 'webb', 'tick', 'turturro', 'juhi', 'vari', 'zip', 'bless', 'sli', 'youngster', 'caribbean', 'scandal', 'cap', 'debt', 'junior', 'garag', 'trademark', 'trend', 'yash', 'vancouv', 'kitti', 'interlud', 'championship', 'healthi', 'cafe', 'nasa', 'teller', 'unmatch', 'foil', 'fifth', 'unattract', 'regina', 'traffic', 'disciplin', 'outset', 'misfortun', 'wider', 'arch', 'likeabl', 'gown', 'noteworthi', 'torch', 'tyrant', 'increas', 'terri', 'shenanigan', 'sought', 'synopsi', 'backward', 'horizon', 'we', 'miranda', 'liam', 'starv', 'hepburn', 'videotap', 'manufactur', 'collar', 'mclaglen', 'reluctantli', 'streisand', 'novak', 'mankind', 'august', 'matthew', 'youtub', 'esquir', 'choke', 'yoda', 'akin', 'goldsworthi', 'sweat', 'delusion', 'extens', 'grizzli', 'elmor', 'orchestra', 'numb', 'lemmon', 'sollett', 'brien', 'alaimo', 'trim', 'termin', 'petti', 'frolic', 'miami', 'meal', 'columbia', 'refuge', 'flex', 'email', 'uncov', 'tcm', 'nielsen', 'carolina', 'sunk', 'confeder', 'starewicz', 'nomine', 'stanley', 'curat', 'dolphin', 'heap', 'compuls', 'unresolv', 'mobil', 'economi', 'dreck', 'bergen', 'shuffl', 'lobbi', 'hyde', 'acid', 'sidewalk', 'rubber', 'unimpress', 'winston', 'tsui', 'hung', 'bullitt', 'mud', 'franz', 'aurora', 'titil', 'janet', 'foremost', 'atom', 'eagerli', 'vinc', 'elsewher', 'glover', 'randolph', 'thru', 'allegori', 'galleri', 'consciou', 'correctli', 'unlucki', 'agn', 'perdicari', 'fewer', 'boxer', 'tamil', 'ratio', 'petit', 'braun', 'applaus', 'sorceri', 'hmm', 'artifici', 'comer', 'karl', 'guri', 'likewis', 'committe', 'dictionari', 'vividli', 'smack', 'owl', 'curri', 'damm', 'tenant', 'sim', 'imperi', 'sissi', 'beckham', 'biblic', 'principl', 'bimbo', 'deniro', 'paycheck', 'intric', 'mum', 'luca', 'dug', 'envi', 'elmer', 'singh', 'lola', 'darth', 'udo', 'mug', 'interrog', 'haha', 'evolut', 'wholli', 'myriad', 'highland', 'deer', 'brainless', 'edi', 'labor', 'har', 'averi', 'byrn', 'peck', 'longest', 'harden', 'connoisseur', 'sant', 'geraldin', 'mraovich', 'quarter', 'yorker', 'tribe', 'outdoor', 'tidi', 'abound', 'inadequ', 'chamber', 'galaxi', 'limp', 'nielson', 'bald', 'stripper', 'neat', 'victori', 'margin', 'semin', 'didnt', 'sober', 'laden', 'maid', 'bloodsh', 'lou', 'mistress', 'prompt', 'schtick', 'rosco', 'foster', 'incompet', 'cum', 'everytown', 'fieri', 'alfonso', 'palanc', 'cavalcad', 'fragil', 'down', 'neill', 'ish', 'convert', 'marlow', 'colonel', 'editor', 'downward', 'reckless', 'baba', 'loi', 'allud', 'embrac', 'household', 'hostag', 'hindi', 'criticis', 'orson', 'decapit', 'occupi', 'twitch', 'vers', 'properti', 'runway', 'reda', 'privi', 'illegitim', 'mehta', 'literari', 'caan', 'duval', 'heather', 'pump', 'jewel', 'dot', 'liu', 'casablanca', 'pioneer', 'barker', 'stroll', 'fugit', 'rumor', 'maci', 'elvi', 'hayden', 'rochest', 'cohes', 'mannequin', 'cracker', 'snl', 'prohibit', 'clash', 'luthor', 'fritz', 'unrel', 'stuart', 'resent', 'turntabl', 'tomb', 'injur', 'everett', 'northam', 'acknowledg', 'dwarf', 'ape', 'mumbl', 'oldest', 'pyun', 'crop', 'sheet', 'fluid', 'raisouli', 'ld', 'belushi', 'hackney', 'cb', 'frightmar', 'nicknam', 'sherlock', 'campaign', 'wwi', 'ampl', 'dalton', 'forbidden', 'clariti', 'premier', 'karat', 'timmi', 'schultz', 'abbot', 'attorney', 'coverag', 'liz', 'busbi', 'headlin', 'reunion', 'mama', 'ellen', 'drone', 'auto', 'clunki', 'pray', 'futil', 'sampson', 'tad', 'despic', 'plight', 'shanghai', 'po', 'volunt', 'asimov', 'branch', 'unsuccess', 'madman', 'chaotic', 'sloppi', 'scum', 'melancholi', 'commiss', 'montag', 'unrat', 'luchino', 'rifl', 'agreement', 'ineffect', 'soak', 'moko', 'arguabl', 'bewild', 'strand', 'bloke', 'firmli', 'pornograph', 'vibe', 'zodiac', 'inappropri', 'opu', 'heighten', 'saga', 'fodder', 'adrian', 'nemesi', 'jose', 'lionel', 'antonioni', 'goal', 'occup', 'void', 'goldberg', 'danish', 'fever', 'impati', 'coolest', 'wtc', 'shore', 'lunch', 'tobi', 'magazin', 'conquer', 'disservic', 'starlet', 'entic', 'fantas', 'coin', 'greg', 'daft', 'motif', 'onlin', 'rebelli', 'wright', 'surfer', 'camcord', 'predica', 'couch', 'misguid', 'martha', 'novelti', 'norri', 'dell', 'alli', 'grandma', 'coltran', 'mundan', 'bronson', 'shaken', 'tax', 'nod', 'pant', 'ea', 'verg', 'amiabl', 'sevil', 'geeki', 'akshay', 'turner', 'bennett', 'kiddi', 'sail', 'andr', 'misunderstand', 'vocal', 'lib', 'shemp', 'circuit', 'phenomen', 'mail', 'erika', 'cavalri', 'durant', 'overwrought', 'disfigur', 'suppress', 'henderson', 'intertwin', 'sicken', 'georgia', 'pearl', 'harp', 'duo', 'feminist', 'florida', 'unwil', 'shepitko', 'yank', 'gloriou', 'consumm', 'sprinkl', 'seventh', 'stepper', 'mainland', 'troop', 'wretch', 'guitar', 'harold', 'moe', 'soderbergh', 'pedecari', 'downbeat', 'titular', 'domino', 'tail', 'useless', 'wagon', 'marc', 'seldom', 'forgiven', 'niro', 'speechless', 'missionari', 'meander', 'rapist', 'harbor', 'phoenix', 'schlesing', 'courtenay', 'judgment', 'moran', 'yuppi', 'gaffikin', 'pipe', 'feder', 'crusad', 'nichola', 'thrive', 'salvator', 'shoestr', 'significantli', 'doo', 'resum', 'midst', 'textur', 'parkman', 'ranger', 'priceless', 'automobil', 'bent', 'downfal', 'netflix', 'ambianc', 'cuban', 'ambassador', 'spoon', 'poop', 'slot', 'agenda', 'shameless', 'embarrassingli', 'descent', 'moralist', 'faint', 'nich', 'dangl', 'syke', 'oswald', 'yield', 'gubra', 'condemn', 'quasi', 'renew', 'cecil', 'courtroom', 'sicko', 'almodóvar', 'sluggish', 'overpow', 'unclear', 'rosario', 'bowser', 'pianist', 'discomfort', 'inmat', 'prioriti', 'butch', 'orphan', 'incap', 'preach', 'headlight', 'tweak', 'foolishli', 'cedric', 'abbrevi', 'luma', 'indiana', 'imperioli', 'leo', 'off', 'unwav', 'crown', 'standoff', 'snob', 'bread', 'watt', 'squeez', 'simplist', 'perpetu', 'judith', 'dish', 'crocki', 'styliz', 'ole', 'rhyme', 'inquir', 'vcr', 'upcom', 'degener', 'schumach', 'shakespearean', 'solemn', 'holden', 'melt', 'sterl', 'mystic', 'sparrow', 'caution', 'mallika', 'fiasco', 'lightweight', 'staircas', 'croc', 'placid', 'forrest', 'stunk', 'spray', 'brew', 'utah', 'gosh', 'thompson', 'visibl', 'soda', 'astonishingli', 'static', 'scout', 'listless', 'nerdi', 'conseguenz', 'brad', 'embed', 'eileen', 'stuffi', 'rudi', 'conced', 'drew', 'dire', 'negoti', 'skirt', 'ronald', 'rug', 'tame', 'hiss', 'delic', 'personnel', 'hacker', 'bennet', 'stagger', 'knightley', 'keira', 'nyc', 'classifi', 'nora', 'gape', 'incom', 'embark', 'scrub', 'spar', 'retel', 'monday', 'ecstat', 'surrend', 'shell', 'snippet', 'butterfli', 'abli', 'characteris', 'smug', 'shotgun', 'fri', 'bust', 'silvano', 'chiller', 'strikingli', 'pam', 'maggot', 'hunchback', 'dye', 'treacher', 'mose', 'contrari', 'talki', 'psychologist', 'winc', 'stunningli', 'meg', 'paulin', 'masterwork', 'weaponri', 'jed', 'nicki', 'overlap', 'torus', 'boyl', 'custodi', 'fortress', 'mcdaniel', 'detriment', 'lambert', 'hatti', 'puppi', 'cosmo', 'disapprov', 'shaw', 'prank', 'befuddl', 'goodby', 'captor', 'canari', 'gotham', 'vigilant', 'batwoman', 'muster', 'beal', 'profoundli', 'louis', 'ripoff', 'snowman', 'lopez', 'sadi', 'lightn', 'banter', 'exquisit', 'knee', 'repeatedli', 'rené', 'inman', 'monro', 'moodi', 'setup', 'jealou', 'poem', 'caddyshack', 'impuls', 'stallon', 'fort', 'displeasur', 'gerard', 'arquett', 'richardson', 'expertis', 'catastroph', 'sponsor', 'mellow', 'accentu', 'gato', 'cama', 'sting', 'jolt', 'menu', 'commi', 'kenneth', 'babett', 'polli', 'turgid', 'painter', 'molina', 'entrail', 'tribul', 'insensit', 'bluff', 'mccartney', 'handicap', 'curious', 'hawaiian', 'ripe', 'imprison', 'encompass', 'tamblyn', 'ideolog', 'cann', 'ogrodnik', 'maggi', 'gargoyl', 'superhero', 'newcom', 'schlock', 'cronenberg', 'jacket', 'deem', 'abomin', 'ultra', 'switzerland', 'tightli', 'veer', 'quaint', 'underplay', 'robberi', 'prototyp', 'promptli', 'brendan', 'goug', 'runner', 'portman', 'kingsley', 'sunshin', 'contempt', 'and', 'upgrad', 'monstrou', 'hunki', 'pul', 'empath', 'meter', 'warehous', 'brow', 'leven', 'malevol', 'alexandra', 'brodi', 'epidem', 'berkeley', 'fenc', 'latch', 'misfir', 'masquerad', 'patholog', 'dublin', 'merchant', 'iren', 'kyle', 'placement', 'cancer', 'rif', 'bruckner', 'heal', 'rap', 'mar', 'pond', 'boston', 'unflatt', 'farcri', 'colin', 'insect', 'clan', 'dweller', 'masculin', 'raini', 'rotoscop', 'errat', 'lex', 'spaceship', 'radioact', 'summar', 'bravura', 'shocker', 'fiona', 'curli', 'gabl', 'jill', 'coffe', 'peni', 'competitor', 'starter', 'melodi', 'rapidli', 'fend', 'conquest', 'ruggl', 'stutter', 'brisk', 'jessi', 'afford', 'aforement', 'bounti', 'anxiou', 'justif', 'churn', 'suppli', 'gisaburo', 'goodi', 'arous', 'seiko', 'townspeopl', 'hue', 'paré', 'mcgavin', 'dope', 'mimic', 'jamaican', 'modifi', 'wee', 'offbeat', 'bruis', 'modest', 'lanza', 'pike', 'fertil', 'dale', 'powder', 'preserv', 'motorbik', 'olli', 'hotd', 'balloon', 'klau', 'cruz', 'invari', 'villa', 'essay', 'pakistan', 'stoke', 'liaison', 'budgetari', 'mauric', 'torso', 'physiqu', 'marcu', 'intrus', 'dart', 'pinnacl', 'roach', 'sunni', 'mortal', 'gray', 'aaron', 'jona', 'uwe', 'perpetr', 'weari', 'orgasm', 'ferrari', 'carerra', 'elementari', 'seedi', 'mustang', 'squeal', 'rear', 'refug', 'violin', 'slum', 'nonstop', 'watcher', 'frat', 'jet', 'btk', 'lago', 'juan', 'hindu', 'bobba', 'fett', 'terrain', 'solo', 'preced', 'phantom', 'goldblum', 'mcshane', 'myth', 'rerun', 'spontan', 'macarthur', 'overtli', 'ravish', 'audit', 'ruffalo', 'imperfect', 'allur', 'refreshingli', 'casey', 'dumber', 'theolog', 'yanke', 'vain', 'input', 'cloud', 'hostil', 'zealand', 'hybrid', 'woodland', 'irrespons', 'jock', 'tarnish', 'temptat', 'hallmark', 'alec', 'guin', 'monica', 'hangov', 'niec', 'grind', 'serum', 'behaviour', 'alaska', 'cohen', 'underscor', 'clifton', 'mister', 'overflow', 'rever', 'triumph', 'mythic', 'massey', 'mindset', 'thirst', 'ricki', 'quip', 'deliri', 'imaginari', 'orlean', 'lampoon', 'sieg', 'op', 'necess', 'milton', 'affleck', 'criterion', 'hart', 'philadelphia', 'lindsey', 'raimi', 'conjunct', 'messeng', 'tighter', 'rosi', 'otto', 'banker', 'dirt', 'underneath', 'snappi', 'afghan', 'agenc', 'fricker', 'illus', 'geez', 'branagh', 'esther', 'sweetheart', 'grief', 'denver', 'deadpan', 'interven', 'omar', 'procedur', 'shield', 'dice', 'weather', 'motel', 'trunk', 'ross', 'scorses', 'voter', 'haver', 'sheridan', 'orderli', 'dani', 'robard', 'merri', 'bevi', 'district', 'output', 'lad', 'divert', 'emperor', 'alleg', 'retread', 'incarn', 'physician', 'refin', 'heartfelt', 'prologu', 'geek', 'recap', 'tout', 'inhuman', 'crosbi', 'scan', 'poppin', 'streamlin', 'greta', 'hari', 'penchant', 'mystifi', 'exorcist', 'conceit', 'macbeth', 'unnecessarili', 'blunder', 'quotabl', 'forehead', 'thwart', 'filmic', 'sadhu', 'indiffer', 'ploy', 'dar', 'derbyshir', 'sleepaway', 'territori', 'hellborn', 'ambul', 'vaniti', 'shambl', 'sinuh', 'chloe', 'tattoo', 'anytim', 'alastair', 'culp', 'dickinson', 'screech', 'deceas', 'vera', 'derang', 'lovelif', 'darr', 'nabokov', 'econom', 'tin', 'wal', 'avenu', 'haack', 'knightli', 'drab', 'rapid', 'vienna', 'prot', 'delicatessen', 'inject', 'snack', 'philipp', 'drebin', 'someday', 'griev', 'serbian', 'tremain', 'varga', 'margera', 'grisli', 'chant', 'eden', 'nihil', 'banner', 'rotat', 'handgun', 'irv', 'option', 'norwegian', 'timberlak', 'incorrect', 'superpow', 'humorless', 'crossov', 'spacek', 'barcelona', 'gunner', 'pred', 'rite', 'killshot', 'dud', 'tish', 'tolling', 'skullduggeri', 'expedit', 'blondel', 'litter', 'soror', 'magoo', 'sascha', 'natalia', 'sancho', 'dujardin', 'persian', 'cypher', 'reban', 'partanna', 'simonetta', 'asia', 'delay', 'nakadei', 'acual', 'intru', 'benjamin', 'kollo', 'wwf', 'rufo', 'hogg', 'hussain', 'falcon', 'melissa', 'marigold', 'jackal', 'tonia', 'chevi', 'ligabu', 'vanilla', 'trisha', 'shue', 'preppi', 'gra', 'clees', 'cutout', 'cyclon', 'pavarotti', 'mutual', 'stepmoth', 'blossom', 'fitzgerald', 'jug', 'cockney', 'cleric', 'limb', 'felin', 'cagney', 'reservoir', 'romulan', 'llyod', 'gor', 'firefight', 'slater', 'ninja', 'chiba', 'hemingway', 'brisson', 'bra', 'knox', 'def', 'lackawanna', 'pola', 'sepia', 'tint', 'cannon', 'bernard', 'hardest', 'backstag', 'lombard', 'montgomeri', 'stride', 'savini', 'ostens', 'taboo', 'arden', 'thereaft', 'dispens', 'clarifi', 'retreat', 'deneuv', 'charit', 'brandon', 'dame', 'eloqu', 'misunderstood', 'diehl', 'constitut', 'pfeiffer', 'tilney', 'www', 'worldwid', 'circa', 'cleverli', 'glow', 'hmmm', 'baldwin', 'saura', 'modesti', 'peril', 'sensat', 'luzhin', 'changel', 'coke', 'israel', 'miniatur', 'suav', 'casket', 'distraught', 'cranki', 'misadventur', 'cancel', 'loung', 'ferrel', 'polar', 'lap', 'bandit', 'emin', 'persist', 'goddard', 'gee', 'immacul', 'helm', 'superstar', 'cocain', 'marijuana', 'dirk', 'manga', 'lordi', 'wender', 'dustin', 'richi', 'carradin', 'ireland', 'jurass', 'transpar', 'erni', 'shawshank', 'mahler', 'mustach', 'stream', 'poo', 'weaker', 'tangl', 'millennium', 'del', 'obtus', 'rampant', 'lenzi', 'looni', 'jerom', 'gal', 'humanist', 'seiz', 'embassi', 'deputi', 'shockingli', 'col', 'hypocrit', 'overr', 'finn', 'finland', 'valley', 'april', 'peek', 'deed', 'bake', 'laser', 'unborn', 'outright', 'ketchup', 'havoc', 'seed', 'shaggi', 'rattl', 'bias', 'pleasanc', 'minotaur', 'archaeolog', 'megan', 'gillian', 'amp', 'liven', 'linnea', 'seclud', 'venu', 'fur', 'dreamlik', 'welker', 'lumet', 'deck', 'monument', 'tora', 'housewif', 'ethnic', 'slob', 'mend', 'havilland', 'arduou', 'occurr', 'haphazard', 'harvest', 'perplex', 'damsel', 'sane', 'grunt', 'wield', 'nadia', 'atlant', 'floyd', 'lure', 'tempest', 'apt', 'concret', 'outburst', 'scorn', 'gertrud', 'mayhem', 'vibrant', 'libbi', 'leno', 'macreadi', 'infidel', 'jumbo', 'teddi', 'merk', 'aficionado', 'rudimentari', 'sordid', 'renown', 'evalu', 'mano', 'disrespect', 'krishna', 'tango', 'joey', 'clerk', 'snoop', 'reappear', 'drunken', 'charlott', 'stud', 'emotionless', 'thiev', 'proverbi', 'glitch', 'hush', 'prosper', 'farrel', 'infest', 'afflict', 'durat', 'robe', 'undermin', 'dormitori', 'segal', 'cherish', 'unnot', 'cattl', 'cherri', 'kline', 'warden', 'corbett', 'seduc', 'innuendo', 'extern', 'selleck', 'sprawl', 'breach', 'goat', 'suffici', 'obi', 'gloss', 'peer', 'radiant', 'grayson', 'cassi', 'albino', 'brahm', 'stockwel', 'operat', 'theron', 'ilk', 'nikki', 'byne', 'memoir', 'irrevoc', 'carrol', 'shelter', 'christensen', 'saniti', 'scrambl', 'defect', 'hyena', 'chopra', 'wacki', 'flavor', 'ventimiglia', 'alicia', 'muddi', 'myrna', 'evelyn', 'leland', 'steffen', 'neeson', 'dam', 'patron', 'porter', 'enix', 'creepier', 'cabot', 'dispar', 'stix', 'expertli', 'bop', 'trudg', 'conni', 'arsen', 'odyssey', 'gen', 'swift', 'levin', 'greenlight', 'govinda', 'beggar', 'supermarket', 'spotlight', 'lotteri', 'tai', 'omit', 'bhatt', 'imbu', 'prequel', 'newhart', 'georgio', 'mathilda', 'poltergeist', 'zoo', 'bailey', 'hitchhik', 'grain', 'bsg', 'laci', 'environment', 'maniac', 'advoc', 'fabl', 'battlefield', 'ferdin', 'hairdo', 'clockwork', 'annual', 'applic', 'colleen', 'flik', 'jare', 'idiosyncrat', 'focal', 'compon', 'repent', 'dogm', 'calibr', 'lil', 'jeri', 'dishevel', 'roar', 'manhunt', 'donnel', 'buddha', 'voluptu', 'underestim', 'reilli', 'leari', 'centerfold', 'worsen', 'heterosexu', 'regain', 'aux', 'reaffirm', 'spun', 'overshadow', 'splice', 'sayl', 'soulless', 'mainten', 'perfum', 'salaci', 'inch', 'inferno', 'mortician', 'cutaway', 'censor', 'voodoo', 'edison', 'homer', 'hoop', 'kinnear', 'mole', 'bachelor', 'mac', 'kipl', 'cam', 'siegel', 'stash', 'decidedli', 'chore', 'mulan', 'sandler', 'contin', 'remad', 'requisit', 'buffoon', 'mutter', 'suburb', 'merkerson', 'vaudevillian', 'boogi', 'ruth', 'mercilessli', 'cocoon', 'entourag', 'hustler', 'antônio', 'inclus', 'tuck', 'moss', 'katrina', 'firth', 'shear', 'suburbia', 'aiden', 'thereof', 'pumbaa', 'shawn', 'fuzzi', 'nauseum', 'outcast', 'sydney', 'narrow', 'stardom', 'groundbreak', 'skinni', 'disclaim', 'stall', 'suburban', 'scariest', 'abbey', 'sheilah', 'cach', 'hanek', 'adulteri', 'symphoni', 'slop', 'norwel', 'greed', 'lore', 'flare', 'whup', 'filter', 'viva', 'pocket', 'flora', 'doorway', 'fring', 'guinea', 'rosalind', 'amok', 'walton', 'mischa', 'winning', 'voyeur', 'sicilian', 'mansfield', 'keel', 'boost', 'overton', 'knoxvil', 'stylist', 'satellit', 'cloy', 'glossi', 'nintendo', 'moreland', 'yul', 'inabl', 'ass', 'goo', 'fontain', 'gloomi', 'keitel', 'carmilla', 'rajinikanth', 'attest', 'repay', 'predominantli', 'inaccur', 'walthal', 'tina', 'arena', 'sleek', 'gawd', 'hilar', 'fellowship', 'sweep', 'lament', 'deceiv', 'sod', 'capac', 'seizur', 'brommel', 'entwistl', 'sugar', 'notr', 'flashi', 'jumbl', 'superimpos', 'lighten', 'kristel', 'undo', 'pryce', 'uncrit', 'blethyn', 'marit', 'muriël', 'marcel', 'demot', 'carbon', 'palsi', 'orthodox', 'lamb', 'skimpi', 'dorm', 'gandhi', 'sushi', 'waist', 'sturgi', 'eleph', 'thinner', 'wesley', 'bounci', 'sheedi', 'veronica', 'marti', 'coconut', 'kirkland', 'coot', 'pine', 'behalf', 'cling', 'thorn', 'schmuck', 'darren', 'prevail', 'ordinarili', 'heavyweight', 'janin', 'gateway', 'snuff', 'erotic', 'æon', 'notorieti', 'hannib', 'yeh', 'peacock', 'breezi', 'middleton', 'madsen', 'mcmahon', 'waterston', 'naughti', 'whistl', 'underag', 'thewli', 'heali', 'edna', 'ophelia', 'rockford', 'she', 'camilla', 'penguin', 'pastich', 'tropic', 'purist', 'seki', 'courtesi', 'shelv', 'slang', 'explet', 'cocktail', 'provinci', 'natali', 'caretak', 'dreari', 'humanoid', 'bicker', 'tomich', 'impecc', 'perdit', 'hel', 'airhead', 'formerli', 'pca', 'wendigo', 'rickshaw', 'aimless', 'disco', 'brotherhood', 'dien', 'miliu', 'closeup', 'ogl', 'gerrick', 'rubin', 'partit', 'alia', 'homeland', 'protector', 'hercul', 'amber', 'prehistor', 'noah', 'pertin', 'effemin', 'allison', 'nastiest', 'peen', 'bundl', 'unavoid', 'obtain', 'boyz', 'hr', 'botanist', 'pakistani', 'shamelessli', 'valet', 'racer', 'satur', 'elam', 'entiti', 'troi', 'monotheist', 'uncertain', 'petul', 'paranorm', 'fume', 'mathemat', 'timeless', 'lizard', 'shaun', 'nifti', 'seamlessli', 'skelet', 'abid', 'thankless', 'hermit', 'ignit', 'priscilla', 'thunder', 'saboteur', 'sharifah', 'vendor', 'inskip', 'slain', 'knit', 'deton', 'therebi', 'wordi', 'iraqi', 'duchovni', 'platoon', 'slaussen', 'meager', 'leaden', 'valentin', 'hoyt', 'stair', 'miner', 'linger', 'cottag', 'bla', 'uber', 'veng', 'unmarri', 'manna', 'adrenalin', 'grin', 'kenobi', 'meagr', 'identif', 'dim', 'cunningham', 'carel', 'sweati', 'jolli', 'rangi', 'wordless', 'needlessli', 'bloodbath', 'concur', 'aishwarya', 'slut', 'coal', 'crowley', 'drifter', 'flourish', 'sigourney', 'bemus', 'basket', 'twisti', 'arabian', 'unfinish', 'claudia', 'todd', 'ceil', 'fingersmith', 'cropper', 'farscap', 'ate', 'nag', 'underton', 'wallah', 'nitpick', 'uneasi', 'shane', 'immor', 'dove', 'stéphanoi', 'wen', 'more', 'goof', 'hike', 'gabor', 'malley', 'unequ', 'hotti', 'reptil', 'eriksen', 'settlement', 'emil', 'timer', 'cheaper', 'fictiti', 'gibb', 'cynthia', 'elicit', 'specul', 'batteri', 'dusti', 'boleyn', 'sizzl', 'devour', 'whisk', 'avpr', 'fisher', 'insidi', 'hellboy', 'framework', 'foe', 'gin', 'frozen', 'kilmer', 'corpor', 'wonderland', 'dudley', 'janean', 'askey', 'aggrav', 'sickeningli', 'thurman', 'uma', 'kieslowski', 'detractor', 'detroit', 'avp', 'overdos', 'jedi', 'corridor', 'pic', 'azmi', 'da', 'lui', 'sabotag', 'allegor', 'radha', 'aptli', 'pa', 'skate', 'campu', 'stint', 'hurd', 'recollect', 'jekyl', 'stevenson', 'hunger', 'condens', 'snooti', 'sync', 'allan', 'bridget', 'jackman', 'journal', 'dilemma', 'afloat', 'embodi', 'symptom', 'grape', 'paramour', 'stoicism', 'brat', 'sheik', 'egotist', 'sedgwick', 'morocco', 'espionag', 'tarsem', 'stuf', 'poet', 'quarri', 'hamil', 'rebecca', 'clunker', 'transfus', 'bittersweet', 'mcdowel', 'travolta', 'interwoven', 'hickman', 'conductor', 'trivial', 'mold', 'spice', 'wisecrack', 'ringer', 'wage', 'mumbo', 'thug', 'boggi', 'twister', 'ambient', 'filmak', 'crescendo', 'evergreen', 'loop', 'dowdi', 'analysi', 'genesi', 'cerda', 'asinin', 'apocalypt', 'offset', 'samantha', 'soapbox', 'cleavag', 'minimalist', 'rodney', 'shaolin', 'letourneau', 'slack', 'maya', 'payment', 'bot', 'ing', 'oaki', 'sickli', 'hebrew', 'retriev', 'arff', 'upstair', 'skew', 'orchestr', 'amend', 'deborah', 'melinda', 'tyler', 'rooker', 'leap', 'hooper', 'carnag', 'wherev', 'lsd', 'norm', 'tepid', 'unnam', 'echo', 'zen', 'darkest', 'vietnam', 'merced', 'implant', 'transvestit', 'vet', 'inaccuraci', 'radic', 'sexist', 'mcdonald', 'denouement', 'afterword', 'rajnik', 'kathleen', 'problemat', 'conform', 'cape', 'barrymor', 'foolish', 'pinki', 'preacher', 'pedigre', 'niven', 'aristocat', 'morph', 'admiss', 'uncanni', 'yacht', 'exceed', 'claus', 'incarcer', 'gloom', 'gym', 'ron', 'motor', 'curv', 'worm', 'idyl', 'tendenc', 'josé', 'pistol', 'franki', 'digress', 'laud', 'ping', 'sedat', 'hull', 'marquez', 'aviat', 'learnt', 'investor', 'nana', 'nit', 'stalingrad', 'forgeri', 'wrongli', 'sultri', 'wholesom', 'backwood', 'ive', 'subconsci', 'ludwig', 'mermaid', 'blender', 'espagnol', 'prerequisit', 'despair', 'rescuer', 'heavenli', 'her', 'enrico', 'envelop', 'harass', 'clad', 'auberg', 'pencil', 'harley', 'norton', 'hobbi', 'galor', 'batter', 'krimi', 'russo', 'fawcett', 'diminut', 'underw', 'skywalk', 'blurb', 'downtown', 'yearn', 'cari', 'factual', 'sergeant', 'asshol', 'kamala', 'gopal', 'shah', 'bachan', 'pumba', 'reportedli', 'chagrin', 'norfolk', 'shuttl', 'scrap', 'interst', 'ballet', 'filth', 'ballesta', 'sugiyama', 'labour', 'aniston', 'chewbacca', 'cultiv', 'virtu', 'lastli', 'inc', 'blaster', 'outnumb', 'quotient', 'vine', 'syndrom', 'suzumiya', 'flap', 'montagu', 'houston', 'distast', 'dual', 'demi', 'erect', 'bane', 'melbourn', 'overhead', 'linear', 'bombshel', 'wentworth', 'improb', 'exud', 'napoleon', 'disinterest', 'upstag', 'invad', 'unawar', 'valid', 'mcewan', 'jeyaraj', 'meticul', 'joanna', 'overrun', 'cassidi', 'sic', 'pilat', 'emit', 'simplic', 'incur', 'stepford', 'lara', 'tangibl', 'passiv', 'shepherd', 'of', 'sticker', 'korea', 'analog', 'os', 'geoffrey', 'weasel', 'entranc', 'darken', 'basing', 'frost', 'maverick', 'blackout', 'scarc', 'ash', 'squalor', 'bloodthirsti', 'halperin', 'columbu', 'dant', 'nomad', 'fargo', 'tehran', 'yoko', 'punctuat', 'mistreat', 'fridg', 'makepeac', 'marathon', 'grass', 'sandal', 'glare', 'dolbi', 'jäniksen', 'vuosi', 'stanc', 'prematur', 'americana', 'standout', 'trot', 'saratoga', 'explicitli', 'unknowingli', 'alt', 'discreet', 'thespian', 'maginni', 'yak', 'macabr', 'muse', 'ancestor', 'stoddard', 'gasp', 'medit', 'chat', 'intermitt', 'disengag', 'readili', 'gigant', 'trauma', 'idealist', 'micki', 'slew', 'lonesom', 'departur', 'drummer', 'withdraw', 'mushi', 'eal', 'hudkin', 'jmv', 'sceptic', 'misogynist', 'decrepit', 'elus', 'condescend', 'cellar', 'sacrileg', 'cun', 'tamara', 'bail', 'strategi', 'sarcasm', 'atwood', 'boyer', 'unspeak', 'thunderstorm', 'mohr', 'corman', 'discount', 'exposit', 'hater', 'lusciou', 'chronolog', 'puffinstuff', 'lawn', 'flamingo', 'writh', 'cargo', 'candic', 'garth', 'gilmor', 'lorelai', 'kri', 'hazzard', 'bronx', 'goodman', 'fascism', 'haul', 'southwest', 'bootleg', 'tooth', 'tautou', 'valuabl', 'traitor', 'argento', 'err', 'arlen', 'walesa', 'gargantuan', 'momentum', 'eighth', 'handyman', 'hindsight', 'plung', 'kaufman', 'loudli', 'funer', 'overt', 'loner', 'med', 'uncommon', 'gideon', 'eighteenth', 'hilton', 'sensual', 'fairbank', 'mount', 'kilo', 'hairstyl', 'bribe', 'poe', 'usher', 'infatu', 'schizophren', 'bewar', 'ethan', 'rooney', 'muck', 'goriest', 'paltrow', 'deprav', 'domain', 'lucio', 'masterson', 'calibur', 'woe', 'rekert', 'bubbl', 'hillbilli', 'strive', 'palat', 'astral', 'uncontrol', 'sturdi', 'certif', 'sleev', 'hobgoblin', 'pidgeon', 'lent', 'upbeat', 'vendetta', 'chen', 'pivot', 'inbr', 'patriarch', 'ked', 'furnitur', 'roseann', 'aryan', 'macdowel', 'pantomim', 'primal', 'dishearten', 'bourn', 'elm', 'bateman', 'shrink', 'sensationalist', 'capri', 'wil', 'dj', 'wai', 'benton', 'yue', 'jab', 'coax', 'brainwash', 'blacki', 'artistri', 'sacr', 'drip', 'iranian', 'goldthwait', 'bobcat', 'hopkin', 'septemb', 'chawla', 'dilig', 'subvers', 'shadi', 'simultan', 'swiss', 'hyper', 'raci', 'kath', 'verbos', 'burgeon', 'wicka', 'mardi', 'eclips', 'recept', 'raptur', 'eyebrow', 'vertigo', 'dariu', 'brim', 'clergyman', 'appallingli', 'mawkish', 'pastor', 'bead', 'monstros', 'suffic', 'plug', 'lorr', 'danel', 'rassimov', 'viabl', 'tucker', 'jarndyc', 'dunno', 'conscious', 'royalti', 'dismember', 'rediscov', 'subconci', 'forens', 'florinda', 'glee', 'rama', 'matern', 'druid', 'astut', 'sadism', 'reson', 'diablo', 'fireplac', 'stubbi', 'jag', 'reinforc', 'taunt', 'endeavor', 'capano', 'desol', 'disclos', 'prophet', 'hecht', 'venezuelan', 'moth', 'oc', 'woolcott', 'bod', 'irwin', 'clearer', 'cafeteria', 'swordplay', 'hollow', 'debouz', 'bafta', 'bale', 'exemplifi', 'childish', 'mararía', 'consumpt', 'butthead', 'vignett', 'judd', 'drawback', 'oddbal', 'chalk', 'velazquez', 'landi', 'articl', 'diplomat', 'geisha', 'guttenberg', 'yasuko', 'glaringli', 'usag', 'satya', 'clay', 'claud', 'carniv', 'kite', 'deiti', 'chaney', 'fractur', 'knuckl', 'astair', 'unconsci', 'hilliard', 'moviego', 'himmler', 'dumbest', 'callou', 'homerian', 'eagl', 'beau', 'fingernail', 'angelo', 'hickey', 'fallon', 'zhang', 'testimoni', 'snowbal', 'unapp', 'advisor', 'waver', 'gromit', 'mann', 'potent', 'tyson', 'unprofession', 'novemb', 'velvet', 'dynamit', 'moustach', 'quibbl', 'satejowski', 'adulthood', 'honey', 'kenni', 'advers', 'slit', 'hussey', 'ashton', 'microwav', 'anyhow', 'dumont', 'chef', 'brothel', 'entrepreneur', 'roth', 'alarm', 'deezen', 'kidnapp', 'frequenc', 'strict', 'untru', 'programm', 'unfocus', 'frustratingli', 'piss', 'hai', 'smitten', 'prestigi', 'mercenari', 'bonni', 'unjustli', 'lifelong', 'uniformli', 'swap', 'catapult', 'hijack', 'nossit', 'inescap', 'keyboard', 'patter', 'lollo', 'bullsh', 'gambl', 'reliev', 'heinou', 'radiat', 'textbook', 'krisak', 'dimli', 'delud', 'helena', 'brunett', 'squabbl', 'bonham', 'runaway', 'yarn', 'subterfug', 'castrat', 'downer', 'labyrinth', 'gp', 'hawaii', 'robl', 'gusto', 'prudish', 'wrath', 'lamour', 'jeffrey', 'tudor', 'oyama', 'val', 'spew', 'frontier', 'yuck', 'fiance', 'aykroyd', 'keanu', 'onofrio', 'aria', 'imanol', 'kirk', 'imho', 'pillow', 'slay', 'skelter', 'clanci', 'helter', 'chide', 'prolong', 'grenad', 'commission', 'shelley', 'notwithstand', 'mercer', 'bombast', 'harvard', 'la', 'chimney', 'freshman', 'supris', 'marisa', 'spawn', 'mariel', 'sonni', 'execr', 'froggg', 'robbi', 'lollobrigida', 'wolf', 'richer', 'restless', 'thee', 'pleaser', 'hutch', 'rafelson', 'ivi', 'repel', 'tork', 'moonstruck', 'intervent', 'chopper', 'discredit', 'mutant', 'he', 'plainli', 'lovemak', 'brute', 'liquor', 'mash', 'levitt', 'coron', 'kolchack', 'augustu', 'alchemi', 'hissi', 'particl', 'advent', 'astronom', 'ach', 'snowi', 'feud', 'osbourn', 'nubil', 'valeri', 'jerker', 'unavail', 'fright', 'sampl', 'putrid', 'der', 'splendor', 'potter', 'belliger', 'lancast', 'illumin', 'seasid', 'compassion', 'malici', 'ellington', 'eurasian', 'aunti', 'screwbal', 'amalgam', 'unsur', 'joann', 'threesom', 'abe', 'nichol', 'keeper', 'harrington', 'tara', 'sammi', 'carlisl', 'doggi', 'kristofferson', 'uncertainti', 'deform', 'pussi', 'mariana', 'cautiou', 'gaff', 'imbecil', 'hiroshima', 'rework', 'mabel', 'fluff', 'nope', 'interplay', 'undertak', 'swanson', 'resnai', 'reprehens', 'knack', 'crank', 'scroog', 'glenda', 'unquestion', 'tropi', 'subdu', 'judi', 'verbatim', 'evidenc', 'ponderosa', 'remaind', 'handi', 'ingr', 'tier', 'unfamiliar', 'halt', 'undeserv', 'org', 'obligatori', 'atenborough', 'mediterranean', 'schooler', 'yuma', 'upright', 'gump', 'juic', 'dandi', 'jfk', 'do', 'idioci', 'epp', 'stroup', 'slouch', 'tennesse', 'cox', 'awkwardli', 'glaser', 'nun', 'gripe', 'trapper', 'tacki', 'swipe', 'slope', 'naomi', 'banquet', 'landon', 'ladder', 'senil', 'sillier', 'assuredli', 'omega', 'reagan', 'impetu', 'affirm', 'horseback', 'intact', 'polanski', 'lightli', 'jerilderi', 'ballroom', 'transmit', 'proprieti', 'annoyingli', 'vintag', 'snap', 'orgi', 'contemporan', 'draft', 'basketbal', 'synchron', 'lipstick', 'nam', 'wendi', 'disconnect', 'abet', 'cocki', 'ott', 'bront', 'elinor', 'simpler', 'mikuru', 'steami', 'grader', 'bebbl', 'ineffectu', 'intrins', 'bondag', 'donlan', 'pygmi', 'chocolat', 'vi', 'caradan', 'laboratori', 'dicamillo', 'atan', 'puri', 'frown', 'recast', 'sharpli', 'mak', 'denigr', 'marlen', 'inom', 'tatter', 'erkan', 'maldic', 'scratcher', 'fessenden', 'pak', 'pervad', 'manuscript', 'bye', 'untouch', 'velankar', 'herculi', 'puaro', 'sanit', 'wafer', 'editori', 'cheesey', 'spinal', 'rooftop', 'taut', 'deliver', 'sect', 'repercuss', 'slipknot', 'uhh', 'anthropologist', 'postur', 'disastr', 'mckeon', 'moonshin', 'gleick', 'wheaton', 'breathless', 'throwback', 'cheeki', 'masak', 'latt', 'kampung', 'skim', 'bean', 'monger', 'malcolm', 'jehovah', 'metro', 'whi', 'recur', 'callus', 'fart', 'drizella', 'anniversari', 'chilenian', 'rusti', 'orhan', 'seth', 'astound', 'buckman', 'desk', 'fled', 'riven', 'flaccid', 'screwi', 'kak', 'hanki', 'thirdli', 'siu', 'bigardo', 'vy', 'oddest', 'crave', 'chun', 'lavish', 'ching', 'collector', 'hazard', 'mockumentari', 'aural', 'nitro', 'yam', 'rabun', 'viii', 'esp', 'handpick', 'precod', 'cornbal', 'chillingli', 'jordi', 'shetti', 'hellish', 'molla', 'pena', 'chestnut', 'interviewe', 'tibetian', 'homeward', 'pragmat', 'sarcast', 'fluke', 'curtain', 'interf', 'feudal', 'flashlight', 'incompar', 'nah', 'riski', 'spat', 'wrought', 'babbl', 'redon', 'intimaci', 'cuckoo', 'metr', 'horatio', 'glib', 'flew', 'cameraman', 'hungari', 'arrow', 'chichest', 'debaucheri', 'truman', 'bitten', 'hardship', 'uptight', 'gallon', 'gui', 'pataki', 'voluntarili', 'outstay', 'solar', 'cough', 'kinki', 'carefre', 'contrapt', 'leak', 'soar', 'enlighten', 'bankrupt', 'yachtsman', 'saturn', 'soppi', 'microphon', 'telli', 'stripe', 'phipp', 'karina', 'lightsab', 'furnac', 'ximen', 'paulo', 'zellweg', 'ghostbust', 'autran', 'máquina', 'falcão', 'reitman', 'nbc', 'sermon', 'amelio', 'eurovis', 'darkplac', 'fuel', 'marengi', 'gianni', 'castellitto', 'crumbl', 'chandrasekhar', 'wang', 'skateboard', 'deepen', 'raab', 'uninvit', 'softcor', 'losey', 'freakiest', 'nonchal', 'chameleon', 'ling', 'gustavo', 'nordestina', 'overreact', 'overcrowd', 'pessimist', 'jude', 'conor', 'ail', 'displac', 'favort', 'sumptuou', 'canni', 'squirt', 'tournament', 'golli', 'bombadi', 'macho', 'straw', 'croft', 'gomez', 'empower', 'bearer', 'chapman', 'messiah', 'gainsborough', 'nihalani', 'govind', 'unpolish', 'lava', 'carruth', 'narcissist', 'matlock', 'perrugorria', 'geezer', 'marceau', 'layton', 'twirl', 'mesmeris', 'windsor', 'shafeek', 'curl', 'flamboy', 'lawman', 'dino', 'octopu', 'char', 'spacecraft', 'poof', 'blat', 'digest', 'parkin', 'micheal', 'untergang', 'comrad', 'buddhist', 'dissect', 'lofti', 'underwhelm', 'melvyn', 'masteri', 'hiatu', 'ardh', 'ventura', 'furri', 'amplifi', 'apprehend', 'smackdown', 'entrant', 'lingo', 'dixon', 'jezebel', 'brasilian', 'abortionist', 'grumpi', 'collud', 'cartooni', 'homophobia', 'vacuou', 'woodcock', 'quak', 'unplug', 'talbot', 'drinker', 'darkli', 'quieter', 'goldoni', 'gai', 'purg', 'prone', 'lovingli', 'burma', 'lethargi', 'murki', 'cramer', 'promo', 'hysteria', 'specialist', 'smutti', 'karmen', 'filthi', 'chariti', 'mondo', 'out', 'minett', 'cheapo', 'stahl', 'righteous', 'infinit', 'statur', 'dismemb', 'shelton', 'boyd', 'mathematician', 'bachchan', 'magnum', 'passionless', 'rabid', 'marxist', 'unkind', 'deodato', 'paleontologist', 'stylishli', 'mileston', 'kor', 'gulfax', 'straighten', 'civilis', 'footlight', 'fawn', 'looser', 'calmli', 'mullet', 'crab', 'frazetta', 'heartthrob', 'booz', 'cinecolor', 'skimp', 'donlevi', 'blacklist', 'denounc', 'selfless', 'cloudi', 'ointment', 'ritchi', 'tempor', 'jhoom', 'être', 'hollist', 'leif', 'tangi', 'buscemi', 'felic', 'breakin', 'meagan', 'hopalong', 'verdict', 'daisi', 'unnerv', 'roland', 'fourteen', 'wolodarski', 'forb', 'richter', 'superl', 'onward', 'sigmund', 'donni', 'wagonmast', 'dynasti', 'despot', 'haggi', 'rififi', 'sciii', 'chai', 'prada', 'vivian', 'subpar', 'arni', 'jenif', 'grid', 'barf', 'telekinet', 'voskhozhdeniy', 'larisa', 'introspect', 'vladimir', 'gostyukhin', 'plotnikov', 'zuber', 'bashaw', 'vladek', 'sheybal', 'berber', 'diplomaci', 'tribesman', 'predic', 'sorta', 'terrenc', 'gunfight', 'droppingli', 'trout', 'delet', 'pickup', 'subway', 'ounc', 'esper', 'yuki', 'itsuki', 'armistead', 'maupin', 'dempster', 'discharg', 'respit', 'bunker', 'wolhiem', 'fanfan', 'commando', 'impot', 'trough', 'jaq', 'kin', 'kindergarten', 'hungarian', 'kati', 'rigg', 'ziegler', 'firearm', 'paco', 'matador', 'shephard', 'gaol', 'dolli', 'adrienn', 'wallow', 'huski', 'morricon', 'farnham', 'slipshod', 'jumper', 'dori', 'chrissi', 'ronni', 'szwarc', 'ineptitud', 'bratti', 'liev', 'andrea', 'congratul', 'seahunt', 'townsfolk', 'stickney', 'kiosk', 'rainfal', 'fiber', 'unguard', 'madison', 'acharya', 'sanjay', 'kareena', 'broadli', 'undistinguish', 'pernici', 'fling', 'shelbi', 'gauntlet', 'luciano', 'psychiatr', 'parole', 'flub', 'schreiber', 'gunshot', 'uncharacterist', 'copper', 'moonlight', 'glimmer', 'bohem', 'penanc', 'occult', 'cleopatra', 'bait', 'firework', 'mish', 'outlet', 'ceas', 'jidai', 'geki', 'jacobi', 'goyokin', 'bancroft', 'fearless', 'xianghua', 'geographi', 'affili', 'undertow', 'enniskillen', 'plush', 'scummi', 'aardman', 'quartermain', 'visor', 'poorer', 'bolan', 'ringo', 'starr', 'jawbreak', 'krypton', 'wcw', 'pummel', 'esoter', 'regal', 'summit', 'faction', 'dribbl', 'sa', 'hurrican', 'brewster', 'townsend', 'okada', 'goth', 'sommeil', 'madigan', 'ambros', 'javier', 'amenábar', 'dario', 'dieter', 'racket', 'brigg', 'magnet', 'herek', 'borth', 'sentament', 'silverman', 'pah', 'delilah', 'jailhous', 'emmanuel', 'scuffl', 'orlando', 'nacho', 'miliou', 'becket', 'yentl', 'timid', 'muriel', 'solicitor', 'tulkinghorn', 'chanceri', 'libr', 'kimmel', 'unflinch', 'fave', 'zeder', 'cena', 'trish', 'swackham', 'naff', 'supervivient', 'furia', 'obstreper', 'napolini', 'saloon', 'kooki', 'lollipop', 'ampudia', 'pap', 'gangsta', 'sebastián', 'haro', 'ultimatum', 'chesney', 'harel', 'clouseau', 'bert', 'fader', 'hancock', 'lukewarm', 'symmetri', 'idaho', 'mulder', 'dolph', 'cheezi', 'shook', 'katsu', 'shintaro', 'whaley', 'quran', 'ferdo', 'jehaan', 'bedouin', 'namba', 'munnera', 'jothika', 'thoongada', 'beep', 'wichita', 'gabriella', 'arachnia', 'picki', 'battlestar', 'ashor', 'coars', 'spheeri', 'grung', 'halliwel', 'galactica', 'deflat', 'tenchu', 'ida', 'wench', 'ricardo', 'matta', 'rivera', 'luz', 'intensifi', 'cassandra', 'peterson', 'sheppard', 'scot', 'hogan', 'alf', 'bijou', 'janitor', 'lena', 'extremist', 'percentag', 'maltin', 'finer', 'nirvana', 'rib', 'oral', 'skye', 'beam', 'argentinian', 'pedestrian', 'teem', 'foundl', 'ballerina', 'kern', 'rosenstrass', 'cataton', 'yer', 'shimizu', 'duncan', 'davey', 'speakeasi', 'kiri', 'pendragon', 'regress', 'commemor', 'crier', 'horner', 'amock', 'mendoza', 'comicbook', 'folklor', 'martelli', 'bouchet', 'bolkan', 'tunic', 'confusingli', 'atlantean', 'unfathom', 'asterix', 'yan', 'outshin', 'midian', 'trumpet', 'wiggl', 'carnagi', 'infuri', 'mei', 'seamless', 'beachcomb', 'awok', 'mcgarrett', 'triad', 'infant', 'violat', 'elli', 'saunder', 'bulgakov', 'shill', 'vapid', 'faster', 'ralli', 'reiser', 'demeanor', 'humil', 'breviti', 'leroy', 'aparna', 'powerhous', 'shabana', 'hurriedli', 'konkona', 'toddler', 'valentinov', 'newer', 'gratifi', 'aranda', 'ersatz', 'masturb', 'therapist', 'protract', 'cab', 'hypothet', 'unseemli', 'vista', 'cruiser', 'jive', 'lithgow', 'ampute', 'pergado', 'begotten', 'cloak', 'hamster', 'optim', 'comanch', 'meethi', 'saccharin', 'friction', 'croni', 'sung', 'chevali', 'demean', 'elijah', 'gwtw', 'piqu', 'glue', 'burner', 'harper', 'brigad', 'reborn', 'ordway', 'rajni', 'lotr', 'swore', 'obaba', 'continuum', 'crasher', 'apatow', 'shogun', 'veidt', 'mainlin', 'asap', 'margarita', 'reconcil', 'renaiss', 'mauvi', 'freudian', 'sweetest', 'foreman', 'curtiz', 'riddl', 'outstandingli', 'hoe', 'fong', 'grandchild', 'ubiquit', 'newburi', 'ditti', 'maudlin', 'drek', 'cinemax', 'adher', 'nothing', 'bulk', 'excruciatingli', 'cardal', 'abrupt', 'tasteless', 'morita', 'deft', 'herbi', 'ifc', 'indel', 'ussr', 'springsteen', 'sickest', 'bermuda', 'lenient', 'immort', 'threadbar', 'anecdot', 'pleasingli', 'toronto', 'atyp', 'whini', 'wishmast', 'treati', 'sultan', 'kudrow', 'kusturica', 'comfi', 'spectrum', 'gyllenha', 'seam', 'defer', 'richli', 'fletcher', 'oversimplifi', 'vinni', 'lovel', 'wail', 'prejud', 'fraud', 'softley', 'humanli', 'lucil', 'absorpt', 'archer', 'quartet', 'servai', 'cesar', 'mischiev', 'motorama', 'fireman', 'wrinkl', 'speck', 'smear', 'sweeney', 'stoic', 'hatchet', 'darksid', 'glim', 'guano', 'dev', 'mick', 'astrid', 'tucson', 'arizona', 'reopen', 'mouse', 'aheheh', 'largest', 'rehman', 'stasi', 'sigrid', 'reloc', 'charter', 'oregon', 'est', 'henriksen', 'funki', 'bishop', 'unworthi', 'nefer', 'prosthet', 'juxtapos', 'bookworm', 'bukowski', 'nickelodeon', 'welch', 'dom', 'deluis', 'carrel', 'weirdli', 'moriarti', 'carn', 'legion', 'coney', 'cryer', 'crain', 'trifl', 'intrud', 'millic', 'urmila', 'archdioces', 'nihilist', 'paraphras', 'bandag', 'impregn', 'barren', 'fruit', 'scatman', 'crucifix', 'dolemit', 'ntsc', 'enfant', 'cuddli', 'noch', 'schweiger', 'carrot', 'krieger', 'mitig', 'kaif', 'layout', 'kusama', 'inscrut', 'becca', 'hendrik', 'fleec', 'lucci', 'seattl', 'databas', 'storag', 'quicker', 'biz', 'irasc', 'kier', 'greas', 'niggl', 'amalio', 'szalinski', 'overwhelmingli', 'iota', 'satisfyingli', 'yeller', 'sierra', 'waterfal', 'burnford', 'gossett', 'pryor', 'dorro', 'bodyguard', 'pranc', 'fatigu', 'unwis', 'languish', 'redefin', 'suprem', 'unthink', 'dredg', 'frisbi', 'apologist', 'adversari', 'luna', 'rub', 'dolor', 'gil', 'portug', 'extraordinarili', 'getaway', 'herald', 'gash', 'tore', 'harken', 'impressionist', 'stinki', 'jayn', 'parachut', 'helplessli', 'trainer', 'tigerland', 'meer', 'comprehend', 'dept', 'stealth', 'gm', 'vagrant', 'berk', 'earthquak', 'grimac', 'snider', 'howdi', 'farther', 'bisexu', 'roberto', 'xavier', 'camaraderi', 'feral', 'morbid', 'adulter', 'pugh', 'midwest', 'sputter', 'rewrit', 'bram', 'rosanna', 'cryptic', 'anal', 'fruition', 'fatherland', 'gentli', 'dip', 'lilia', 'stoop', 'antonio', 'reshamiya', 'rake', 'crore', 'apn', 'riya', 'hansika', 'motwani', 'sherawat', 'click', 'bulldoz', 'berni', 'fray', 'juggl', 'yvain', 'groceri', 'mai', 'fredric', 'melanchol', 'unrequit', 'lowest', 'whoa', 'bea', 'olen', 'landau', 'charliz', 'simpleton', 'blanc', 'marina', 'malfatti', 'veneer', 'botch', 'extort', 'joaquim', 'almeida', 'flawlessli', 'palm', 'alba', 'incessantli', 'thatch', 'anamorph', 'bowdler', 'breakfast', 'gerri', 'fluffer', 'loomi', 'razor', 'articul', 'sesam', 'scath', 'surrealist', 'subgenr', 'lana', 'django', 'hamlin', 'dogma', 'apocalyps', 'logo', 'margret', 'scheider', 'berryman', 'travers', 'carnival', 'amazonian', 'squirm', 'adject', 'uncut', 'lubitsch', 'alain', 'helmut', 'lighter', 'vener', 'frieda', 'grier', 'mortgag', 'falter', 'mist', 'dayan', 'rivot', 'dissatisfi', 'penri', 'brenner', 'charleton', 'impedi', 'girli', 'shatter', 'eyelid', 'filmfour', 'patch', 'thirteen', 'mushroom', 'arabia', 'haj', 'mule', 'mecca', 'congreg', 'payoff', 'taxidermi', 'poodl', 'lafontain', 'adrien', 'robertson', 'swank', 'hera', 'zeu', 'serenad', 'sugarco', 'efx', 'lecher', 'scaveng', 'superson', 'concord', 'antal', 'boland', 'sweater', 'pare', 'nan', 'hume', 'pendleton', 'deco', 'laptop', 'homework', 'vacanc', 'greec', 'signatur', 'kelsey', 'kristin', 'dafo', 'us', 'pollut', 'padrino', 'crane', 'prefac', 'romania', 'whinney', 'yay', 'fakey', 'forbid', 'broadbent', 'overkil', 'josi', 'stupidest', 'plowright', 'mouthwash', 'denat', 'whimsic', 'funnel', 'bigotri', 'fondli', 'romanian', 'buildup', 'landladi', 'nicest', 'fleme', 'ammunit', 'chamberlain', 'airship', 'firebal', 'rosalina', 'unmitig', 'unqualifi', 'covert', 'mimieux', 'yvett', 'haggard', 'crenna', 'barbar', 'tasti', 'apex', 'cathod', 'newton', 'forerunn', 'dessert', 'lafayett', 'aha', 'lenz', 'encapsul', 'glc', 'danza', 'remotest', 'coerc', 'shepard', 'folli', 'cutesi', 'alpo', 'advert', 'nondescript', 'devout', 'smelli', 'nipar', 'phenom', 'snobbi', 'lawnmow', 'shaman', 'libertarian', 'schoolgirl', 'beswick', 'cartoonish', 'savvi', 'crayon', 'slinki', 'kabul', 'gust', 'nova', 'hump', 'scatter', 'anni', 'barefoot', 'willingli', 'reunit', 'jurgen', 'mcgowan', 'unsaf', 'ethic', 'jip', 'manhattanit', 'spatula', 'lair', 'meh', 'wii', 'dreamer', 'pointer', 'detach', 'madcap', 'breakneck', 'depriv', 'registri', 'gilliam', 'babu', 'wizardri', 'timm', 'chubbi', 'hone', 'aura', 'finlay', 'skippi', 'wussi', 'catalogu', 'elis', 'rodolfo', 'sonego', 'alberto', 'wouldnt', 'unlock', 'taglin', 'gas', 'nefari', 'mimick', 'to', 'autobiographi', 'godfrey', 'overboard', 'bungl', 'surreptiti', 'gorehound', 'strateg', 'classroom', 'reanim', 'pu', 'gussi', 'encor', 'grit', 'boon', 'rumour', 'kurosawa', 'dentur', 'freezer', 'inconsequenti', 'classmat', 'playground', 'salad', 'amato', 'foley', 'grasshopp', 'replet', 'imparti', 'fishi', 'bomber', 'mina', 'outspoken', 'zucker', 'overbit', 'sobrieti', 'footstep', 'rosa', 'bluster', 'underus', 'honeymoon', 'mint', 'unremit', 'manic', 'castro', 'caesar', 'uppiti', 'dentistri', 'boorish', 'mourn', 'proposit', 'gaira', 'barrag', 'forese', 'shack', 'hershey', 'henchman', 'latent', 'charlton', 'garlic', 'powerless', 'jor', 'savior', 'renam', 'mistakenli', 'shrewd', 'tycoon', 'pow', 'merman', 'tyne', 'irk', 'whammi', 'mame', 'overhaul', 'innumer', 'twaddl', 'casualti', 'seasick', 'obes', 'ladybug', 'dazzl', 'incredul', 'ingenu', 'fienn', 'diann', 'quinci', 'penetr', 'verma', 'instil', 'katharin', 'kolo', 'lanc', 'rancher', 'peckinpaugh', 'lushiou', 'sacrilegi', 'pennant', 'forthcom', 'numbingli', 'vodka', 'tomanovich', 'strauss', 'vest', 'conspir', 'gambler', 'underhand', 'burrow', 'burrough', 'borgnin', 'amnesia', 'dara', 'helga', 'mariu', 'unscath', 'reverand', 'snipe', 'cellphon', 'noe', 'nutshel', 'molest', 'lol', 'techno', 'assumpt', 'casper', 'spiderman', 'eater', 'ghoul', 'dia', 'locker', 'wolfgang', 'tatsuya', 'fuji', 'beetl', 'ariel', 'oshima', 'lovebird', 'mi', 'tilt', 'subhuman', 'reproduc', 'mcclure', 'proverb', 'elektra', 'daredevil', 'substandard', 'nosi', 'colombia', 'beavi', 'unscari', 'passabl', 'synch', 'simplifi', 'playstat', 'exponenti', 'tetsuya', 'hashmi', 'extermin', 'gamera', 'ritualist', 'aweigh', 'gosl', 'homicid', 'sway', 'pornographi', 'codi', 'genius', 'quirk', 'toothbrush', 'lewd', 'vow', 'indict', 'cbc', 'lookalik', 'britney', 'texan', 'align', 'cessat', 'socialist', 'exhal', 'trammel', 'chard', 'undon', 'woefulli', 'ishtar', 'couleur', 'feroci', 'blanket', 'primev', 'guggenheim', 'phrase', 'fisherman', 'glasgow', 'oblivi', 'unto', 'jamel', 'unlov', 'fold', 'wobbl', 'bum', 'founder', 'roddenberri', 'scoundrel', 'astérix', 'lessen', 'facet', 'mork', 'baer', 'valentina', 'cervi', 'gentileschi', 'steroid', 'glove', 'mathieu', 'annett', 'downey', 'acquaint', 'mindi', 'penalti', 'sunglass', 'harbour', 'perin', 'dern', 'irritatingli', 'cobbl', 'aoki', 'waterworld', 'jon', 'wrist', 'smirk', 'tidbit', 'soften', 'nanoo', 'swimmer', 'heckl', 'oxygen', 'parol', 'unpreced', 'jester', 'introvert', 'arau', 'denomin', 'bio', 'soutendijk', 'wist', 'hokum', 'morti', 'negro', 'chastis', 'beij', 'olympiad', 'sensuous', 'scarf', 'cheung', 'goran', 'solitud', 'freeway', 'predomin', 'krabbé', 'picnic', 'lanki', 'inst', 'distrust', 'royc', 'moro', 'feldman', 'whoopi', 'bladerunn', 'visnjic', 'cockroach', 'eclect', 'fragment', 'shudder', 'howlingli', 'coleman', 'mimi', 'dylan', 'kay', 'abo', 'gunfir', 'becki', 'panhandl', 'drank', 'microsoft', 'ssi', 'vaguest', 'thirsti', 'eisenstein', 'invulner', 'kove', 'quo', 'brutish', 'machineri', 'rebirth', 'chord', 'strut', 'architectur', 'wifey', 'complac', 'eerili', 'unknow', 'hillsboro', 'bystand', 'clinic', 'ooz', 'gorefest', 'eyebal', 'hamper', 'strother', 'loophol', 'pillar', 'headi', 'shun', 'unapologet', 'summarili', 'shrug', 'bogart', 'humphrey', 'cheapen', 'gist', 'weigh', 'deterior', 'patent', 'genteel', 'heartless', 'jovial', 'muscular', 'allegi', 'indescrib', 'ravag', 'toll', 'leper', 'pestil', 'spokesman', 'coven', 'reischl', 'naughton', 'koresh', 'mostel', 'autopsi', 'widmark', 'eurotrip', 'orwel', 'brood', 'seeth', 'zach', 'claustrophob', 'unbalanc', 'geri', 'davidian', 'unwarr', 'harmless', 'ziyi', 'ding', 'democrat', 'senat', 'goddess', 'crawford', 'di', 'smalltim', 'swamp', 'feasibl', 'ahna', 'overview', 'mockeri', 'breckin', 'yaphet', 'kotto', 'snore', 'mishap', 'incongru', 'cheang', 'unprepar', 'pei', 'catwoman', 'osama', 'portli', 'wook', 'boop', 'kumar', 'santoshi', 'garb', 'yea', 'roberta', 'impervi', 'reiner', 'borg', 'bygon', 'pristin', 'synthes', 'raspi', 'keyston', 'fatti', 'arbuckl', 'blindingli', 'jumpi', 'ho', 'testifi', 'zelah', 'vogel', 'obtrus', 'inexpens', 'priestess', 'hokey', 'milli', 'dyke', 'amech', 'linnett', 'cowardli', 'sociolog', 'dignifi', 'wordli', 'deciph', 'unnatur', 'antarct', 'pod', 'claustrophobia', 'unheard', 'enrag', 'debas', 'naval', 'pilger', 'rosalba', 'neri', 'damon', 'undress', 'parrot', 'adelaid', 'stillborn', 'stripteas', 'commut', 'everglad', 'methodolog', 'adel', 'untal', 'complement', 'clumsili', 'attenborough', 'ripper', 'decemb', 'underwood', 'discrimin', 'squadron', 'tanni', 'divulg', 'joani', 'jalopi', 'shriver', 'savannah', 'agon', 'haze', 'unfair', 'vulcan', 'attain', 'rambl', 'meredith', 'indirectli', 'daze', 'underdevelop', 'mata', 'decay', 'viet', 'foibl', 'rember', 'manifest', 'omin', 'minnesota', 'ang', 'mccoy', 'skeet', 'ulrich', 'prissi', 'tutor', 'evangelist', 'burgess', 'embellish', 'eman', 'jeroen', 'kentucki', 'undergo', 'burli', 'ebulli', 'nob', 'earliest', 'granni', 'clampett', 'buzzer', 'altruist', 'temporarili', 'roam', 'flatlin', 'groundhog', 'knot', 'archi', 'janu', 'yodel', 'faceless', 'lodg', 'dogfight', 'pore', 'rascal', 'duplicit', 'adept', 'desecr', 'holland', 'breakout', 'hug', 'hugger', 'renov', 'sportsman', 'ripley', 'pervers', 'taker', 'mamma', 'brainer', 'unanticip', 'shipment', 'regrett', 'gayl', 'discourag', 'champ', 'stifl', 'annul', 'administr', 'karmic', 'erupt', 'cacophoni', 'sardon', 'been', 'typecast', 'riff', 'rambuncti', 'exam', 'jaruselski', 'solidar', 'curb', 'alger', 'vermont', 'smuggler', 'smuggl', 'depardieu', 'patrol', 'slayer', 'republ', 'toon', 'whiz', 'populac', 'calleia', 'letdown', 'heh', 'shortchang', 'lidz', 'gutter', 'aplomb', 'neurosi', 'receptionist', 'tierney', 'doppelgang', 'chad', 'ismael', 'mishmash', 'flit', 'hurl', 'excav', 'burnt', 'gobbl', 'frankenheim', 'zenia', 'pepe', 'waltz', 'rectifi', 'afoul', 'eugen', 'jeunet', 'loosest', 'compress', 'mcconaughey', 'assant', 'voight', 'piven', 'tan', 'armand', 'marthi', 'batho', 'disord', 'protocol', 'naturalist', 'snicker', 'apollo', 'mingl', 'townfolk', 'cindi', 'muldaur', 'canaanit', 'cobblepot', 'murmur', 'sensuou', 'vultan', 'ming', 'frankenstein', 'stephani', 'crabb', 'herman', 'priscella', 'kael', 'shannon', 'resurfac', 'warhol', 'lipson', 'bawl', 'elliot', 'escapist', 'instruct', 'henceforth', 'linguist', 'unconnect', 'historian', 'unhealthi', 'moh', 'donovan', 'quirkier', 'cei', 'pdf', 'demolit', 'endors', 'deftli', 'alumnus', 'dirg', 'yoland', 'lampidorra', 'hast', 'pere', 'sweeper', 'lacklust', 'fairytal', 'sundanc', 'onscreen', 'autobiograph', 'argentina', 'batgirl', 'waaaay', 'conroy', 'inconveni', 'isabella', 'northang', 'nudg', 'esposito', 'preval', 'flay', 'soil', 'oar', 'untold', 'turmoil', 'bass', 'snapshot', 'intimid', 'vaughan', 'tong', 'countess', 'berserk', 'montana', 'ruthlessli', 'bauer', 'loggia', 'overst', 'sublimin', 'zarkov', 'unw', 'hairi', 'trainor', 'zemecki', 'magnitud', 'drake', 'oft', 'lego', 'renni', 'synonym', 'minion', 'endow', 'surg', 'arbitrarili', 'dion', 'cart', 'heartland', 'hypnotis', 'cashier', 'bleep', 'debbi', 'rainstorm', 'creek', 'kia', 'whiff', 'cuz', 'disk', 'nicer', 'adenoid', 'unorthodox', 'mussolini', 'unwittingli', 'embroil', 'polem', 'foresight', 'bulletproof', 'yardstick', 'tapestri', 'kilter', 'paulett', 'hardwork', 'harmoni', 'napaloni', 'bacteria', 'retrograd', 'insuffer', 'omg', 'workmanlik', 'purgatori', 'conjur', 'indistinguish', 'harlem', 'undercurr', 'mousi', 'consult', 'starkli', 'cassel', 'normalci', 'mcintir', 'slant', 'hitherto', 'hartman', 'seductress', 'incest', 'bernstein', 'dratch', 'missi', 'newsreel', 'jokey', 'wimpi', 'juxtaposit', 'concis', 'unconvincingli', 'cuckold', 'incestu', 'trent', 'innappropri', 'vinson', 'leisur', 'lacklustr', 'heroism', 'booster', 'eurotrash', 'worldli', 'fahey', 'reccomend', 'duplic', 'bungalow', 'headquart', 'rolaid', 'reinterpret', 'diabol', 'arti', 'transsexu', 'cramp', 'barbarian', 'leather', 'interfer', 'inn', 'lar', 'surli', 'malais', 'floozi', 'ministro', 'imbalsamator', 'lurch', 'whore', 'havent', 'coincident', 'stem', 'cybermen', 'elegantli', 'eek', 'teammat', 'crapfest', 'magnani', 'throughli', 'trainspot', 'carlyl', 'implor', 'deter', 'fraser', 'esqu', 'audibl', 'mould', 'shea', 'leopold', 'blowup', 'revisit', 'uphil', 'jealous', 'jan', 'rockwel', 'airwolf', 'magdalen', 'bella', 'vatanen', 'malkovich', 'groovi', 'rigor', 'liotta', 'budweis', 'antagon', 'contamin', 'slime', 'kruger', 'obscen', 'maud', 'evoc', 'ascend', 'unfulfil', 'blindli', 'mistrust', 'menageri', 'mendez', 'forster', 'plummer', 'pseudonym', 'bitterli', 'bottin', 'jonestown', 'rot', 'bwp', 'guidelin', 'steril', 'pitcher', 'gel', 'berth', 'tessa', 'curt', 'alexandr', 'swell', 'leaf', 'aschenbach', 'outdo', 'spec', 'neatli', 'themat', 'suitcas', 'sculptur', 'climat', 'unremark', 'curvi', 'tote', 'omen', 'pauli', 'gandolfini', 'wire', 'unintend', 'whacki', 'irresist', 'misogyni', 'zane', 'valium', 'gheorgh', 'muresan', 'tee', 'tread', 'skinhead', 'mors', 'limo', 'deepest', 'can', 'dung', 'pagan', 'jerki', 'nightmarish', 'pino', 'donaggio', 'greer', 'mindlessli', 'pardon', 'adrift', 'steeli', 'platt', 'hallucin', 'bridal', 'pinhead', 'frownland', 'resound', 'ghostli', 'inarticul', 'masochist', 'heartbroken', 'shitti', 'torment', 'orca', 'seaview', 'tilli', 'whitch', 'euro', 'keir', 'proteg', 'corleon', 'ummm', 'whimper', 'achingli', 'gwyneth', 'excurs', 'harrow', 'majorli', 'requiem', 'awri', 'gina', 'tomei', 'rolex', 'choir', 'rivalri', 'hickock', 'forsyth', 'snatch', 'paparazzo', 'insincer', 'warmer', 'colbert', 'entendr', 'posh', 'unconvent', 'glaze', 'precursor', 'kirsten', 'dunst', 'necklac', 'consort', 'sweetli', 'upward', 'marqui', 'spader', 'stefanson', 'lotu', 'corn', 'cornfield', 'incrimin', 'quigley', 'varma', 'sholay', 'ajay', 'reynaud', 'spate', 'laundri', 'furi', 'monoth', 'woodard', 'pint', 'inter', 'huntingdon', 'allig', 'hideout', 'farrah', 'troll', 'wasp', 'hog', 'ditsi', 'shihuang', 'stain', 'faust', 'cnn', 'smartli', 'staci', 'othello', 'inflat', 'frailti', 'overdu', 'tyron', 'qin', 'unsatisfactori', 'rubberi', 'undercov', 'thugge', 'lester', 'plump', 'whitley', 'debunk', 'larter', 'endor', 'kahn', 'pedophil', 'squander', 'crumpet', 'saber', 'jjak', 'disown', 'homophob', 'huac', 'deris', 'kapoor', 'ghouli', 'springfield', 'karva', 'stapleton', 'toxic', 'sahlep', 'orchid', 'greav', 'ohhh', 'loan', 'frenzi', 'tavern', 'didact', 'manhood', 'café', 'prattl', 'faculti', 'furschtien', 'deposit', 'wooli', 'yate', 'janic', 'monitor', 'trippi', 'madg', 'apprentic', 'turkish', 'dahl', 'walsh', 'export', 'furlough', 'vey', 'bracelet', 'faulti', 'marsha', 'prick', 'sparv', 'medal', 'alvarado', 'doubtless', 'chauvinist', 'fig', 'buffalo', 'stella', 'unglamor', 'headmistress', 'selbi', 'wyom', 'honorari', 'fruitless', 'regiment', 'redlin', 'tobe', 'affin', 'dhoom', 'demograph', 'ahem', 'facad', 'jam', 'enzo', 'sob', 'pedal', 'bossi', 'ppl', 'acceler', 'tantamount', 'blasphemi', 'snigger', 'baddest', 'woeful', 'ize', 'shaft', 'dishonor', 'liebmann', 'wayward', 'savageri', 'caprica', 'crock', 'paula', 'magda', 'silkk', 'neal', 'gorilla', 'biograph', 'doyl', 'allus', 'volcano', 'backstori', 'goon', 'pleasent', 'carrier', 'rus', 'disillus', 'amid', 'ernesto', 'rig', 'dane', 'hassan', 'urib', 'phillipp', 'statham', 'scriptur', 'crumb', 'empathet', 'dangerfield', 'heed', 'livingston', 'pensiv', 'scandinavian', 'charger', 'salvag', 'lens', 'downturn', 'bypass', 'revenu', 'rollercoast', 'adjac', 'confer', 'sarkar', 'flippin', 'abhorr', 'nash', 'servillo', 'sepet', 'lalo', 'tonn', 'pontiac', 'marsh', 'homo', 'accost', 'gerald', 'sage', 'necrophilia', 'serrault', 'tornado', 'inexperienc', 'neighbourhood', 'motocross', 'escapad', 'borat', 'depp', 'isnt', 'atkin', 'incomplet', 'mandolin', 'canyon', 'dous', 'condo', 'overtur', 'clutch', 'info', 'dominiqu', 'antholog', 'soloman', 'cheri', 'ravin', 'ratzoff', 'chariot', 'miniscul', 'scoop', 'magician', 'fraction', 'unequivoc', 'persever', 'cricket', 'cement', 'campfir', 'booti', 'ella', 'silk', 'garofalo', 'slovenli', 'pszoniak', 'wojciech', 'comedienn', 'brigand', 'totalitarian', 'blog', 'reduct', 'shortland', 'bassett', 'foursom', 'streak', 'faultless', 'ivori', 'socio', 'krzysztof', 'flatter', 'equilibrium', 'restraint', 'balconi', 'genit', 'lusti', 'denmark', 'backbon', 'steepl', 'turbul', 'sadden', 'macgregor', 'marque', 'mia', 'rai', 'raincoat', 'smother', 'franchot', 'sweden', 'lizzani', 'aristocraci', 'multitud', 'zeffirelli', 'terra', 'berger', 'entail', 'zinger', 'holliman', 'sexism', 'gladi', 'attic', 'nobil', 'hallway', 'gnarli', 'enact', 'manli', 'precoci', 'everyman', 'overweight', 'thanksgiv', 'pta', 'snobbish', 'architect', 'meek', 'te', 'meadow', 'there', 'retro', 'trekker', 'guillotin', 'motley', 'siegfri', 'billboard', 'vanguard', 'cuff', 'disarray', 'milieu', 'brace', 'loudmouth', 'imri', 'goudri', 'inspect', 'ferri', 'maven', 'camfield', 'impenetr', 'len', 'hew', 'outlandish', 'dramatis', 'osborn', 'dorian', 'gielgud', 'harsher', 'bakeri', 'bureau', 'humdrum', 'pelagia', 'corelli', 'minc', 'shorten', 'heavier', 'turtl', 'intercut', 'stagey', 'meta', 'cajol', 'clansman', 'lear', 'saver', 'munn', 'contributor', 'lineup', 'shen', 'epiphani', 'fullest', 'hatfield', 'wassup', 'candac', 'tak', 'breakdown', 'harmonica', 'whatnot', 'buffi', 'pointlessli', 'homecom', 'showgirl', 'josh', 'proven', 'chhappan', 'caveman', 'obey', 'imtiaz', 'pepsi', 'kimberli', 'er', 'slimi', 'kanali', 'albeniz', 'flamenco', 'cecilia', 'yep', 'jenkin', 'haley', 'sita', 'nita', 'invalid', 'fumbl', 'microscop', 'mrinal', 'gautam', 'geller', 'dissilus', 'revet', 'pregnanc', 'mascot', 'spillan', 'snotti', 'byron', 'snobberi', 'duh', 'strangest', 'kiki', 'baigelman']\n"
          ]
        }
      ]
    },
    {
      "cell_type": "code",
      "source": [
        "def document_vector(doc):\n",
        "    doc = [word for word in doc if word in w2v.wv.index_to_key]\n",
        "    return np.mean(w2v.wv[doc], axis=0)\n",
        "df['word2vec'] = df['preproc_rev'].apply(document_vector)\n",
        "df.head()"
      ],
      "metadata": {
        "id": "XtGh0FfZG-hF",
        "colab": {
          "base_uri": "https://localhost:8080/",
          "height": 345
        },
        "outputId": "d8d62bf5-e43d-43d3-fec2-6ca156d80faf"
      },
      "execution_count": null,
      "outputs": [
        {
          "output_type": "execute_result",
          "data": {
            "text/plain": [
              "                                              review sentiment  \\\n",
              "0  One of the other reviewers has mentioned that ...  positive   \n",
              "1  A wonderful little production. <br /><br />The...  positive   \n",
              "2  I thought this was a wonderful way to spend ti...  positive   \n",
              "3  Basically there's a family where a little boy ...  negative   \n",
              "4  Petter Mattei's \"Love in the Time of Money\" is...  positive   \n",
              "\n",
              "                                         preproc_rev  \\\n",
              "0  [one, review, mention, watch, episod, hook, ri...   \n",
              "1  [wonder, littl, product, film, techniqu, unass...   \n",
              "2  [thought, wonder, way, spend, time, hot, summe...   \n",
              "3  [basic, famili, littl, boy, jake, think, zombi...   \n",
              "4  [petter, mattei, love, time, money, visual, st...   \n",
              "\n",
              "                                preproc_rev_sentence  \\\n",
              "0  one review mention watch episod hook right exa...   \n",
              "1  wonder littl product film techniqu unassum old...   \n",
              "2  thought wonder way spend time hot summer weeke...   \n",
              "3  basic famili littl boy jake think zombi closet...   \n",
              "4  petter mattei love time money visual stun film...   \n",
              "\n",
              "                                        bag_of_words  \\\n",
              "0  [0, 0, 1, 0, 0, 0, 1, 0, 0, 1, 0, 0, 1, 0, 0, ...   \n",
              "1  [0, 1, 1, 0, 0, 1, 0, 1, 0, 1, 0, 0, 0, 0, 1, ...   \n",
              "2  [0, 0, 1, 0, 0, 1, 0, 1, 0, 1, 1, 1, 0, 0, 0, ...   \n",
              "3  [1, 1, 0, 1, 1, 1, 0, 1, 0, 1, 0, 0, 0, 0, 0, ...   \n",
              "4  [1, 1, 1, 0, 1, 1, 1, 1, 1, 1, 1, 0, 0, 0, 0, ...   \n",
              "\n",
              "                                            word2vec  \n",
              "0  [-0.23736286, 0.47463688, 0.12823063, -0.00721...  \n",
              "1  [-0.27653748, 0.53202003, 0.13394889, -0.02087...  \n",
              "2  [-0.24846025, 0.4948961, 0.118055664, -0.00375...  \n",
              "3  [-0.24569897, 0.5016247, 0.10228299, 0.0172167...  \n",
              "4  [-0.26387003, 0.5198512, 0.11847945, -0.006244...  "
            ],
            "text/html": [
              "\n",
              "  <div id=\"df-5cf88134-11d9-4ef1-bab7-e7023dd40a8c\" class=\"colab-df-container\">\n",
              "    <div>\n",
              "<style scoped>\n",
              "    .dataframe tbody tr th:only-of-type {\n",
              "        vertical-align: middle;\n",
              "    }\n",
              "\n",
              "    .dataframe tbody tr th {\n",
              "        vertical-align: top;\n",
              "    }\n",
              "\n",
              "    .dataframe thead th {\n",
              "        text-align: right;\n",
              "    }\n",
              "</style>\n",
              "<table border=\"1\" class=\"dataframe\">\n",
              "  <thead>\n",
              "    <tr style=\"text-align: right;\">\n",
              "      <th></th>\n",
              "      <th>review</th>\n",
              "      <th>sentiment</th>\n",
              "      <th>preproc_rev</th>\n",
              "      <th>preproc_rev_sentence</th>\n",
              "      <th>bag_of_words</th>\n",
              "      <th>word2vec</th>\n",
              "    </tr>\n",
              "  </thead>\n",
              "  <tbody>\n",
              "    <tr>\n",
              "      <th>0</th>\n",
              "      <td>One of the other reviewers has mentioned that ...</td>\n",
              "      <td>positive</td>\n",
              "      <td>[one, review, mention, watch, episod, hook, ri...</td>\n",
              "      <td>one review mention watch episod hook right exa...</td>\n",
              "      <td>[0, 0, 1, 0, 0, 0, 1, 0, 0, 1, 0, 0, 1, 0, 0, ...</td>\n",
              "      <td>[-0.23736286, 0.47463688, 0.12823063, -0.00721...</td>\n",
              "    </tr>\n",
              "    <tr>\n",
              "      <th>1</th>\n",
              "      <td>A wonderful little production. &lt;br /&gt;&lt;br /&gt;The...</td>\n",
              "      <td>positive</td>\n",
              "      <td>[wonder, littl, product, film, techniqu, unass...</td>\n",
              "      <td>wonder littl product film techniqu unassum old...</td>\n",
              "      <td>[0, 1, 1, 0, 0, 1, 0, 1, 0, 1, 0, 0, 0, 0, 1, ...</td>\n",
              "      <td>[-0.27653748, 0.53202003, 0.13394889, -0.02087...</td>\n",
              "    </tr>\n",
              "    <tr>\n",
              "      <th>2</th>\n",
              "      <td>I thought this was a wonderful way to spend ti...</td>\n",
              "      <td>positive</td>\n",
              "      <td>[thought, wonder, way, spend, time, hot, summe...</td>\n",
              "      <td>thought wonder way spend time hot summer weeke...</td>\n",
              "      <td>[0, 0, 1, 0, 0, 1, 0, 1, 0, 1, 1, 1, 0, 0, 0, ...</td>\n",
              "      <td>[-0.24846025, 0.4948961, 0.118055664, -0.00375...</td>\n",
              "    </tr>\n",
              "    <tr>\n",
              "      <th>3</th>\n",
              "      <td>Basically there's a family where a little boy ...</td>\n",
              "      <td>negative</td>\n",
              "      <td>[basic, famili, littl, boy, jake, think, zombi...</td>\n",
              "      <td>basic famili littl boy jake think zombi closet...</td>\n",
              "      <td>[1, 1, 0, 1, 1, 1, 0, 1, 0, 1, 0, 0, 0, 0, 0, ...</td>\n",
              "      <td>[-0.24569897, 0.5016247, 0.10228299, 0.0172167...</td>\n",
              "    </tr>\n",
              "    <tr>\n",
              "      <th>4</th>\n",
              "      <td>Petter Mattei's \"Love in the Time of Money\" is...</td>\n",
              "      <td>positive</td>\n",
              "      <td>[petter, mattei, love, time, money, visual, st...</td>\n",
              "      <td>petter mattei love time money visual stun film...</td>\n",
              "      <td>[1, 1, 1, 0, 1, 1, 1, 1, 1, 1, 1, 0, 0, 0, 0, ...</td>\n",
              "      <td>[-0.26387003, 0.5198512, 0.11847945, -0.006244...</td>\n",
              "    </tr>\n",
              "  </tbody>\n",
              "</table>\n",
              "</div>\n",
              "    <div class=\"colab-df-buttons\">\n",
              "\n",
              "  <div class=\"colab-df-container\">\n",
              "    <button class=\"colab-df-convert\" onclick=\"convertToInteractive('df-5cf88134-11d9-4ef1-bab7-e7023dd40a8c')\"\n",
              "            title=\"Convert this dataframe to an interactive table.\"\n",
              "            style=\"display:none;\">\n",
              "\n",
              "  <svg xmlns=\"http://www.w3.org/2000/svg\" height=\"24px\" viewBox=\"0 -960 960 960\">\n",
              "    <path d=\"M120-120v-720h720v720H120Zm60-500h600v-160H180v160Zm220 220h160v-160H400v160Zm0 220h160v-160H400v160ZM180-400h160v-160H180v160Zm440 0h160v-160H620v160ZM180-180h160v-160H180v160Zm440 0h160v-160H620v160Z\"/>\n",
              "  </svg>\n",
              "    </button>\n",
              "\n",
              "  <style>\n",
              "    .colab-df-container {\n",
              "      display:flex;\n",
              "      gap: 12px;\n",
              "    }\n",
              "\n",
              "    .colab-df-convert {\n",
              "      background-color: #E8F0FE;\n",
              "      border: none;\n",
              "      border-radius: 50%;\n",
              "      cursor: pointer;\n",
              "      display: none;\n",
              "      fill: #1967D2;\n",
              "      height: 32px;\n",
              "      padding: 0 0 0 0;\n",
              "      width: 32px;\n",
              "    }\n",
              "\n",
              "    .colab-df-convert:hover {\n",
              "      background-color: #E2EBFA;\n",
              "      box-shadow: 0px 1px 2px rgba(60, 64, 67, 0.3), 0px 1px 3px 1px rgba(60, 64, 67, 0.15);\n",
              "      fill: #174EA6;\n",
              "    }\n",
              "\n",
              "    .colab-df-buttons div {\n",
              "      margin-bottom: 4px;\n",
              "    }\n",
              "\n",
              "    [theme=dark] .colab-df-convert {\n",
              "      background-color: #3B4455;\n",
              "      fill: #D2E3FC;\n",
              "    }\n",
              "\n",
              "    [theme=dark] .colab-df-convert:hover {\n",
              "      background-color: #434B5C;\n",
              "      box-shadow: 0px 1px 3px 1px rgba(0, 0, 0, 0.15);\n",
              "      filter: drop-shadow(0px 1px 2px rgba(0, 0, 0, 0.3));\n",
              "      fill: #FFFFFF;\n",
              "    }\n",
              "  </style>\n",
              "\n",
              "    <script>\n",
              "      const buttonEl =\n",
              "        document.querySelector('#df-5cf88134-11d9-4ef1-bab7-e7023dd40a8c button.colab-df-convert');\n",
              "      buttonEl.style.display =\n",
              "        google.colab.kernel.accessAllowed ? 'block' : 'none';\n",
              "\n",
              "      async function convertToInteractive(key) {\n",
              "        const element = document.querySelector('#df-5cf88134-11d9-4ef1-bab7-e7023dd40a8c');\n",
              "        const dataTable =\n",
              "          await google.colab.kernel.invokeFunction('convertToInteractive',\n",
              "                                                    [key], {});\n",
              "        if (!dataTable) return;\n",
              "\n",
              "        const docLinkHtml = 'Like what you see? Visit the ' +\n",
              "          '<a target=\"_blank\" href=https://colab.research.google.com/notebooks/data_table.ipynb>data table notebook</a>'\n",
              "          + ' to learn more about interactive tables.';\n",
              "        element.innerHTML = '';\n",
              "        dataTable['output_type'] = 'display_data';\n",
              "        await google.colab.output.renderOutput(dataTable, element);\n",
              "        const docLink = document.createElement('div');\n",
              "        docLink.innerHTML = docLinkHtml;\n",
              "        element.appendChild(docLink);\n",
              "      }\n",
              "    </script>\n",
              "  </div>\n",
              "\n",
              "\n",
              "<div id=\"df-bd2555a9-9e56-4a18-8c9b-89ad8d7c4e24\">\n",
              "  <button class=\"colab-df-quickchart\" onclick=\"quickchart('df-bd2555a9-9e56-4a18-8c9b-89ad8d7c4e24')\"\n",
              "            title=\"Suggest charts.\"\n",
              "            style=\"display:none;\">\n",
              "\n",
              "<svg xmlns=\"http://www.w3.org/2000/svg\" height=\"24px\"viewBox=\"0 0 24 24\"\n",
              "     width=\"24px\">\n",
              "    <g>\n",
              "        <path d=\"M19 3H5c-1.1 0-2 .9-2 2v14c0 1.1.9 2 2 2h14c1.1 0 2-.9 2-2V5c0-1.1-.9-2-2-2zM9 17H7v-7h2v7zm4 0h-2V7h2v10zm4 0h-2v-4h2v4z\"/>\n",
              "    </g>\n",
              "</svg>\n",
              "  </button>\n",
              "\n",
              "<style>\n",
              "  .colab-df-quickchart {\n",
              "      --bg-color: #E8F0FE;\n",
              "      --fill-color: #1967D2;\n",
              "      --hover-bg-color: #E2EBFA;\n",
              "      --hover-fill-color: #174EA6;\n",
              "      --disabled-fill-color: #AAA;\n",
              "      --disabled-bg-color: #DDD;\n",
              "  }\n",
              "\n",
              "  [theme=dark] .colab-df-quickchart {\n",
              "      --bg-color: #3B4455;\n",
              "      --fill-color: #D2E3FC;\n",
              "      --hover-bg-color: #434B5C;\n",
              "      --hover-fill-color: #FFFFFF;\n",
              "      --disabled-bg-color: #3B4455;\n",
              "      --disabled-fill-color: #666;\n",
              "  }\n",
              "\n",
              "  .colab-df-quickchart {\n",
              "    background-color: var(--bg-color);\n",
              "    border: none;\n",
              "    border-radius: 50%;\n",
              "    cursor: pointer;\n",
              "    display: none;\n",
              "    fill: var(--fill-color);\n",
              "    height: 32px;\n",
              "    padding: 0;\n",
              "    width: 32px;\n",
              "  }\n",
              "\n",
              "  .colab-df-quickchart:hover {\n",
              "    background-color: var(--hover-bg-color);\n",
              "    box-shadow: 0 1px 2px rgba(60, 64, 67, 0.3), 0 1px 3px 1px rgba(60, 64, 67, 0.15);\n",
              "    fill: var(--button-hover-fill-color);\n",
              "  }\n",
              "\n",
              "  .colab-df-quickchart-complete:disabled,\n",
              "  .colab-df-quickchart-complete:disabled:hover {\n",
              "    background-color: var(--disabled-bg-color);\n",
              "    fill: var(--disabled-fill-color);\n",
              "    box-shadow: none;\n",
              "  }\n",
              "\n",
              "  .colab-df-spinner {\n",
              "    border: 2px solid var(--fill-color);\n",
              "    border-color: transparent;\n",
              "    border-bottom-color: var(--fill-color);\n",
              "    animation:\n",
              "      spin 1s steps(1) infinite;\n",
              "  }\n",
              "\n",
              "  @keyframes spin {\n",
              "    0% {\n",
              "      border-color: transparent;\n",
              "      border-bottom-color: var(--fill-color);\n",
              "      border-left-color: var(--fill-color);\n",
              "    }\n",
              "    20% {\n",
              "      border-color: transparent;\n",
              "      border-left-color: var(--fill-color);\n",
              "      border-top-color: var(--fill-color);\n",
              "    }\n",
              "    30% {\n",
              "      border-color: transparent;\n",
              "      border-left-color: var(--fill-color);\n",
              "      border-top-color: var(--fill-color);\n",
              "      border-right-color: var(--fill-color);\n",
              "    }\n",
              "    40% {\n",
              "      border-color: transparent;\n",
              "      border-right-color: var(--fill-color);\n",
              "      border-top-color: var(--fill-color);\n",
              "    }\n",
              "    60% {\n",
              "      border-color: transparent;\n",
              "      border-right-color: var(--fill-color);\n",
              "    }\n",
              "    80% {\n",
              "      border-color: transparent;\n",
              "      border-right-color: var(--fill-color);\n",
              "      border-bottom-color: var(--fill-color);\n",
              "    }\n",
              "    90% {\n",
              "      border-color: transparent;\n",
              "      border-bottom-color: var(--fill-color);\n",
              "    }\n",
              "  }\n",
              "</style>\n",
              "\n",
              "  <script>\n",
              "    async function quickchart(key) {\n",
              "      const quickchartButtonEl =\n",
              "        document.querySelector('#' + key + ' button');\n",
              "      quickchartButtonEl.disabled = true;  // To prevent multiple clicks.\n",
              "      quickchartButtonEl.classList.add('colab-df-spinner');\n",
              "      try {\n",
              "        const charts = await google.colab.kernel.invokeFunction(\n",
              "            'suggestCharts', [key], {});\n",
              "      } catch (error) {\n",
              "        console.error('Error during call to suggestCharts:', error);\n",
              "      }\n",
              "      quickchartButtonEl.classList.remove('colab-df-spinner');\n",
              "      quickchartButtonEl.classList.add('colab-df-quickchart-complete');\n",
              "    }\n",
              "    (() => {\n",
              "      let quickchartButtonEl =\n",
              "        document.querySelector('#df-bd2555a9-9e56-4a18-8c9b-89ad8d7c4e24 button');\n",
              "      quickchartButtonEl.style.display =\n",
              "        google.colab.kernel.accessAllowed ? 'block' : 'none';\n",
              "    })();\n",
              "  </script>\n",
              "</div>\n",
              "    </div>\n",
              "  </div>\n"
            ]
          },
          "metadata": {},
          "execution_count": 44
        }
      ]
    },
    {
      "cell_type": "markdown",
      "source": [
        "**Test-Train Split**"
      ],
      "metadata": {
        "id": "mRtUveVmHIiK"
      }
    },
    {
      "cell_type": "code",
      "source": [
        "X_train, X_test, y_train, y_test = train_test_split(list(df['word2vec']), df['sentiment'], test_size=0.2, random_state=42)"
      ],
      "metadata": {
        "id": "ysaYmCedHERy"
      },
      "execution_count": null,
      "outputs": []
    },
    {
      "cell_type": "markdown",
      "source": [
        "**Logistic Regression**"
      ],
      "metadata": {
        "id": "SqWsDwSvHKvP"
      }
    },
    {
      "cell_type": "code",
      "source": [
        "lr = LogisticRegression()\n",
        "lr.fit(X_train, y_train)\n",
        "y_pred = lr.predict(X_test)"
      ],
      "metadata": {
        "id": "93rX2eU3HMR5"
      },
      "execution_count": null,
      "outputs": []
    },
    {
      "cell_type": "code",
      "source": [
        "print(classification_report(y_test, y_pred))"
      ],
      "metadata": {
        "id": "6j-gSYzIHQK_",
        "colab": {
          "base_uri": "https://localhost:8080/"
        },
        "outputId": "50f41538-d5b3-4349-f134-e916a07e1901"
      },
      "execution_count": null,
      "outputs": [
        {
          "output_type": "stream",
          "name": "stdout",
          "text": [
            "              precision    recall  f1-score   support\n",
            "\n",
            "    negative       0.57      0.56      0.57       195\n",
            "    positive       0.59      0.59      0.59       205\n",
            "\n",
            "    accuracy                           0.58       400\n",
            "   macro avg       0.58      0.58      0.58       400\n",
            "weighted avg       0.58      0.58      0.58       400\n",
            "\n"
          ]
        }
      ]
    },
    {
      "cell_type": "code",
      "source": [
        "confusion_matrix(y_test, y_pred)"
      ],
      "metadata": {
        "id": "KvDeYJaCJYl1",
        "colab": {
          "base_uri": "https://localhost:8080/"
        },
        "outputId": "c739f401-55e5-47c9-b4b8-2f06c36b3289"
      },
      "execution_count": null,
      "outputs": [
        {
          "output_type": "execute_result",
          "data": {
            "text/plain": [
              "array([[110,  85],\n",
              "       [ 84, 121]])"
            ]
          },
          "metadata": {},
          "execution_count": 48
        }
      ]
    },
    {
      "cell_type": "code",
      "source": [
        "accuracy = accuracy_score(y_test, y_pred)\n",
        "print(f\"Accuracy of Logistic Regression using Word2Vec: {100*accuracy:.2f} %\")"
      ],
      "metadata": {
        "id": "BsXDzVnsKthM",
        "colab": {
          "base_uri": "https://localhost:8080/"
        },
        "outputId": "f25b7827-aaee-46e0-8ca8-9201a4b5568b"
      },
      "execution_count": null,
      "outputs": [
        {
          "output_type": "stream",
          "name": "stdout",
          "text": [
            "Accuracy of Logistic Regression using Word2Vec: 57.75 %\n"
          ]
        }
      ]
    },
    {
      "cell_type": "code",
      "source": [
        "!jupyter nbconvert --to html \"/content/60009200040_ACL_D11_Lab2.ipynb\""
      ],
      "metadata": {
        "colab": {
          "base_uri": "https://localhost:8080/"
        },
        "id": "rcnW33R3NhRs",
        "outputId": "62491d17-9b13-4da6-919d-ce147a93f49b"
      },
      "execution_count": null,
      "outputs": [
        {
          "output_type": "stream",
          "name": "stdout",
          "text": [
            "[NbConvertApp] Converting notebook /content/60009200040_ACL_D11_Lab2.ipynb to html\n",
            "[NbConvertApp] Writing 848980 bytes to /content/60009200040_ACL_D11_Lab2.html\n"
          ]
        }
      ]
    }
  ]
}